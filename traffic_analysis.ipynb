{
 "cells": [
  {
   "cell_type": "code",
   "execution_count": 403,
   "metadata": {},
   "outputs": [],
   "source": [
    "import pandas as pd\n",
    "import plotly.graph_objects as go\n",
    "import plotly.express as px\n",
    "import numpy as np\n",
    "from ast import literal_eval\n",
    "\n",
    "import datetime"
   ]
  },
  {
   "cell_type": "markdown",
   "metadata": {},
   "source": [
    "## Part 1. Aggregated data exploration"
   ]
  },
  {
   "cell_type": "markdown",
   "metadata": {},
   "source": [
    "Import total traffic per day (clicks, impressions).  \n",
    "Answering the question of what is daily distribution of clicks and impressions per day"
   ]
  },
  {
   "cell_type": "code",
   "execution_count": 62,
   "metadata": {},
   "outputs": [
    {
     "name": "stderr",
     "output_type": "stream",
     "text": [
      "/var/folders/0z/wp46fdb16j11vgx66n1nql3h3zkrhs/T/ipykernel_87812/2181575762.py:1: UserWarning:\n",
      "\n",
      "Could not infer format, so each element will be parsed individually, falling back to `dateutil`. To ensure parsing is consistent and as-expected, please specify a format.\n",
      "\n"
     ]
    },
    {
     "data": {
      "text/html": [
       "<div>\n",
       "<style scoped>\n",
       "    .dataframe tbody tr th:only-of-type {\n",
       "        vertical-align: middle;\n",
       "    }\n",
       "\n",
       "    .dataframe tbody tr th {\n",
       "        vertical-align: top;\n",
       "    }\n",
       "\n",
       "    .dataframe thead th {\n",
       "        text-align: right;\n",
       "    }\n",
       "</style>\n",
       "<table border=\"1\" class=\"dataframe\">\n",
       "  <thead>\n",
       "    <tr style=\"text-align: right;\">\n",
       "      <th></th>\n",
       "      <th>date</th>\n",
       "      <th>clicks</th>\n",
       "      <th>impressions</th>\n",
       "    </tr>\n",
       "  </thead>\n",
       "  <tbody>\n",
       "    <tr>\n",
       "      <th>0</th>\n",
       "      <td>2023-07-01</td>\n",
       "      <td>233660</td>\n",
       "      <td>1448626</td>\n",
       "    </tr>\n",
       "    <tr>\n",
       "      <th>1</th>\n",
       "      <td>2023-07-02</td>\n",
       "      <td>384158</td>\n",
       "      <td>2084356</td>\n",
       "    </tr>\n",
       "    <tr>\n",
       "      <th>2</th>\n",
       "      <td>2023-07-03</td>\n",
       "      <td>254399</td>\n",
       "      <td>1277107</td>\n",
       "    </tr>\n",
       "    <tr>\n",
       "      <th>3</th>\n",
       "      <td>2023-07-04</td>\n",
       "      <td>140350</td>\n",
       "      <td>811215</td>\n",
       "    </tr>\n",
       "    <tr>\n",
       "      <th>4</th>\n",
       "      <td>2023-07-05</td>\n",
       "      <td>136855</td>\n",
       "      <td>869073</td>\n",
       "    </tr>\n",
       "    <tr>\n",
       "      <th>5</th>\n",
       "      <td>2023-07-06</td>\n",
       "      <td>172936</td>\n",
       "      <td>1041414</td>\n",
       "    </tr>\n",
       "    <tr>\n",
       "      <th>6</th>\n",
       "      <td>2023-07-07</td>\n",
       "      <td>146744</td>\n",
       "      <td>913316</td>\n",
       "    </tr>\n",
       "  </tbody>\n",
       "</table>\n",
       "</div>"
      ],
      "text/plain": [
       "        date  clicks  impressions\n",
       "0 2023-07-01  233660      1448626\n",
       "1 2023-07-02  384158      2084356\n",
       "2 2023-07-03  254399      1277107\n",
       "3 2023-07-04  140350       811215\n",
       "4 2023-07-05  136855       869073\n",
       "5 2023-07-06  172936      1041414\n",
       "6 2023-07-07  146744       913316"
      ]
     },
     "execution_count": 62,
     "metadata": {},
     "output_type": "execute_result"
    }
   ],
   "source": [
    "traffic_per_day_hour = pd.read_csv(\"resources/total_traffic_per_date_hour.csv\", parse_dates=[['date', 'hour']])\n",
    "traffic_per_day_hour['date'] = traffic_per_day_hour['date_hour'].apply(lambda x: x.split(' ')[0])\n",
    "traffic_per_day_hour['date'] = pd.to_datetime(traffic_per_day_hour['date'])\n",
    "traffic_per_day = traffic_per_day_hour.groupby('date').agg({'clicks':sum, 'impressions':sum}).reset_index()\n",
    "traffic_per_day"
   ]
  },
  {
   "cell_type": "markdown",
   "metadata": {},
   "source": [
    "Bar chart with total clicks and impressions per day"
   ]
  },
  {
   "cell_type": "code",
   "execution_count": 63,
   "metadata": {},
   "outputs": [
    {
     "data": {
      "application/vnd.plotly.v1+json": {
       "config": {
        "plotlyServerURL": "https://plot.ly"
       },
       "data": [
        {
         "marker": {
          "color": "indianred"
         },
         "name": "Clicks",
         "text": [
          233660,
          384158,
          254399,
          140350,
          136855,
          172936,
          146744
         ],
         "textposition": "inside",
         "type": "bar",
         "x": [
          "2023-07-01T00:00:00",
          "2023-07-02T00:00:00",
          "2023-07-03T00:00:00",
          "2023-07-04T00:00:00",
          "2023-07-05T00:00:00",
          "2023-07-06T00:00:00",
          "2023-07-07T00:00:00"
         ],
         "y": [
          233660,
          384158,
          254399,
          140350,
          136855,
          172936,
          146744
         ]
        },
        {
         "marker": {
          "color": "lightsalmon"
         },
         "name": "Impressions",
         "text": [
          1448626,
          2084356,
          1277107,
          811215,
          869073,
          1041414,
          913316
         ],
         "textposition": "outside",
         "type": "bar",
         "x": [
          "2023-07-01T00:00:00",
          "2023-07-02T00:00:00",
          "2023-07-03T00:00:00",
          "2023-07-04T00:00:00",
          "2023-07-05T00:00:00",
          "2023-07-06T00:00:00",
          "2023-07-07T00:00:00"
         ],
         "y": [
          1448626,
          2084356,
          1277107,
          811215,
          869073,
          1041414,
          913316
         ]
        }
       ],
       "layout": {
        "template": {
         "data": {
          "bar": [
           {
            "error_x": {
             "color": "#2a3f5f"
            },
            "error_y": {
             "color": "#2a3f5f"
            },
            "marker": {
             "line": {
              "color": "#E5ECF6",
              "width": 0.5
             },
             "pattern": {
              "fillmode": "overlay",
              "size": 10,
              "solidity": 0.2
             }
            },
            "type": "bar"
           }
          ],
          "barpolar": [
           {
            "marker": {
             "line": {
              "color": "#E5ECF6",
              "width": 0.5
             },
             "pattern": {
              "fillmode": "overlay",
              "size": 10,
              "solidity": 0.2
             }
            },
            "type": "barpolar"
           }
          ],
          "carpet": [
           {
            "aaxis": {
             "endlinecolor": "#2a3f5f",
             "gridcolor": "white",
             "linecolor": "white",
             "minorgridcolor": "white",
             "startlinecolor": "#2a3f5f"
            },
            "baxis": {
             "endlinecolor": "#2a3f5f",
             "gridcolor": "white",
             "linecolor": "white",
             "minorgridcolor": "white",
             "startlinecolor": "#2a3f5f"
            },
            "type": "carpet"
           }
          ],
          "choropleth": [
           {
            "colorbar": {
             "outlinewidth": 0,
             "ticks": ""
            },
            "type": "choropleth"
           }
          ],
          "contour": [
           {
            "colorbar": {
             "outlinewidth": 0,
             "ticks": ""
            },
            "colorscale": [
             [
              0,
              "#0d0887"
             ],
             [
              0.1111111111111111,
              "#46039f"
             ],
             [
              0.2222222222222222,
              "#7201a8"
             ],
             [
              0.3333333333333333,
              "#9c179e"
             ],
             [
              0.4444444444444444,
              "#bd3786"
             ],
             [
              0.5555555555555556,
              "#d8576b"
             ],
             [
              0.6666666666666666,
              "#ed7953"
             ],
             [
              0.7777777777777778,
              "#fb9f3a"
             ],
             [
              0.8888888888888888,
              "#fdca26"
             ],
             [
              1,
              "#f0f921"
             ]
            ],
            "type": "contour"
           }
          ],
          "contourcarpet": [
           {
            "colorbar": {
             "outlinewidth": 0,
             "ticks": ""
            },
            "type": "contourcarpet"
           }
          ],
          "heatmap": [
           {
            "colorbar": {
             "outlinewidth": 0,
             "ticks": ""
            },
            "colorscale": [
             [
              0,
              "#0d0887"
             ],
             [
              0.1111111111111111,
              "#46039f"
             ],
             [
              0.2222222222222222,
              "#7201a8"
             ],
             [
              0.3333333333333333,
              "#9c179e"
             ],
             [
              0.4444444444444444,
              "#bd3786"
             ],
             [
              0.5555555555555556,
              "#d8576b"
             ],
             [
              0.6666666666666666,
              "#ed7953"
             ],
             [
              0.7777777777777778,
              "#fb9f3a"
             ],
             [
              0.8888888888888888,
              "#fdca26"
             ],
             [
              1,
              "#f0f921"
             ]
            ],
            "type": "heatmap"
           }
          ],
          "heatmapgl": [
           {
            "colorbar": {
             "outlinewidth": 0,
             "ticks": ""
            },
            "colorscale": [
             [
              0,
              "#0d0887"
             ],
             [
              0.1111111111111111,
              "#46039f"
             ],
             [
              0.2222222222222222,
              "#7201a8"
             ],
             [
              0.3333333333333333,
              "#9c179e"
             ],
             [
              0.4444444444444444,
              "#bd3786"
             ],
             [
              0.5555555555555556,
              "#d8576b"
             ],
             [
              0.6666666666666666,
              "#ed7953"
             ],
             [
              0.7777777777777778,
              "#fb9f3a"
             ],
             [
              0.8888888888888888,
              "#fdca26"
             ],
             [
              1,
              "#f0f921"
             ]
            ],
            "type": "heatmapgl"
           }
          ],
          "histogram": [
           {
            "marker": {
             "pattern": {
              "fillmode": "overlay",
              "size": 10,
              "solidity": 0.2
             }
            },
            "type": "histogram"
           }
          ],
          "histogram2d": [
           {
            "colorbar": {
             "outlinewidth": 0,
             "ticks": ""
            },
            "colorscale": [
             [
              0,
              "#0d0887"
             ],
             [
              0.1111111111111111,
              "#46039f"
             ],
             [
              0.2222222222222222,
              "#7201a8"
             ],
             [
              0.3333333333333333,
              "#9c179e"
             ],
             [
              0.4444444444444444,
              "#bd3786"
             ],
             [
              0.5555555555555556,
              "#d8576b"
             ],
             [
              0.6666666666666666,
              "#ed7953"
             ],
             [
              0.7777777777777778,
              "#fb9f3a"
             ],
             [
              0.8888888888888888,
              "#fdca26"
             ],
             [
              1,
              "#f0f921"
             ]
            ],
            "type": "histogram2d"
           }
          ],
          "histogram2dcontour": [
           {
            "colorbar": {
             "outlinewidth": 0,
             "ticks": ""
            },
            "colorscale": [
             [
              0,
              "#0d0887"
             ],
             [
              0.1111111111111111,
              "#46039f"
             ],
             [
              0.2222222222222222,
              "#7201a8"
             ],
             [
              0.3333333333333333,
              "#9c179e"
             ],
             [
              0.4444444444444444,
              "#bd3786"
             ],
             [
              0.5555555555555556,
              "#d8576b"
             ],
             [
              0.6666666666666666,
              "#ed7953"
             ],
             [
              0.7777777777777778,
              "#fb9f3a"
             ],
             [
              0.8888888888888888,
              "#fdca26"
             ],
             [
              1,
              "#f0f921"
             ]
            ],
            "type": "histogram2dcontour"
           }
          ],
          "mesh3d": [
           {
            "colorbar": {
             "outlinewidth": 0,
             "ticks": ""
            },
            "type": "mesh3d"
           }
          ],
          "parcoords": [
           {
            "line": {
             "colorbar": {
              "outlinewidth": 0,
              "ticks": ""
             }
            },
            "type": "parcoords"
           }
          ],
          "pie": [
           {
            "automargin": true,
            "type": "pie"
           }
          ],
          "scatter": [
           {
            "fillpattern": {
             "fillmode": "overlay",
             "size": 10,
             "solidity": 0.2
            },
            "type": "scatter"
           }
          ],
          "scatter3d": [
           {
            "line": {
             "colorbar": {
              "outlinewidth": 0,
              "ticks": ""
             }
            },
            "marker": {
             "colorbar": {
              "outlinewidth": 0,
              "ticks": ""
             }
            },
            "type": "scatter3d"
           }
          ],
          "scattercarpet": [
           {
            "marker": {
             "colorbar": {
              "outlinewidth": 0,
              "ticks": ""
             }
            },
            "type": "scattercarpet"
           }
          ],
          "scattergeo": [
           {
            "marker": {
             "colorbar": {
              "outlinewidth": 0,
              "ticks": ""
             }
            },
            "type": "scattergeo"
           }
          ],
          "scattergl": [
           {
            "marker": {
             "colorbar": {
              "outlinewidth": 0,
              "ticks": ""
             }
            },
            "type": "scattergl"
           }
          ],
          "scattermapbox": [
           {
            "marker": {
             "colorbar": {
              "outlinewidth": 0,
              "ticks": ""
             }
            },
            "type": "scattermapbox"
           }
          ],
          "scatterpolar": [
           {
            "marker": {
             "colorbar": {
              "outlinewidth": 0,
              "ticks": ""
             }
            },
            "type": "scatterpolar"
           }
          ],
          "scatterpolargl": [
           {
            "marker": {
             "colorbar": {
              "outlinewidth": 0,
              "ticks": ""
             }
            },
            "type": "scatterpolargl"
           }
          ],
          "scatterternary": [
           {
            "marker": {
             "colorbar": {
              "outlinewidth": 0,
              "ticks": ""
             }
            },
            "type": "scatterternary"
           }
          ],
          "surface": [
           {
            "colorbar": {
             "outlinewidth": 0,
             "ticks": ""
            },
            "colorscale": [
             [
              0,
              "#0d0887"
             ],
             [
              0.1111111111111111,
              "#46039f"
             ],
             [
              0.2222222222222222,
              "#7201a8"
             ],
             [
              0.3333333333333333,
              "#9c179e"
             ],
             [
              0.4444444444444444,
              "#bd3786"
             ],
             [
              0.5555555555555556,
              "#d8576b"
             ],
             [
              0.6666666666666666,
              "#ed7953"
             ],
             [
              0.7777777777777778,
              "#fb9f3a"
             ],
             [
              0.8888888888888888,
              "#fdca26"
             ],
             [
              1,
              "#f0f921"
             ]
            ],
            "type": "surface"
           }
          ],
          "table": [
           {
            "cells": {
             "fill": {
              "color": "#EBF0F8"
             },
             "line": {
              "color": "white"
             }
            },
            "header": {
             "fill": {
              "color": "#C8D4E3"
             },
             "line": {
              "color": "white"
             }
            },
            "type": "table"
           }
          ]
         },
         "layout": {
          "annotationdefaults": {
           "arrowcolor": "#2a3f5f",
           "arrowhead": 0,
           "arrowwidth": 1
          },
          "autotypenumbers": "strict",
          "coloraxis": {
           "colorbar": {
            "outlinewidth": 0,
            "ticks": ""
           }
          },
          "colorscale": {
           "diverging": [
            [
             0,
             "#8e0152"
            ],
            [
             0.1,
             "#c51b7d"
            ],
            [
             0.2,
             "#de77ae"
            ],
            [
             0.3,
             "#f1b6da"
            ],
            [
             0.4,
             "#fde0ef"
            ],
            [
             0.5,
             "#f7f7f7"
            ],
            [
             0.6,
             "#e6f5d0"
            ],
            [
             0.7,
             "#b8e186"
            ],
            [
             0.8,
             "#7fbc41"
            ],
            [
             0.9,
             "#4d9221"
            ],
            [
             1,
             "#276419"
            ]
           ],
           "sequential": [
            [
             0,
             "#0d0887"
            ],
            [
             0.1111111111111111,
             "#46039f"
            ],
            [
             0.2222222222222222,
             "#7201a8"
            ],
            [
             0.3333333333333333,
             "#9c179e"
            ],
            [
             0.4444444444444444,
             "#bd3786"
            ],
            [
             0.5555555555555556,
             "#d8576b"
            ],
            [
             0.6666666666666666,
             "#ed7953"
            ],
            [
             0.7777777777777778,
             "#fb9f3a"
            ],
            [
             0.8888888888888888,
             "#fdca26"
            ],
            [
             1,
             "#f0f921"
            ]
           ],
           "sequentialminus": [
            [
             0,
             "#0d0887"
            ],
            [
             0.1111111111111111,
             "#46039f"
            ],
            [
             0.2222222222222222,
             "#7201a8"
            ],
            [
             0.3333333333333333,
             "#9c179e"
            ],
            [
             0.4444444444444444,
             "#bd3786"
            ],
            [
             0.5555555555555556,
             "#d8576b"
            ],
            [
             0.6666666666666666,
             "#ed7953"
            ],
            [
             0.7777777777777778,
             "#fb9f3a"
            ],
            [
             0.8888888888888888,
             "#fdca26"
            ],
            [
             1,
             "#f0f921"
            ]
           ]
          },
          "colorway": [
           "#636efa",
           "#EF553B",
           "#00cc96",
           "#ab63fa",
           "#FFA15A",
           "#19d3f3",
           "#FF6692",
           "#B6E880",
           "#FF97FF",
           "#FECB52"
          ],
          "font": {
           "color": "#2a3f5f"
          },
          "geo": {
           "bgcolor": "white",
           "lakecolor": "white",
           "landcolor": "#E5ECF6",
           "showlakes": true,
           "showland": true,
           "subunitcolor": "white"
          },
          "hoverlabel": {
           "align": "left"
          },
          "hovermode": "closest",
          "mapbox": {
           "style": "light"
          },
          "paper_bgcolor": "white",
          "plot_bgcolor": "#E5ECF6",
          "polar": {
           "angularaxis": {
            "gridcolor": "white",
            "linecolor": "white",
            "ticks": ""
           },
           "bgcolor": "#E5ECF6",
           "radialaxis": {
            "gridcolor": "white",
            "linecolor": "white",
            "ticks": ""
           }
          },
          "scene": {
           "xaxis": {
            "backgroundcolor": "#E5ECF6",
            "gridcolor": "white",
            "gridwidth": 2,
            "linecolor": "white",
            "showbackground": true,
            "ticks": "",
            "zerolinecolor": "white"
           },
           "yaxis": {
            "backgroundcolor": "#E5ECF6",
            "gridcolor": "white",
            "gridwidth": 2,
            "linecolor": "white",
            "showbackground": true,
            "ticks": "",
            "zerolinecolor": "white"
           },
           "zaxis": {
            "backgroundcolor": "#E5ECF6",
            "gridcolor": "white",
            "gridwidth": 2,
            "linecolor": "white",
            "showbackground": true,
            "ticks": "",
            "zerolinecolor": "white"
           }
          },
          "shapedefaults": {
           "line": {
            "color": "#2a3f5f"
           }
          },
          "ternary": {
           "aaxis": {
            "gridcolor": "white",
            "linecolor": "white",
            "ticks": ""
           },
           "baxis": {
            "gridcolor": "white",
            "linecolor": "white",
            "ticks": ""
           },
           "bgcolor": "#E5ECF6",
           "caxis": {
            "gridcolor": "white",
            "linecolor": "white",
            "ticks": ""
           }
          },
          "title": {
           "x": 0.05
          },
          "xaxis": {
           "automargin": true,
           "gridcolor": "white",
           "linecolor": "white",
           "ticks": "",
           "title": {
            "standoff": 15
           },
           "zerolinecolor": "white",
           "zerolinewidth": 2
          },
          "yaxis": {
           "automargin": true,
           "gridcolor": "white",
           "linecolor": "white",
           "ticks": "",
           "title": {
            "standoff": 15
           },
           "zerolinecolor": "white",
           "zerolinewidth": 2
          }
         }
        },
        "title": {
         "text": "User activity per day"
        },
        "xaxis": {
         "tickformat": "%a, %d %B",
         "title": {
          "text": "Date"
         }
        },
        "yaxis": {
         "title": {
          "text": "Clicks"
         }
        }
       }
      }
     },
     "metadata": {},
     "output_type": "display_data"
    }
   ],
   "source": [
    "fig = go.Figure()\n",
    "fig.add_trace(go.Bar(x=traffic_per_day[\"date\"], y=traffic_per_day[\"clicks\"],\n",
    "                    marker_color='indianred',\n",
    "                    name='Clicks',\n",
    "                    text=traffic_per_day[\"clicks\"], textposition='inside'))\n",
    "fig.add_trace(go.Bar(x=traffic_per_day[\"date\"], y=traffic_per_day[\"impressions\"],\n",
    "                    marker_color='lightsalmon',\n",
    "                    name='Impressions',\n",
    "                    text=traffic_per_day[\"impressions\"], textposition='outside'))\n",
    "\n",
    "fig.update_layout(\n",
    "    title=\"User activity per day\",\n",
    "    xaxis_title=\"Date\",\n",
    "    yaxis_title=\"Clicks\" \n",
    ")\n",
    "fig.update_xaxes(\n",
    "    tickformat=\"%a, %d %B\"\n",
    ")\n",
    "\n",
    "fig.show()"
   ]
  },
  {
   "cell_type": "markdown",
   "metadata": {},
   "source": [
    "Aggregating the same data by day and hour to answer the qustion of hourly user activity"
   ]
  },
  {
   "cell_type": "code",
   "execution_count": 65,
   "metadata": {},
   "outputs": [
    {
     "data": {
      "text/html": [
       "<div>\n",
       "<style scoped>\n",
       "    .dataframe tbody tr th:only-of-type {\n",
       "        vertical-align: middle;\n",
       "    }\n",
       "\n",
       "    .dataframe tbody tr th {\n",
       "        vertical-align: top;\n",
       "    }\n",
       "\n",
       "    .dataframe thead th {\n",
       "        text-align: right;\n",
       "    }\n",
       "</style>\n",
       "<table border=\"1\" class=\"dataframe\">\n",
       "  <thead>\n",
       "    <tr style=\"text-align: right;\">\n",
       "      <th></th>\n",
       "      <th>date_hour</th>\n",
       "      <th>clicks</th>\n",
       "      <th>impressions</th>\n",
       "    </tr>\n",
       "  </thead>\n",
       "  <tbody>\n",
       "    <tr>\n",
       "      <th>0</th>\n",
       "      <td>2023-07-01 0</td>\n",
       "      <td>3685</td>\n",
       "      <td>23939</td>\n",
       "    </tr>\n",
       "    <tr>\n",
       "      <th>1</th>\n",
       "      <td>2023-07-01 1</td>\n",
       "      <td>1639</td>\n",
       "      <td>11462</td>\n",
       "    </tr>\n",
       "    <tr>\n",
       "      <th>2</th>\n",
       "      <td>2023-07-01 10</td>\n",
       "      <td>24314</td>\n",
       "      <td>128662</td>\n",
       "    </tr>\n",
       "    <tr>\n",
       "      <th>3</th>\n",
       "      <td>2023-07-01 11</td>\n",
       "      <td>18039</td>\n",
       "      <td>103419</td>\n",
       "    </tr>\n",
       "    <tr>\n",
       "      <th>4</th>\n",
       "      <td>2023-07-01 12</td>\n",
       "      <td>11193</td>\n",
       "      <td>68875</td>\n",
       "    </tr>\n",
       "    <tr>\n",
       "      <th>...</th>\n",
       "      <td>...</td>\n",
       "      <td>...</td>\n",
       "      <td>...</td>\n",
       "    </tr>\n",
       "    <tr>\n",
       "      <th>163</th>\n",
       "      <td>2023-07-07 5</td>\n",
       "      <td>1356</td>\n",
       "      <td>7727</td>\n",
       "    </tr>\n",
       "    <tr>\n",
       "      <th>164</th>\n",
       "      <td>2023-07-07 6</td>\n",
       "      <td>3575</td>\n",
       "      <td>20962</td>\n",
       "    </tr>\n",
       "    <tr>\n",
       "      <th>165</th>\n",
       "      <td>2023-07-07 7</td>\n",
       "      <td>5757</td>\n",
       "      <td>39820</td>\n",
       "    </tr>\n",
       "    <tr>\n",
       "      <th>166</th>\n",
       "      <td>2023-07-07 8</td>\n",
       "      <td>7215</td>\n",
       "      <td>52781</td>\n",
       "    </tr>\n",
       "    <tr>\n",
       "      <th>167</th>\n",
       "      <td>2023-07-07 9</td>\n",
       "      <td>6442</td>\n",
       "      <td>36281</td>\n",
       "    </tr>\n",
       "  </tbody>\n",
       "</table>\n",
       "<p>168 rows × 3 columns</p>\n",
       "</div>"
      ],
      "text/plain": [
       "         date_hour  clicks  impressions\n",
       "0     2023-07-01 0    3685        23939\n",
       "1     2023-07-01 1    1639        11462\n",
       "2    2023-07-01 10   24314       128662\n",
       "3    2023-07-01 11   18039       103419\n",
       "4    2023-07-01 12   11193        68875\n",
       "..             ...     ...          ...\n",
       "163   2023-07-07 5    1356         7727\n",
       "164   2023-07-07 6    3575        20962\n",
       "165   2023-07-07 7    5757        39820\n",
       "166   2023-07-07 8    7215        52781\n",
       "167   2023-07-07 9    6442        36281\n",
       "\n",
       "[168 rows x 3 columns]"
      ]
     },
     "execution_count": 65,
     "metadata": {},
     "output_type": "execute_result"
    }
   ],
   "source": [
    "traffic_per_hour = traffic_per_day_hour.groupby('date_hour').agg({'clicks':sum, 'impressions':sum}).reset_index().sort_values('date_hour')\n",
    "traffic_per_hour"
   ]
  },
  {
   "cell_type": "markdown",
   "metadata": {},
   "source": [
    "Bar chart of clicks per hour and day"
   ]
  },
  {
   "cell_type": "code",
   "execution_count": 183,
   "metadata": {},
   "outputs": [
    {
     "data": {
      "application/vnd.plotly.v1+json": {
       "config": {
        "plotlyServerURL": "https://plot.ly"
       },
       "data": [
        {
         "marker": {
          "color": "indianred"
         },
         "name": "Clicks",
         "type": "bar",
         "x": [
          "2023-07-01 0",
          "2023-07-01 1",
          "2023-07-01 10",
          "2023-07-01 11",
          "2023-07-01 12",
          "2023-07-01 13",
          "2023-07-01 14",
          "2023-07-01 15",
          "2023-07-01 16",
          "2023-07-01 17",
          "2023-07-01 18",
          "2023-07-01 19",
          "2023-07-01 2",
          "2023-07-01 20",
          "2023-07-01 21",
          "2023-07-01 22",
          "2023-07-01 23",
          "2023-07-01 3",
          "2023-07-01 4",
          "2023-07-01 5",
          "2023-07-01 6",
          "2023-07-01 7",
          "2023-07-01 8",
          "2023-07-01 9",
          "2023-07-02 0",
          "2023-07-02 1",
          "2023-07-02 10",
          "2023-07-02 11",
          "2023-07-02 12",
          "2023-07-02 13",
          "2023-07-02 14",
          "2023-07-02 15",
          "2023-07-02 16",
          "2023-07-02 17",
          "2023-07-02 18",
          "2023-07-02 19",
          "2023-07-02 2",
          "2023-07-02 20",
          "2023-07-02 21",
          "2023-07-02 22",
          "2023-07-02 23",
          "2023-07-02 3",
          "2023-07-02 4",
          "2023-07-02 5",
          "2023-07-02 6",
          "2023-07-02 7",
          "2023-07-02 8",
          "2023-07-02 9",
          "2023-07-03 0",
          "2023-07-03 1",
          "2023-07-03 10",
          "2023-07-03 11",
          "2023-07-03 12",
          "2023-07-03 13",
          "2023-07-03 14",
          "2023-07-03 15",
          "2023-07-03 16",
          "2023-07-03 17",
          "2023-07-03 18",
          "2023-07-03 19",
          "2023-07-03 2",
          "2023-07-03 20",
          "2023-07-03 21",
          "2023-07-03 22",
          "2023-07-03 23",
          "2023-07-03 3",
          "2023-07-03 4",
          "2023-07-03 5",
          "2023-07-03 6",
          "2023-07-03 7",
          "2023-07-03 8",
          "2023-07-03 9",
          "2023-07-04 0",
          "2023-07-04 1",
          "2023-07-04 10",
          "2023-07-04 11",
          "2023-07-04 12",
          "2023-07-04 13",
          "2023-07-04 14",
          "2023-07-04 15",
          "2023-07-04 16",
          "2023-07-04 17",
          "2023-07-04 18",
          "2023-07-04 19",
          "2023-07-04 2",
          "2023-07-04 20",
          "2023-07-04 21",
          "2023-07-04 22",
          "2023-07-04 23",
          "2023-07-04 3",
          "2023-07-04 4",
          "2023-07-04 5",
          "2023-07-04 6",
          "2023-07-04 7",
          "2023-07-04 8",
          "2023-07-04 9",
          "2023-07-05 0",
          "2023-07-05 1",
          "2023-07-05 10",
          "2023-07-05 11",
          "2023-07-05 12",
          "2023-07-05 13",
          "2023-07-05 14",
          "2023-07-05 15",
          "2023-07-05 16",
          "2023-07-05 17",
          "2023-07-05 18",
          "2023-07-05 19",
          "2023-07-05 2",
          "2023-07-05 20",
          "2023-07-05 21",
          "2023-07-05 22",
          "2023-07-05 23",
          "2023-07-05 3",
          "2023-07-05 4",
          "2023-07-05 5",
          "2023-07-05 6",
          "2023-07-05 7",
          "2023-07-05 8",
          "2023-07-05 9",
          "2023-07-06 0",
          "2023-07-06 1",
          "2023-07-06 10",
          "2023-07-06 11",
          "2023-07-06 12",
          "2023-07-06 13",
          "2023-07-06 14",
          "2023-07-06 15",
          "2023-07-06 16",
          "2023-07-06 17",
          "2023-07-06 18",
          "2023-07-06 19",
          "2023-07-06 2",
          "2023-07-06 20",
          "2023-07-06 21",
          "2023-07-06 22",
          "2023-07-06 23",
          "2023-07-06 3",
          "2023-07-06 4",
          "2023-07-06 5",
          "2023-07-06 6",
          "2023-07-06 7",
          "2023-07-06 8",
          "2023-07-06 9",
          "2023-07-07 0",
          "2023-07-07 1",
          "2023-07-07 10",
          "2023-07-07 11",
          "2023-07-07 12",
          "2023-07-07 13",
          "2023-07-07 14",
          "2023-07-07 15",
          "2023-07-07 16",
          "2023-07-07 17",
          "2023-07-07 18",
          "2023-07-07 19",
          "2023-07-07 2",
          "2023-07-07 20",
          "2023-07-07 21",
          "2023-07-07 22",
          "2023-07-07 23",
          "2023-07-07 3",
          "2023-07-07 4",
          "2023-07-07 5",
          "2023-07-07 6",
          "2023-07-07 7",
          "2023-07-07 8",
          "2023-07-07 9"
         ],
         "y": [
          3685,
          1639,
          24314,
          18039,
          11193,
          15724,
          11785,
          12897,
          11607,
          9508,
          10705,
          17838,
          1217,
          17432,
          13194,
          9905,
          11055,
          880,
          730,
          857,
          2042,
          5785,
          7230,
          14399,
          9892,
          4061,
          43018,
          29654,
          20260,
          18581,
          13414,
          13827,
          17201,
          26714,
          22056,
          26089,
          2682,
          19929,
          20729,
          18882,
          10719,
          1719,
          1201,
          2617,
          3560,
          8727,
          13028,
          35598,
          4589,
          3427,
          15227,
          21318,
          13775,
          16410,
          14071,
          12767,
          16115,
          17329,
          12359,
          11450,
          2617,
          14449,
          13902,
          12179,
          6604,
          1034,
          1509,
          2257,
          4709,
          9858,
          12015,
          14429,
          2617,
          1085,
          7307,
          7598,
          10245,
          6170,
          8457,
          8549,
          8752,
          8962,
          8657,
          10276,
          716,
          9315,
          7726,
          8388,
          4252,
          611,
          700,
          1468,
          2696,
          5521,
          5018,
          5264,
          2084,
          1233,
          7268,
          6652,
          6851,
          6413,
          8270,
          6925,
          6953,
          8275,
          10360,
          11146,
          677,
          6782,
          8683,
          7198,
          5175,
          578,
          687,
          1341,
          2677,
          4791,
          7156,
          8680,
          2710,
          1949,
          12802,
          11070,
          8248,
          9829,
          14016,
          8585,
          8948,
          10033,
          9333,
          9994,
          684,
          13869,
          13811,
          6924,
          5568,
          539,
          953,
          2131,
          2358,
          6459,
          5500,
          6623,
          2206,
          2147,
          7702,
          6949,
          8537,
          8718,
          9681,
          10387,
          10943,
          9041,
          6752,
          6724,
          596,
          9680,
          7747,
          7636,
          5797,
          477,
          679,
          1356,
          3575,
          5757,
          7215,
          6442
         ]
        }
       ],
       "layout": {
        "template": {
         "data": {
          "bar": [
           {
            "error_x": {
             "color": "#2a3f5f"
            },
            "error_y": {
             "color": "#2a3f5f"
            },
            "marker": {
             "line": {
              "color": "#E5ECF6",
              "width": 0.5
             },
             "pattern": {
              "fillmode": "overlay",
              "size": 10,
              "solidity": 0.2
             }
            },
            "type": "bar"
           }
          ],
          "barpolar": [
           {
            "marker": {
             "line": {
              "color": "#E5ECF6",
              "width": 0.5
             },
             "pattern": {
              "fillmode": "overlay",
              "size": 10,
              "solidity": 0.2
             }
            },
            "type": "barpolar"
           }
          ],
          "carpet": [
           {
            "aaxis": {
             "endlinecolor": "#2a3f5f",
             "gridcolor": "white",
             "linecolor": "white",
             "minorgridcolor": "white",
             "startlinecolor": "#2a3f5f"
            },
            "baxis": {
             "endlinecolor": "#2a3f5f",
             "gridcolor": "white",
             "linecolor": "white",
             "minorgridcolor": "white",
             "startlinecolor": "#2a3f5f"
            },
            "type": "carpet"
           }
          ],
          "choropleth": [
           {
            "colorbar": {
             "outlinewidth": 0,
             "ticks": ""
            },
            "type": "choropleth"
           }
          ],
          "contour": [
           {
            "colorbar": {
             "outlinewidth": 0,
             "ticks": ""
            },
            "colorscale": [
             [
              0,
              "#0d0887"
             ],
             [
              0.1111111111111111,
              "#46039f"
             ],
             [
              0.2222222222222222,
              "#7201a8"
             ],
             [
              0.3333333333333333,
              "#9c179e"
             ],
             [
              0.4444444444444444,
              "#bd3786"
             ],
             [
              0.5555555555555556,
              "#d8576b"
             ],
             [
              0.6666666666666666,
              "#ed7953"
             ],
             [
              0.7777777777777778,
              "#fb9f3a"
             ],
             [
              0.8888888888888888,
              "#fdca26"
             ],
             [
              1,
              "#f0f921"
             ]
            ],
            "type": "contour"
           }
          ],
          "contourcarpet": [
           {
            "colorbar": {
             "outlinewidth": 0,
             "ticks": ""
            },
            "type": "contourcarpet"
           }
          ],
          "heatmap": [
           {
            "colorbar": {
             "outlinewidth": 0,
             "ticks": ""
            },
            "colorscale": [
             [
              0,
              "#0d0887"
             ],
             [
              0.1111111111111111,
              "#46039f"
             ],
             [
              0.2222222222222222,
              "#7201a8"
             ],
             [
              0.3333333333333333,
              "#9c179e"
             ],
             [
              0.4444444444444444,
              "#bd3786"
             ],
             [
              0.5555555555555556,
              "#d8576b"
             ],
             [
              0.6666666666666666,
              "#ed7953"
             ],
             [
              0.7777777777777778,
              "#fb9f3a"
             ],
             [
              0.8888888888888888,
              "#fdca26"
             ],
             [
              1,
              "#f0f921"
             ]
            ],
            "type": "heatmap"
           }
          ],
          "heatmapgl": [
           {
            "colorbar": {
             "outlinewidth": 0,
             "ticks": ""
            },
            "colorscale": [
             [
              0,
              "#0d0887"
             ],
             [
              0.1111111111111111,
              "#46039f"
             ],
             [
              0.2222222222222222,
              "#7201a8"
             ],
             [
              0.3333333333333333,
              "#9c179e"
             ],
             [
              0.4444444444444444,
              "#bd3786"
             ],
             [
              0.5555555555555556,
              "#d8576b"
             ],
             [
              0.6666666666666666,
              "#ed7953"
             ],
             [
              0.7777777777777778,
              "#fb9f3a"
             ],
             [
              0.8888888888888888,
              "#fdca26"
             ],
             [
              1,
              "#f0f921"
             ]
            ],
            "type": "heatmapgl"
           }
          ],
          "histogram": [
           {
            "marker": {
             "pattern": {
              "fillmode": "overlay",
              "size": 10,
              "solidity": 0.2
             }
            },
            "type": "histogram"
           }
          ],
          "histogram2d": [
           {
            "colorbar": {
             "outlinewidth": 0,
             "ticks": ""
            },
            "colorscale": [
             [
              0,
              "#0d0887"
             ],
             [
              0.1111111111111111,
              "#46039f"
             ],
             [
              0.2222222222222222,
              "#7201a8"
             ],
             [
              0.3333333333333333,
              "#9c179e"
             ],
             [
              0.4444444444444444,
              "#bd3786"
             ],
             [
              0.5555555555555556,
              "#d8576b"
             ],
             [
              0.6666666666666666,
              "#ed7953"
             ],
             [
              0.7777777777777778,
              "#fb9f3a"
             ],
             [
              0.8888888888888888,
              "#fdca26"
             ],
             [
              1,
              "#f0f921"
             ]
            ],
            "type": "histogram2d"
           }
          ],
          "histogram2dcontour": [
           {
            "colorbar": {
             "outlinewidth": 0,
             "ticks": ""
            },
            "colorscale": [
             [
              0,
              "#0d0887"
             ],
             [
              0.1111111111111111,
              "#46039f"
             ],
             [
              0.2222222222222222,
              "#7201a8"
             ],
             [
              0.3333333333333333,
              "#9c179e"
             ],
             [
              0.4444444444444444,
              "#bd3786"
             ],
             [
              0.5555555555555556,
              "#d8576b"
             ],
             [
              0.6666666666666666,
              "#ed7953"
             ],
             [
              0.7777777777777778,
              "#fb9f3a"
             ],
             [
              0.8888888888888888,
              "#fdca26"
             ],
             [
              1,
              "#f0f921"
             ]
            ],
            "type": "histogram2dcontour"
           }
          ],
          "mesh3d": [
           {
            "colorbar": {
             "outlinewidth": 0,
             "ticks": ""
            },
            "type": "mesh3d"
           }
          ],
          "parcoords": [
           {
            "line": {
             "colorbar": {
              "outlinewidth": 0,
              "ticks": ""
             }
            },
            "type": "parcoords"
           }
          ],
          "pie": [
           {
            "automargin": true,
            "type": "pie"
           }
          ],
          "scatter": [
           {
            "fillpattern": {
             "fillmode": "overlay",
             "size": 10,
             "solidity": 0.2
            },
            "type": "scatter"
           }
          ],
          "scatter3d": [
           {
            "line": {
             "colorbar": {
              "outlinewidth": 0,
              "ticks": ""
             }
            },
            "marker": {
             "colorbar": {
              "outlinewidth": 0,
              "ticks": ""
             }
            },
            "type": "scatter3d"
           }
          ],
          "scattercarpet": [
           {
            "marker": {
             "colorbar": {
              "outlinewidth": 0,
              "ticks": ""
             }
            },
            "type": "scattercarpet"
           }
          ],
          "scattergeo": [
           {
            "marker": {
             "colorbar": {
              "outlinewidth": 0,
              "ticks": ""
             }
            },
            "type": "scattergeo"
           }
          ],
          "scattergl": [
           {
            "marker": {
             "colorbar": {
              "outlinewidth": 0,
              "ticks": ""
             }
            },
            "type": "scattergl"
           }
          ],
          "scattermapbox": [
           {
            "marker": {
             "colorbar": {
              "outlinewidth": 0,
              "ticks": ""
             }
            },
            "type": "scattermapbox"
           }
          ],
          "scatterpolar": [
           {
            "marker": {
             "colorbar": {
              "outlinewidth": 0,
              "ticks": ""
             }
            },
            "type": "scatterpolar"
           }
          ],
          "scatterpolargl": [
           {
            "marker": {
             "colorbar": {
              "outlinewidth": 0,
              "ticks": ""
             }
            },
            "type": "scatterpolargl"
           }
          ],
          "scatterternary": [
           {
            "marker": {
             "colorbar": {
              "outlinewidth": 0,
              "ticks": ""
             }
            },
            "type": "scatterternary"
           }
          ],
          "surface": [
           {
            "colorbar": {
             "outlinewidth": 0,
             "ticks": ""
            },
            "colorscale": [
             [
              0,
              "#0d0887"
             ],
             [
              0.1111111111111111,
              "#46039f"
             ],
             [
              0.2222222222222222,
              "#7201a8"
             ],
             [
              0.3333333333333333,
              "#9c179e"
             ],
             [
              0.4444444444444444,
              "#bd3786"
             ],
             [
              0.5555555555555556,
              "#d8576b"
             ],
             [
              0.6666666666666666,
              "#ed7953"
             ],
             [
              0.7777777777777778,
              "#fb9f3a"
             ],
             [
              0.8888888888888888,
              "#fdca26"
             ],
             [
              1,
              "#f0f921"
             ]
            ],
            "type": "surface"
           }
          ],
          "table": [
           {
            "cells": {
             "fill": {
              "color": "#EBF0F8"
             },
             "line": {
              "color": "white"
             }
            },
            "header": {
             "fill": {
              "color": "#C8D4E3"
             },
             "line": {
              "color": "white"
             }
            },
            "type": "table"
           }
          ]
         },
         "layout": {
          "annotationdefaults": {
           "arrowcolor": "#2a3f5f",
           "arrowhead": 0,
           "arrowwidth": 1
          },
          "autotypenumbers": "strict",
          "coloraxis": {
           "colorbar": {
            "outlinewidth": 0,
            "ticks": ""
           }
          },
          "colorscale": {
           "diverging": [
            [
             0,
             "#8e0152"
            ],
            [
             0.1,
             "#c51b7d"
            ],
            [
             0.2,
             "#de77ae"
            ],
            [
             0.3,
             "#f1b6da"
            ],
            [
             0.4,
             "#fde0ef"
            ],
            [
             0.5,
             "#f7f7f7"
            ],
            [
             0.6,
             "#e6f5d0"
            ],
            [
             0.7,
             "#b8e186"
            ],
            [
             0.8,
             "#7fbc41"
            ],
            [
             0.9,
             "#4d9221"
            ],
            [
             1,
             "#276419"
            ]
           ],
           "sequential": [
            [
             0,
             "#0d0887"
            ],
            [
             0.1111111111111111,
             "#46039f"
            ],
            [
             0.2222222222222222,
             "#7201a8"
            ],
            [
             0.3333333333333333,
             "#9c179e"
            ],
            [
             0.4444444444444444,
             "#bd3786"
            ],
            [
             0.5555555555555556,
             "#d8576b"
            ],
            [
             0.6666666666666666,
             "#ed7953"
            ],
            [
             0.7777777777777778,
             "#fb9f3a"
            ],
            [
             0.8888888888888888,
             "#fdca26"
            ],
            [
             1,
             "#f0f921"
            ]
           ],
           "sequentialminus": [
            [
             0,
             "#0d0887"
            ],
            [
             0.1111111111111111,
             "#46039f"
            ],
            [
             0.2222222222222222,
             "#7201a8"
            ],
            [
             0.3333333333333333,
             "#9c179e"
            ],
            [
             0.4444444444444444,
             "#bd3786"
            ],
            [
             0.5555555555555556,
             "#d8576b"
            ],
            [
             0.6666666666666666,
             "#ed7953"
            ],
            [
             0.7777777777777778,
             "#fb9f3a"
            ],
            [
             0.8888888888888888,
             "#fdca26"
            ],
            [
             1,
             "#f0f921"
            ]
           ]
          },
          "colorway": [
           "#636efa",
           "#EF553B",
           "#00cc96",
           "#ab63fa",
           "#FFA15A",
           "#19d3f3",
           "#FF6692",
           "#B6E880",
           "#FF97FF",
           "#FECB52"
          ],
          "font": {
           "color": "#2a3f5f"
          },
          "geo": {
           "bgcolor": "white",
           "lakecolor": "white",
           "landcolor": "#E5ECF6",
           "showlakes": true,
           "showland": true,
           "subunitcolor": "white"
          },
          "hoverlabel": {
           "align": "left"
          },
          "hovermode": "closest",
          "mapbox": {
           "style": "light"
          },
          "paper_bgcolor": "white",
          "plot_bgcolor": "#E5ECF6",
          "polar": {
           "angularaxis": {
            "gridcolor": "white",
            "linecolor": "white",
            "ticks": ""
           },
           "bgcolor": "#E5ECF6",
           "radialaxis": {
            "gridcolor": "white",
            "linecolor": "white",
            "ticks": ""
           }
          },
          "scene": {
           "xaxis": {
            "backgroundcolor": "#E5ECF6",
            "gridcolor": "white",
            "gridwidth": 2,
            "linecolor": "white",
            "showbackground": true,
            "ticks": "",
            "zerolinecolor": "white"
           },
           "yaxis": {
            "backgroundcolor": "#E5ECF6",
            "gridcolor": "white",
            "gridwidth": 2,
            "linecolor": "white",
            "showbackground": true,
            "ticks": "",
            "zerolinecolor": "white"
           },
           "zaxis": {
            "backgroundcolor": "#E5ECF6",
            "gridcolor": "white",
            "gridwidth": 2,
            "linecolor": "white",
            "showbackground": true,
            "ticks": "",
            "zerolinecolor": "white"
           }
          },
          "shapedefaults": {
           "line": {
            "color": "#2a3f5f"
           }
          },
          "ternary": {
           "aaxis": {
            "gridcolor": "white",
            "linecolor": "white",
            "ticks": ""
           },
           "baxis": {
            "gridcolor": "white",
            "linecolor": "white",
            "ticks": ""
           },
           "bgcolor": "#E5ECF6",
           "caxis": {
            "gridcolor": "white",
            "linecolor": "white",
            "ticks": ""
           }
          },
          "title": {
           "x": 0.05
          },
          "xaxis": {
           "automargin": true,
           "gridcolor": "white",
           "linecolor": "white",
           "ticks": "",
           "title": {
            "standoff": 15
           },
           "zerolinecolor": "white",
           "zerolinewidth": 2
          },
          "yaxis": {
           "automargin": true,
           "gridcolor": "white",
           "linecolor": "white",
           "ticks": "",
           "title": {
            "standoff": 15
           },
           "zerolinecolor": "white",
           "zerolinewidth": 2
          }
         }
        },
        "title": {
         "text": "User activity per hour of the day"
        },
        "xaxis": {
         "nticks": 33,
         "tickformat": "%a %H",
         "title": {
          "text": "Date and Hour"
         }
        },
        "yaxis": {
         "title": {
          "text": "Clicks"
         }
        }
       }
      }
     },
     "metadata": {},
     "output_type": "display_data"
    }
   ],
   "source": [
    "fig = go.Figure()\n",
    "fig.add_trace(go.Bar(x=traffic_per_hour[\"date_hour\"], y=traffic_per_hour[\"clicks\"],\n",
    "                    marker_color='indianred',\n",
    "                    name='Clicks'))\n",
    "\n",
    "fig.update_layout(\n",
    "    title=\"User activity per hour of the day\",\n",
    "    xaxis_title=\"Date and Hour\",\n",
    "    yaxis_title=\"Clicks\"\n",
    ")\n",
    "fig.update_xaxes(\n",
    "    tickformat=\"%a %H\",\n",
    "    nticks = int(len(traffic_per_hour[\"date_hour\"])/5)\n",
    ")\n",
    "\n",
    "fig.show()"
   ]
  },
  {
   "cell_type": "markdown",
   "metadata": {},
   "source": [
    "Bar chart of impressions per hour and day"
   ]
  },
  {
   "cell_type": "code",
   "execution_count": 182,
   "metadata": {},
   "outputs": [
    {
     "data": {
      "application/vnd.plotly.v1+json": {
       "config": {
        "plotlyServerURL": "https://plot.ly"
       },
       "data": [
        {
         "marker": {
          "color": "indianred"
         },
         "name": "Impressions",
         "type": "bar",
         "x": [
          "2023-07-01 0",
          "2023-07-01 1",
          "2023-07-01 10",
          "2023-07-01 11",
          "2023-07-01 12",
          "2023-07-01 13",
          "2023-07-01 14",
          "2023-07-01 15",
          "2023-07-01 16",
          "2023-07-01 17",
          "2023-07-01 18",
          "2023-07-01 19",
          "2023-07-01 2",
          "2023-07-01 20",
          "2023-07-01 21",
          "2023-07-01 22",
          "2023-07-01 23",
          "2023-07-01 3",
          "2023-07-01 4",
          "2023-07-01 5",
          "2023-07-01 6",
          "2023-07-01 7",
          "2023-07-01 8",
          "2023-07-01 9",
          "2023-07-02 0",
          "2023-07-02 1",
          "2023-07-02 10",
          "2023-07-02 11",
          "2023-07-02 12",
          "2023-07-02 13",
          "2023-07-02 14",
          "2023-07-02 15",
          "2023-07-02 16",
          "2023-07-02 17",
          "2023-07-02 18",
          "2023-07-02 19",
          "2023-07-02 2",
          "2023-07-02 20",
          "2023-07-02 21",
          "2023-07-02 22",
          "2023-07-02 23",
          "2023-07-02 3",
          "2023-07-02 4",
          "2023-07-02 5",
          "2023-07-02 6",
          "2023-07-02 7",
          "2023-07-02 8",
          "2023-07-02 9",
          "2023-07-03 0",
          "2023-07-03 1",
          "2023-07-03 10",
          "2023-07-03 11",
          "2023-07-03 12",
          "2023-07-03 13",
          "2023-07-03 14",
          "2023-07-03 15",
          "2023-07-03 16",
          "2023-07-03 17",
          "2023-07-03 18",
          "2023-07-03 19",
          "2023-07-03 2",
          "2023-07-03 20",
          "2023-07-03 21",
          "2023-07-03 22",
          "2023-07-03 23",
          "2023-07-03 3",
          "2023-07-03 4",
          "2023-07-03 5",
          "2023-07-03 6",
          "2023-07-03 7",
          "2023-07-03 8",
          "2023-07-03 9",
          "2023-07-04 0",
          "2023-07-04 1",
          "2023-07-04 10",
          "2023-07-04 11",
          "2023-07-04 12",
          "2023-07-04 13",
          "2023-07-04 14",
          "2023-07-04 15",
          "2023-07-04 16",
          "2023-07-04 17",
          "2023-07-04 18",
          "2023-07-04 19",
          "2023-07-04 2",
          "2023-07-04 20",
          "2023-07-04 21",
          "2023-07-04 22",
          "2023-07-04 23",
          "2023-07-04 3",
          "2023-07-04 4",
          "2023-07-04 5",
          "2023-07-04 6",
          "2023-07-04 7",
          "2023-07-04 8",
          "2023-07-04 9",
          "2023-07-05 0",
          "2023-07-05 1",
          "2023-07-05 10",
          "2023-07-05 11",
          "2023-07-05 12",
          "2023-07-05 13",
          "2023-07-05 14",
          "2023-07-05 15",
          "2023-07-05 16",
          "2023-07-05 17",
          "2023-07-05 18",
          "2023-07-05 19",
          "2023-07-05 2",
          "2023-07-05 20",
          "2023-07-05 21",
          "2023-07-05 22",
          "2023-07-05 23",
          "2023-07-05 3",
          "2023-07-05 4",
          "2023-07-05 5",
          "2023-07-05 6",
          "2023-07-05 7",
          "2023-07-05 8",
          "2023-07-05 9",
          "2023-07-06 0",
          "2023-07-06 1",
          "2023-07-06 10",
          "2023-07-06 11",
          "2023-07-06 12",
          "2023-07-06 13",
          "2023-07-06 14",
          "2023-07-06 15",
          "2023-07-06 16",
          "2023-07-06 17",
          "2023-07-06 18",
          "2023-07-06 19",
          "2023-07-06 2",
          "2023-07-06 20",
          "2023-07-06 21",
          "2023-07-06 22",
          "2023-07-06 23",
          "2023-07-06 3",
          "2023-07-06 4",
          "2023-07-06 5",
          "2023-07-06 6",
          "2023-07-06 7",
          "2023-07-06 8",
          "2023-07-06 9",
          "2023-07-07 0",
          "2023-07-07 1",
          "2023-07-07 10",
          "2023-07-07 11",
          "2023-07-07 12",
          "2023-07-07 13",
          "2023-07-07 14",
          "2023-07-07 15",
          "2023-07-07 16",
          "2023-07-07 17",
          "2023-07-07 18",
          "2023-07-07 19",
          "2023-07-07 2",
          "2023-07-07 20",
          "2023-07-07 21",
          "2023-07-07 22",
          "2023-07-07 23",
          "2023-07-07 3",
          "2023-07-07 4",
          "2023-07-07 5",
          "2023-07-07 6",
          "2023-07-07 7",
          "2023-07-07 8",
          "2023-07-07 9"
         ],
         "y": [
          23939,
          11462,
          128662,
          103419,
          68875,
          98831,
          89401,
          90227,
          65875,
          65208,
          74491,
          92807,
          7759,
          116649,
          105623,
          54260,
          55809,
          5431,
          4357,
          6089,
          18796,
          43183,
          40901,
          76572,
          51581,
          18035,
          224331,
          159182,
          115626,
          103312,
          76734,
          73569,
          113613,
          141305,
          128344,
          137083,
          14403,
          128091,
          116454,
          96218,
          49343,
          7773,
          8154,
          15986,
          26009,
          50865,
          70500,
          157845,
          23606,
          22515,
          79379,
          100052,
          70681,
          77665,
          67469,
          73095,
          71489,
          79807,
          54762,
          62422,
          12082,
          71674,
          75699,
          72793,
          37726,
          5205,
          7536,
          11577,
          29895,
          47446,
          57977,
          64555,
          13036,
          6414,
          43903,
          46101,
          52850,
          34014,
          41409,
          48740,
          52730,
          50899,
          46890,
          60982,
          3685,
          52535,
          49857,
          59793,
          23611,
          3009,
          4305,
          8855,
          16799,
          30330,
          30653,
          29815,
          13062,
          8066,
          42327,
          48061,
          46593,
          38408,
          46500,
          42643,
          33803,
          54294,
          56543,
          72584,
          3159,
          47460,
          65807,
          47381,
          36584,
          3122,
          5130,
          10665,
          13835,
          31307,
          38786,
          62953,
          14475,
          11919,
          70115,
          57507,
          61871,
          50395,
          71079,
          51372,
          56933,
          63811,
          57763,
          72443,
          4871,
          82537,
          78870,
          44723,
          37628,
          4648,
          5816,
          13990,
          17023,
          37691,
          33904,
          40030,
          12630,
          13275,
          47301,
          38673,
          49105,
          46945,
          58375,
          64098,
          70743,
          57361,
          41577,
          43743,
          3898,
          59895,
          50739,
          50351,
          39420,
          3581,
          4035,
          7727,
          20962,
          39820,
          52781,
          36281
         ]
        }
       ],
       "layout": {
        "template": {
         "data": {
          "bar": [
           {
            "error_x": {
             "color": "#2a3f5f"
            },
            "error_y": {
             "color": "#2a3f5f"
            },
            "marker": {
             "line": {
              "color": "#E5ECF6",
              "width": 0.5
             },
             "pattern": {
              "fillmode": "overlay",
              "size": 10,
              "solidity": 0.2
             }
            },
            "type": "bar"
           }
          ],
          "barpolar": [
           {
            "marker": {
             "line": {
              "color": "#E5ECF6",
              "width": 0.5
             },
             "pattern": {
              "fillmode": "overlay",
              "size": 10,
              "solidity": 0.2
             }
            },
            "type": "barpolar"
           }
          ],
          "carpet": [
           {
            "aaxis": {
             "endlinecolor": "#2a3f5f",
             "gridcolor": "white",
             "linecolor": "white",
             "minorgridcolor": "white",
             "startlinecolor": "#2a3f5f"
            },
            "baxis": {
             "endlinecolor": "#2a3f5f",
             "gridcolor": "white",
             "linecolor": "white",
             "minorgridcolor": "white",
             "startlinecolor": "#2a3f5f"
            },
            "type": "carpet"
           }
          ],
          "choropleth": [
           {
            "colorbar": {
             "outlinewidth": 0,
             "ticks": ""
            },
            "type": "choropleth"
           }
          ],
          "contour": [
           {
            "colorbar": {
             "outlinewidth": 0,
             "ticks": ""
            },
            "colorscale": [
             [
              0,
              "#0d0887"
             ],
             [
              0.1111111111111111,
              "#46039f"
             ],
             [
              0.2222222222222222,
              "#7201a8"
             ],
             [
              0.3333333333333333,
              "#9c179e"
             ],
             [
              0.4444444444444444,
              "#bd3786"
             ],
             [
              0.5555555555555556,
              "#d8576b"
             ],
             [
              0.6666666666666666,
              "#ed7953"
             ],
             [
              0.7777777777777778,
              "#fb9f3a"
             ],
             [
              0.8888888888888888,
              "#fdca26"
             ],
             [
              1,
              "#f0f921"
             ]
            ],
            "type": "contour"
           }
          ],
          "contourcarpet": [
           {
            "colorbar": {
             "outlinewidth": 0,
             "ticks": ""
            },
            "type": "contourcarpet"
           }
          ],
          "heatmap": [
           {
            "colorbar": {
             "outlinewidth": 0,
             "ticks": ""
            },
            "colorscale": [
             [
              0,
              "#0d0887"
             ],
             [
              0.1111111111111111,
              "#46039f"
             ],
             [
              0.2222222222222222,
              "#7201a8"
             ],
             [
              0.3333333333333333,
              "#9c179e"
             ],
             [
              0.4444444444444444,
              "#bd3786"
             ],
             [
              0.5555555555555556,
              "#d8576b"
             ],
             [
              0.6666666666666666,
              "#ed7953"
             ],
             [
              0.7777777777777778,
              "#fb9f3a"
             ],
             [
              0.8888888888888888,
              "#fdca26"
             ],
             [
              1,
              "#f0f921"
             ]
            ],
            "type": "heatmap"
           }
          ],
          "heatmapgl": [
           {
            "colorbar": {
             "outlinewidth": 0,
             "ticks": ""
            },
            "colorscale": [
             [
              0,
              "#0d0887"
             ],
             [
              0.1111111111111111,
              "#46039f"
             ],
             [
              0.2222222222222222,
              "#7201a8"
             ],
             [
              0.3333333333333333,
              "#9c179e"
             ],
             [
              0.4444444444444444,
              "#bd3786"
             ],
             [
              0.5555555555555556,
              "#d8576b"
             ],
             [
              0.6666666666666666,
              "#ed7953"
             ],
             [
              0.7777777777777778,
              "#fb9f3a"
             ],
             [
              0.8888888888888888,
              "#fdca26"
             ],
             [
              1,
              "#f0f921"
             ]
            ],
            "type": "heatmapgl"
           }
          ],
          "histogram": [
           {
            "marker": {
             "pattern": {
              "fillmode": "overlay",
              "size": 10,
              "solidity": 0.2
             }
            },
            "type": "histogram"
           }
          ],
          "histogram2d": [
           {
            "colorbar": {
             "outlinewidth": 0,
             "ticks": ""
            },
            "colorscale": [
             [
              0,
              "#0d0887"
             ],
             [
              0.1111111111111111,
              "#46039f"
             ],
             [
              0.2222222222222222,
              "#7201a8"
             ],
             [
              0.3333333333333333,
              "#9c179e"
             ],
             [
              0.4444444444444444,
              "#bd3786"
             ],
             [
              0.5555555555555556,
              "#d8576b"
             ],
             [
              0.6666666666666666,
              "#ed7953"
             ],
             [
              0.7777777777777778,
              "#fb9f3a"
             ],
             [
              0.8888888888888888,
              "#fdca26"
             ],
             [
              1,
              "#f0f921"
             ]
            ],
            "type": "histogram2d"
           }
          ],
          "histogram2dcontour": [
           {
            "colorbar": {
             "outlinewidth": 0,
             "ticks": ""
            },
            "colorscale": [
             [
              0,
              "#0d0887"
             ],
             [
              0.1111111111111111,
              "#46039f"
             ],
             [
              0.2222222222222222,
              "#7201a8"
             ],
             [
              0.3333333333333333,
              "#9c179e"
             ],
             [
              0.4444444444444444,
              "#bd3786"
             ],
             [
              0.5555555555555556,
              "#d8576b"
             ],
             [
              0.6666666666666666,
              "#ed7953"
             ],
             [
              0.7777777777777778,
              "#fb9f3a"
             ],
             [
              0.8888888888888888,
              "#fdca26"
             ],
             [
              1,
              "#f0f921"
             ]
            ],
            "type": "histogram2dcontour"
           }
          ],
          "mesh3d": [
           {
            "colorbar": {
             "outlinewidth": 0,
             "ticks": ""
            },
            "type": "mesh3d"
           }
          ],
          "parcoords": [
           {
            "line": {
             "colorbar": {
              "outlinewidth": 0,
              "ticks": ""
             }
            },
            "type": "parcoords"
           }
          ],
          "pie": [
           {
            "automargin": true,
            "type": "pie"
           }
          ],
          "scatter": [
           {
            "fillpattern": {
             "fillmode": "overlay",
             "size": 10,
             "solidity": 0.2
            },
            "type": "scatter"
           }
          ],
          "scatter3d": [
           {
            "line": {
             "colorbar": {
              "outlinewidth": 0,
              "ticks": ""
             }
            },
            "marker": {
             "colorbar": {
              "outlinewidth": 0,
              "ticks": ""
             }
            },
            "type": "scatter3d"
           }
          ],
          "scattercarpet": [
           {
            "marker": {
             "colorbar": {
              "outlinewidth": 0,
              "ticks": ""
             }
            },
            "type": "scattercarpet"
           }
          ],
          "scattergeo": [
           {
            "marker": {
             "colorbar": {
              "outlinewidth": 0,
              "ticks": ""
             }
            },
            "type": "scattergeo"
           }
          ],
          "scattergl": [
           {
            "marker": {
             "colorbar": {
              "outlinewidth": 0,
              "ticks": ""
             }
            },
            "type": "scattergl"
           }
          ],
          "scattermapbox": [
           {
            "marker": {
             "colorbar": {
              "outlinewidth": 0,
              "ticks": ""
             }
            },
            "type": "scattermapbox"
           }
          ],
          "scatterpolar": [
           {
            "marker": {
             "colorbar": {
              "outlinewidth": 0,
              "ticks": ""
             }
            },
            "type": "scatterpolar"
           }
          ],
          "scatterpolargl": [
           {
            "marker": {
             "colorbar": {
              "outlinewidth": 0,
              "ticks": ""
             }
            },
            "type": "scatterpolargl"
           }
          ],
          "scatterternary": [
           {
            "marker": {
             "colorbar": {
              "outlinewidth": 0,
              "ticks": ""
             }
            },
            "type": "scatterternary"
           }
          ],
          "surface": [
           {
            "colorbar": {
             "outlinewidth": 0,
             "ticks": ""
            },
            "colorscale": [
             [
              0,
              "#0d0887"
             ],
             [
              0.1111111111111111,
              "#46039f"
             ],
             [
              0.2222222222222222,
              "#7201a8"
             ],
             [
              0.3333333333333333,
              "#9c179e"
             ],
             [
              0.4444444444444444,
              "#bd3786"
             ],
             [
              0.5555555555555556,
              "#d8576b"
             ],
             [
              0.6666666666666666,
              "#ed7953"
             ],
             [
              0.7777777777777778,
              "#fb9f3a"
             ],
             [
              0.8888888888888888,
              "#fdca26"
             ],
             [
              1,
              "#f0f921"
             ]
            ],
            "type": "surface"
           }
          ],
          "table": [
           {
            "cells": {
             "fill": {
              "color": "#EBF0F8"
             },
             "line": {
              "color": "white"
             }
            },
            "header": {
             "fill": {
              "color": "#C8D4E3"
             },
             "line": {
              "color": "white"
             }
            },
            "type": "table"
           }
          ]
         },
         "layout": {
          "annotationdefaults": {
           "arrowcolor": "#2a3f5f",
           "arrowhead": 0,
           "arrowwidth": 1
          },
          "autotypenumbers": "strict",
          "coloraxis": {
           "colorbar": {
            "outlinewidth": 0,
            "ticks": ""
           }
          },
          "colorscale": {
           "diverging": [
            [
             0,
             "#8e0152"
            ],
            [
             0.1,
             "#c51b7d"
            ],
            [
             0.2,
             "#de77ae"
            ],
            [
             0.3,
             "#f1b6da"
            ],
            [
             0.4,
             "#fde0ef"
            ],
            [
             0.5,
             "#f7f7f7"
            ],
            [
             0.6,
             "#e6f5d0"
            ],
            [
             0.7,
             "#b8e186"
            ],
            [
             0.8,
             "#7fbc41"
            ],
            [
             0.9,
             "#4d9221"
            ],
            [
             1,
             "#276419"
            ]
           ],
           "sequential": [
            [
             0,
             "#0d0887"
            ],
            [
             0.1111111111111111,
             "#46039f"
            ],
            [
             0.2222222222222222,
             "#7201a8"
            ],
            [
             0.3333333333333333,
             "#9c179e"
            ],
            [
             0.4444444444444444,
             "#bd3786"
            ],
            [
             0.5555555555555556,
             "#d8576b"
            ],
            [
             0.6666666666666666,
             "#ed7953"
            ],
            [
             0.7777777777777778,
             "#fb9f3a"
            ],
            [
             0.8888888888888888,
             "#fdca26"
            ],
            [
             1,
             "#f0f921"
            ]
           ],
           "sequentialminus": [
            [
             0,
             "#0d0887"
            ],
            [
             0.1111111111111111,
             "#46039f"
            ],
            [
             0.2222222222222222,
             "#7201a8"
            ],
            [
             0.3333333333333333,
             "#9c179e"
            ],
            [
             0.4444444444444444,
             "#bd3786"
            ],
            [
             0.5555555555555556,
             "#d8576b"
            ],
            [
             0.6666666666666666,
             "#ed7953"
            ],
            [
             0.7777777777777778,
             "#fb9f3a"
            ],
            [
             0.8888888888888888,
             "#fdca26"
            ],
            [
             1,
             "#f0f921"
            ]
           ]
          },
          "colorway": [
           "#636efa",
           "#EF553B",
           "#00cc96",
           "#ab63fa",
           "#FFA15A",
           "#19d3f3",
           "#FF6692",
           "#B6E880",
           "#FF97FF",
           "#FECB52"
          ],
          "font": {
           "color": "#2a3f5f"
          },
          "geo": {
           "bgcolor": "white",
           "lakecolor": "white",
           "landcolor": "#E5ECF6",
           "showlakes": true,
           "showland": true,
           "subunitcolor": "white"
          },
          "hoverlabel": {
           "align": "left"
          },
          "hovermode": "closest",
          "mapbox": {
           "style": "light"
          },
          "paper_bgcolor": "white",
          "plot_bgcolor": "#E5ECF6",
          "polar": {
           "angularaxis": {
            "gridcolor": "white",
            "linecolor": "white",
            "ticks": ""
           },
           "bgcolor": "#E5ECF6",
           "radialaxis": {
            "gridcolor": "white",
            "linecolor": "white",
            "ticks": ""
           }
          },
          "scene": {
           "xaxis": {
            "backgroundcolor": "#E5ECF6",
            "gridcolor": "white",
            "gridwidth": 2,
            "linecolor": "white",
            "showbackground": true,
            "ticks": "",
            "zerolinecolor": "white"
           },
           "yaxis": {
            "backgroundcolor": "#E5ECF6",
            "gridcolor": "white",
            "gridwidth": 2,
            "linecolor": "white",
            "showbackground": true,
            "ticks": "",
            "zerolinecolor": "white"
           },
           "zaxis": {
            "backgroundcolor": "#E5ECF6",
            "gridcolor": "white",
            "gridwidth": 2,
            "linecolor": "white",
            "showbackground": true,
            "ticks": "",
            "zerolinecolor": "white"
           }
          },
          "shapedefaults": {
           "line": {
            "color": "#2a3f5f"
           }
          },
          "ternary": {
           "aaxis": {
            "gridcolor": "white",
            "linecolor": "white",
            "ticks": ""
           },
           "baxis": {
            "gridcolor": "white",
            "linecolor": "white",
            "ticks": ""
           },
           "bgcolor": "#E5ECF6",
           "caxis": {
            "gridcolor": "white",
            "linecolor": "white",
            "ticks": ""
           }
          },
          "title": {
           "x": 0.05
          },
          "xaxis": {
           "automargin": true,
           "gridcolor": "white",
           "linecolor": "white",
           "ticks": "",
           "title": {
            "standoff": 15
           },
           "zerolinecolor": "white",
           "zerolinewidth": 2
          },
          "yaxis": {
           "automargin": true,
           "gridcolor": "white",
           "linecolor": "white",
           "ticks": "",
           "title": {
            "standoff": 15
           },
           "zerolinecolor": "white",
           "zerolinewidth": 2
          }
         }
        },
        "title": {
         "text": "User activity per hour of the day"
        },
        "xaxis": {
         "nticks": 33,
         "tickformat": "%a %H",
         "title": {
          "text": "Date and Hour"
         }
        },
        "yaxis": {
         "title": {
          "text": "Impressions"
         }
        }
       }
      }
     },
     "metadata": {},
     "output_type": "display_data"
    }
   ],
   "source": [
    "fig = go.Figure()\n",
    "fig.add_trace(go.Bar(x=traffic_per_hour[\"date_hour\"], y=traffic_per_hour[\"impressions\"],\n",
    "                    marker_color='indianred',\n",
    "                    name='Impressions'))\n",
    "\n",
    "fig.update_layout(\n",
    "    title=\"User activity per hour of the day\",\n",
    "    xaxis_title=\"Date and Hour\",\n",
    "    yaxis_title=\"Impressions\"\n",
    ")\n",
    "fig.update_xaxes(\n",
    "    tickformat=\"%a %H\",\n",
    "    nticks = int(len(traffic_per_hour[\"date_hour\"])/5)\n",
    ")\n",
    "\n",
    "fig.show()"
   ]
  },
  {
   "cell_type": "markdown",
   "metadata": {},
   "source": [
    "Import data with clicks and impressions per sector per day.  \n",
    "Answering the question of what is the daily distribution of clicks/impressions per sector"
   ]
  },
  {
   "cell_type": "code",
   "execution_count": 184,
   "metadata": {},
   "outputs": [
    {
     "name": "stderr",
     "output_type": "stream",
     "text": [
      "/var/folders/0z/wp46fdb16j11vgx66n1nql3h3zkrhs/T/ipykernel_87812/3694899069.py:1: UserWarning:\n",
      "\n",
      "Could not infer format, so each element will be parsed individually, falling back to `dateutil`. To ensure parsing is consistent and as-expected, please specify a format.\n",
      "\n"
     ]
    },
    {
     "data": {
      "text/html": [
       "<div>\n",
       "<style scoped>\n",
       "    .dataframe tbody tr th:only-of-type {\n",
       "        vertical-align: middle;\n",
       "    }\n",
       "\n",
       "    .dataframe tbody tr th {\n",
       "        vertical-align: top;\n",
       "    }\n",
       "\n",
       "    .dataframe thead th {\n",
       "        text-align: right;\n",
       "    }\n",
       "</style>\n",
       "<table border=\"1\" class=\"dataframe\">\n",
       "  <thead>\n",
       "    <tr style=\"text-align: right;\">\n",
       "      <th></th>\n",
       "      <th>sector_name</th>\n",
       "      <th>date</th>\n",
       "      <th>clicks</th>\n",
       "      <th>impressions</th>\n",
       "    </tr>\n",
       "  </thead>\n",
       "  <tbody>\n",
       "    <tr>\n",
       "      <th>0</th>\n",
       "      <td>Baumärkte</td>\n",
       "      <td>2023-07-01</td>\n",
       "      <td>2768</td>\n",
       "      <td>43142</td>\n",
       "    </tr>\n",
       "    <tr>\n",
       "      <th>1</th>\n",
       "      <td>Baumärkte</td>\n",
       "      <td>2023-07-02</td>\n",
       "      <td>2969</td>\n",
       "      <td>61987</td>\n",
       "    </tr>\n",
       "    <tr>\n",
       "      <th>2</th>\n",
       "      <td>Baumärkte</td>\n",
       "      <td>2023-07-03</td>\n",
       "      <td>2222</td>\n",
       "      <td>30447</td>\n",
       "    </tr>\n",
       "    <tr>\n",
       "      <th>3</th>\n",
       "      <td>Baumärkte</td>\n",
       "      <td>2023-07-04</td>\n",
       "      <td>2724</td>\n",
       "      <td>30324</td>\n",
       "    </tr>\n",
       "    <tr>\n",
       "      <th>4</th>\n",
       "      <td>Baumärkte</td>\n",
       "      <td>2023-07-05</td>\n",
       "      <td>3042</td>\n",
       "      <td>37398</td>\n",
       "    </tr>\n",
       "    <tr>\n",
       "      <th>5</th>\n",
       "      <td>Baumärkte</td>\n",
       "      <td>2023-07-06</td>\n",
       "      <td>2352</td>\n",
       "      <td>35649</td>\n",
       "    </tr>\n",
       "    <tr>\n",
       "      <th>6</th>\n",
       "      <td>Baumärkte</td>\n",
       "      <td>2023-07-07</td>\n",
       "      <td>2191</td>\n",
       "      <td>34048</td>\n",
       "    </tr>\n",
       "    <tr>\n",
       "      <th>7</th>\n",
       "      <td>Discounter</td>\n",
       "      <td>2023-07-01</td>\n",
       "      <td>119852</td>\n",
       "      <td>532740</td>\n",
       "    </tr>\n",
       "    <tr>\n",
       "      <th>8</th>\n",
       "      <td>Discounter</td>\n",
       "      <td>2023-07-02</td>\n",
       "      <td>156944</td>\n",
       "      <td>740585</td>\n",
       "    </tr>\n",
       "    <tr>\n",
       "      <th>9</th>\n",
       "      <td>Discounter</td>\n",
       "      <td>2023-07-03</td>\n",
       "      <td>112942</td>\n",
       "      <td>444975</td>\n",
       "    </tr>\n",
       "    <tr>\n",
       "      <th>10</th>\n",
       "      <td>Discounter</td>\n",
       "      <td>2023-07-04</td>\n",
       "      <td>73393</td>\n",
       "      <td>312890</td>\n",
       "    </tr>\n",
       "    <tr>\n",
       "      <th>11</th>\n",
       "      <td>Discounter</td>\n",
       "      <td>2023-07-05</td>\n",
       "      <td>76548</td>\n",
       "      <td>357420</td>\n",
       "    </tr>\n",
       "    <tr>\n",
       "      <th>12</th>\n",
       "      <td>Discounter</td>\n",
       "      <td>2023-07-06</td>\n",
       "      <td>80288</td>\n",
       "      <td>379258</td>\n",
       "    </tr>\n",
       "    <tr>\n",
       "      <th>13</th>\n",
       "      <td>Discounter</td>\n",
       "      <td>2023-07-07</td>\n",
       "      <td>73039</td>\n",
       "      <td>349363</td>\n",
       "    </tr>\n",
       "    <tr>\n",
       "      <th>14</th>\n",
       "      <td>Drogerie-und-Parfuemerie</td>\n",
       "      <td>2023-07-01</td>\n",
       "      <td>9824</td>\n",
       "      <td>57098</td>\n",
       "    </tr>\n",
       "    <tr>\n",
       "      <th>15</th>\n",
       "      <td>Drogerie-und-Parfuemerie</td>\n",
       "      <td>2023-07-02</td>\n",
       "      <td>6790</td>\n",
       "      <td>67812</td>\n",
       "    </tr>\n",
       "    <tr>\n",
       "      <th>16</th>\n",
       "      <td>Drogerie-und-Parfuemerie</td>\n",
       "      <td>2023-07-03</td>\n",
       "      <td>5308</td>\n",
       "      <td>50468</td>\n",
       "    </tr>\n",
       "    <tr>\n",
       "      <th>17</th>\n",
       "      <td>Drogerie-und-Parfuemerie</td>\n",
       "      <td>2023-07-04</td>\n",
       "      <td>1930</td>\n",
       "      <td>25124</td>\n",
       "    </tr>\n",
       "    <tr>\n",
       "      <th>18</th>\n",
       "      <td>Drogerie-und-Parfuemerie</td>\n",
       "      <td>2023-07-05</td>\n",
       "      <td>2981</td>\n",
       "      <td>44849</td>\n",
       "    </tr>\n",
       "    <tr>\n",
       "      <th>19</th>\n",
       "      <td>Drogerie-und-Parfuemerie</td>\n",
       "      <td>2023-07-06</td>\n",
       "      <td>1711</td>\n",
       "      <td>27154</td>\n",
       "    </tr>\n",
       "    <tr>\n",
       "      <th>20</th>\n",
       "      <td>Drogerie-und-Parfuemerie</td>\n",
       "      <td>2023-07-07</td>\n",
       "      <td>1989</td>\n",
       "      <td>32552</td>\n",
       "    </tr>\n",
       "    <tr>\n",
       "      <th>21</th>\n",
       "      <td>Elektromärkte</td>\n",
       "      <td>2023-07-01</td>\n",
       "      <td>25961</td>\n",
       "      <td>255411</td>\n",
       "    </tr>\n",
       "    <tr>\n",
       "      <th>22</th>\n",
       "      <td>Elektromärkte</td>\n",
       "      <td>2023-07-02</td>\n",
       "      <td>41134</td>\n",
       "      <td>319388</td>\n",
       "    </tr>\n",
       "    <tr>\n",
       "      <th>23</th>\n",
       "      <td>Elektromärkte</td>\n",
       "      <td>2023-07-03</td>\n",
       "      <td>18670</td>\n",
       "      <td>133837</td>\n",
       "    </tr>\n",
       "    <tr>\n",
       "      <th>24</th>\n",
       "      <td>Elektromärkte</td>\n",
       "      <td>2023-07-04</td>\n",
       "      <td>2741</td>\n",
       "      <td>46062</td>\n",
       "    </tr>\n",
       "    <tr>\n",
       "      <th>25</th>\n",
       "      <td>Elektromärkte</td>\n",
       "      <td>2023-07-05</td>\n",
       "      <td>2228</td>\n",
       "      <td>44331</td>\n",
       "    </tr>\n",
       "    <tr>\n",
       "      <th>26</th>\n",
       "      <td>Elektromärkte</td>\n",
       "      <td>2023-07-06</td>\n",
       "      <td>28067</td>\n",
       "      <td>165730</td>\n",
       "    </tr>\n",
       "    <tr>\n",
       "      <th>27</th>\n",
       "      <td>Elektromärkte</td>\n",
       "      <td>2023-07-07</td>\n",
       "      <td>19151</td>\n",
       "      <td>147319</td>\n",
       "    </tr>\n",
       "    <tr>\n",
       "      <th>28</th>\n",
       "      <td>Möbel &amp; Einrichtung</td>\n",
       "      <td>2023-07-01</td>\n",
       "      <td>14434</td>\n",
       "      <td>163037</td>\n",
       "    </tr>\n",
       "    <tr>\n",
       "      <th>29</th>\n",
       "      <td>Möbel &amp; Einrichtung</td>\n",
       "      <td>2023-07-02</td>\n",
       "      <td>16006</td>\n",
       "      <td>204381</td>\n",
       "    </tr>\n",
       "    <tr>\n",
       "      <th>30</th>\n",
       "      <td>Möbel &amp; Einrichtung</td>\n",
       "      <td>2023-07-03</td>\n",
       "      <td>14627</td>\n",
       "      <td>120219</td>\n",
       "    </tr>\n",
       "    <tr>\n",
       "      <th>31</th>\n",
       "      <td>Möbel &amp; Einrichtung</td>\n",
       "      <td>2023-07-04</td>\n",
       "      <td>7764</td>\n",
       "      <td>101693</td>\n",
       "    </tr>\n",
       "    <tr>\n",
       "      <th>32</th>\n",
       "      <td>Möbel &amp; Einrichtung</td>\n",
       "      <td>2023-07-05</td>\n",
       "      <td>7510</td>\n",
       "      <td>108664</td>\n",
       "    </tr>\n",
       "    <tr>\n",
       "      <th>33</th>\n",
       "      <td>Möbel &amp; Einrichtung</td>\n",
       "      <td>2023-07-06</td>\n",
       "      <td>7320</td>\n",
       "      <td>105098</td>\n",
       "    </tr>\n",
       "    <tr>\n",
       "      <th>34</th>\n",
       "      <td>Möbel &amp; Einrichtung</td>\n",
       "      <td>2023-07-07</td>\n",
       "      <td>5820</td>\n",
       "      <td>77369</td>\n",
       "    </tr>\n",
       "    <tr>\n",
       "      <th>35</th>\n",
       "      <td>Supermärkte</td>\n",
       "      <td>2023-07-01</td>\n",
       "      <td>60821</td>\n",
       "      <td>397198</td>\n",
       "    </tr>\n",
       "    <tr>\n",
       "      <th>36</th>\n",
       "      <td>Supermärkte</td>\n",
       "      <td>2023-07-02</td>\n",
       "      <td>160315</td>\n",
       "      <td>690203</td>\n",
       "    </tr>\n",
       "    <tr>\n",
       "      <th>37</th>\n",
       "      <td>Supermärkte</td>\n",
       "      <td>2023-07-03</td>\n",
       "      <td>100630</td>\n",
       "      <td>497161</td>\n",
       "    </tr>\n",
       "    <tr>\n",
       "      <th>38</th>\n",
       "      <td>Supermärkte</td>\n",
       "      <td>2023-07-04</td>\n",
       "      <td>51798</td>\n",
       "      <td>295122</td>\n",
       "    </tr>\n",
       "    <tr>\n",
       "      <th>39</th>\n",
       "      <td>Supermärkte</td>\n",
       "      <td>2023-07-05</td>\n",
       "      <td>44546</td>\n",
       "      <td>276411</td>\n",
       "    </tr>\n",
       "    <tr>\n",
       "      <th>40</th>\n",
       "      <td>Supermärkte</td>\n",
       "      <td>2023-07-06</td>\n",
       "      <td>53198</td>\n",
       "      <td>328525</td>\n",
       "    </tr>\n",
       "    <tr>\n",
       "      <th>41</th>\n",
       "      <td>Supermärkte</td>\n",
       "      <td>2023-07-07</td>\n",
       "      <td>44554</td>\n",
       "      <td>272665</td>\n",
       "    </tr>\n",
       "  </tbody>\n",
       "</table>\n",
       "</div>"
      ],
      "text/plain": [
       "                 sector_name       date  clicks  impressions\n",
       "0                  Baumärkte 2023-07-01    2768        43142\n",
       "1                  Baumärkte 2023-07-02    2969        61987\n",
       "2                  Baumärkte 2023-07-03    2222        30447\n",
       "3                  Baumärkte 2023-07-04    2724        30324\n",
       "4                  Baumärkte 2023-07-05    3042        37398\n",
       "5                  Baumärkte 2023-07-06    2352        35649\n",
       "6                  Baumärkte 2023-07-07    2191        34048\n",
       "7                 Discounter 2023-07-01  119852       532740\n",
       "8                 Discounter 2023-07-02  156944       740585\n",
       "9                 Discounter 2023-07-03  112942       444975\n",
       "10                Discounter 2023-07-04   73393       312890\n",
       "11                Discounter 2023-07-05   76548       357420\n",
       "12                Discounter 2023-07-06   80288       379258\n",
       "13                Discounter 2023-07-07   73039       349363\n",
       "14  Drogerie-und-Parfuemerie 2023-07-01    9824        57098\n",
       "15  Drogerie-und-Parfuemerie 2023-07-02    6790        67812\n",
       "16  Drogerie-und-Parfuemerie 2023-07-03    5308        50468\n",
       "17  Drogerie-und-Parfuemerie 2023-07-04    1930        25124\n",
       "18  Drogerie-und-Parfuemerie 2023-07-05    2981        44849\n",
       "19  Drogerie-und-Parfuemerie 2023-07-06    1711        27154\n",
       "20  Drogerie-und-Parfuemerie 2023-07-07    1989        32552\n",
       "21             Elektromärkte 2023-07-01   25961       255411\n",
       "22             Elektromärkte 2023-07-02   41134       319388\n",
       "23             Elektromärkte 2023-07-03   18670       133837\n",
       "24             Elektromärkte 2023-07-04    2741        46062\n",
       "25             Elektromärkte 2023-07-05    2228        44331\n",
       "26             Elektromärkte 2023-07-06   28067       165730\n",
       "27             Elektromärkte 2023-07-07   19151       147319\n",
       "28       Möbel & Einrichtung 2023-07-01   14434       163037\n",
       "29       Möbel & Einrichtung 2023-07-02   16006       204381\n",
       "30       Möbel & Einrichtung 2023-07-03   14627       120219\n",
       "31       Möbel & Einrichtung 2023-07-04    7764       101693\n",
       "32       Möbel & Einrichtung 2023-07-05    7510       108664\n",
       "33       Möbel & Einrichtung 2023-07-06    7320       105098\n",
       "34       Möbel & Einrichtung 2023-07-07    5820        77369\n",
       "35               Supermärkte 2023-07-01   60821       397198\n",
       "36               Supermärkte 2023-07-02  160315       690203\n",
       "37               Supermärkte 2023-07-03  100630       497161\n",
       "38               Supermärkte 2023-07-04   51798       295122\n",
       "39               Supermärkte 2023-07-05   44546       276411\n",
       "40               Supermärkte 2023-07-06   53198       328525\n",
       "41               Supermärkte 2023-07-07   44554       272665"
      ]
     },
     "execution_count": 184,
     "metadata": {},
     "output_type": "execute_result"
    }
   ],
   "source": [
    "traffic_per_sector = pd.read_csv(\"resources/traffic_per_day_per_sector.csv\", parse_dates=[['date', 'hour']])\n",
    "traffic_per_sector['date'] = traffic_per_sector['date_hour'].apply(lambda x: x.split(' ')[0])\n",
    "traffic_per_sector['date'] = pd.to_datetime(traffic_per_sector['date'])\n",
    "traffic_per_sector_per_day = traffic_per_sector.groupby(['sector_name','date']).agg({'clicks':sum, 'impressions':sum}).reset_index()\n",
    "traffic_per_sector_per_day"
   ]
  },
  {
   "cell_type": "code",
   "execution_count": 149,
   "metadata": {},
   "outputs": [
    {
     "data": {
      "text/plain": [
       "1.750973364691055"
      ]
     },
     "execution_count": 149,
     "metadata": {},
     "output_type": "execute_result"
    }
   ],
   "source": [
    "#difference between clicks on the weekend and during weekdays, Supermärkte,Discounter\n",
    "clicks_on_weekend_sm = traffic_per_sector_per_day[(traffic_per_sector_per_day['sector_name'].isin(['Supermärkte','Discounter']))&(traffic_per_sector_per_day['date']<'2023-07-03')]['clicks'].mean()\n",
    "clicks_on_weekday_sm = traffic_per_sector_per_day[(traffic_per_sector_per_day['sector_name'].isin(['Supermärkte','Discounter']))&(traffic_per_sector_per_day['date']>='2023-07-03')]['clicks'].mean()\n",
    "clicks_on_weekend_sm/clicks_on_weekday_sm"
   ]
  },
  {
   "cell_type": "code",
   "execution_count": 150,
   "metadata": {},
   "outputs": [
    {
     "data": {
      "text/plain": [
       "2.135513153019637"
      ]
     },
     "execution_count": 150,
     "metadata": {},
     "output_type": "execute_result"
    }
   ],
   "source": [
    "#difference between clicks on the weekend and during weekdays, other sectors\n",
    "clicks_on_weekend_rest = traffic_per_sector_per_day[(~traffic_per_sector_per_day['sector_name'].isin(['Supermärkte','Discounter']))&(traffic_per_sector_per_day['date']<'2023-07-03')]['clicks'].mean()\n",
    "clicks_on_weekday_rest = traffic_per_sector_per_day[(~traffic_per_sector_per_day['sector_name'].isin(['Supermärkte','Discounter']))&(traffic_per_sector_per_day['date']>='2023-07-03')]['clicks'].mean()\n",
    "clicks_on_weekend_rest/clicks_on_weekday_rest"
   ]
  },
  {
   "cell_type": "markdown",
   "metadata": {},
   "source": [
    "Line plot of clicks per day per sector"
   ]
  },
  {
   "cell_type": "code",
   "execution_count": 185,
   "metadata": {},
   "outputs": [
    {
     "data": {
      "application/vnd.plotly.v1+json": {
       "config": {
        "plotlyServerURL": "https://plot.ly"
       },
       "data": [
        {
         "hovertemplate": "sector_name=Baumärkte<br>date=%{x}<br>clicks=%{y}<extra></extra>",
         "legendgroup": "Baumärkte",
         "line": {
          "color": "#636efa",
          "dash": "solid"
         },
         "marker": {
          "symbol": "circle"
         },
         "mode": "lines",
         "name": "Baumärkte",
         "orientation": "v",
         "showlegend": true,
         "type": "scatter",
         "x": [
          "2023-07-01T00:00:00",
          "2023-07-02T00:00:00",
          "2023-07-03T00:00:00",
          "2023-07-04T00:00:00",
          "2023-07-05T00:00:00",
          "2023-07-06T00:00:00",
          "2023-07-07T00:00:00"
         ],
         "xaxis": "x",
         "y": [
          2768,
          2969,
          2222,
          2724,
          3042,
          2352,
          2191
         ],
         "yaxis": "y"
        },
        {
         "hovertemplate": "sector_name=Discounter<br>date=%{x}<br>clicks=%{y}<extra></extra>",
         "legendgroup": "Discounter",
         "line": {
          "color": "#EF553B",
          "dash": "solid"
         },
         "marker": {
          "symbol": "circle"
         },
         "mode": "lines",
         "name": "Discounter",
         "orientation": "v",
         "showlegend": true,
         "type": "scatter",
         "x": [
          "2023-07-01T00:00:00",
          "2023-07-02T00:00:00",
          "2023-07-03T00:00:00",
          "2023-07-04T00:00:00",
          "2023-07-05T00:00:00",
          "2023-07-06T00:00:00",
          "2023-07-07T00:00:00"
         ],
         "xaxis": "x",
         "y": [
          119852,
          156944,
          112942,
          73393,
          76548,
          80288,
          73039
         ],
         "yaxis": "y"
        },
        {
         "hovertemplate": "sector_name=Drogerie-und-Parfuemerie<br>date=%{x}<br>clicks=%{y}<extra></extra>",
         "legendgroup": "Drogerie-und-Parfuemerie",
         "line": {
          "color": "#00cc96",
          "dash": "solid"
         },
         "marker": {
          "symbol": "circle"
         },
         "mode": "lines",
         "name": "Drogerie-und-Parfuemerie",
         "orientation": "v",
         "showlegend": true,
         "type": "scatter",
         "x": [
          "2023-07-01T00:00:00",
          "2023-07-02T00:00:00",
          "2023-07-03T00:00:00",
          "2023-07-04T00:00:00",
          "2023-07-05T00:00:00",
          "2023-07-06T00:00:00",
          "2023-07-07T00:00:00"
         ],
         "xaxis": "x",
         "y": [
          9824,
          6790,
          5308,
          1930,
          2981,
          1711,
          1989
         ],
         "yaxis": "y"
        },
        {
         "hovertemplate": "sector_name=Elektromärkte<br>date=%{x}<br>clicks=%{y}<extra></extra>",
         "legendgroup": "Elektromärkte",
         "line": {
          "color": "#ab63fa",
          "dash": "solid"
         },
         "marker": {
          "symbol": "circle"
         },
         "mode": "lines",
         "name": "Elektromärkte",
         "orientation": "v",
         "showlegend": true,
         "type": "scatter",
         "x": [
          "2023-07-01T00:00:00",
          "2023-07-02T00:00:00",
          "2023-07-03T00:00:00",
          "2023-07-04T00:00:00",
          "2023-07-05T00:00:00",
          "2023-07-06T00:00:00",
          "2023-07-07T00:00:00"
         ],
         "xaxis": "x",
         "y": [
          25961,
          41134,
          18670,
          2741,
          2228,
          28067,
          19151
         ],
         "yaxis": "y"
        },
        {
         "hovertemplate": "sector_name=Möbel & Einrichtung<br>date=%{x}<br>clicks=%{y}<extra></extra>",
         "legendgroup": "Möbel & Einrichtung",
         "line": {
          "color": "#FFA15A",
          "dash": "solid"
         },
         "marker": {
          "symbol": "circle"
         },
         "mode": "lines",
         "name": "Möbel & Einrichtung",
         "orientation": "v",
         "showlegend": true,
         "type": "scatter",
         "x": [
          "2023-07-01T00:00:00",
          "2023-07-02T00:00:00",
          "2023-07-03T00:00:00",
          "2023-07-04T00:00:00",
          "2023-07-05T00:00:00",
          "2023-07-06T00:00:00",
          "2023-07-07T00:00:00"
         ],
         "xaxis": "x",
         "y": [
          14434,
          16006,
          14627,
          7764,
          7510,
          7320,
          5820
         ],
         "yaxis": "y"
        },
        {
         "hovertemplate": "sector_name=Supermärkte<br>date=%{x}<br>clicks=%{y}<extra></extra>",
         "legendgroup": "Supermärkte",
         "line": {
          "color": "#19d3f3",
          "dash": "solid"
         },
         "marker": {
          "symbol": "circle"
         },
         "mode": "lines",
         "name": "Supermärkte",
         "orientation": "v",
         "showlegend": true,
         "type": "scatter",
         "x": [
          "2023-07-01T00:00:00",
          "2023-07-02T00:00:00",
          "2023-07-03T00:00:00",
          "2023-07-04T00:00:00",
          "2023-07-05T00:00:00",
          "2023-07-06T00:00:00",
          "2023-07-07T00:00:00"
         ],
         "xaxis": "x",
         "y": [
          60821,
          160315,
          100630,
          51798,
          44546,
          53198,
          44554
         ],
         "yaxis": "y"
        }
       ],
       "layout": {
        "legend": {
         "title": {
          "text": "Sector"
         },
         "tracegroupgap": 0
        },
        "template": {
         "data": {
          "bar": [
           {
            "error_x": {
             "color": "#2a3f5f"
            },
            "error_y": {
             "color": "#2a3f5f"
            },
            "marker": {
             "line": {
              "color": "#E5ECF6",
              "width": 0.5
             },
             "pattern": {
              "fillmode": "overlay",
              "size": 10,
              "solidity": 0.2
             }
            },
            "type": "bar"
           }
          ],
          "barpolar": [
           {
            "marker": {
             "line": {
              "color": "#E5ECF6",
              "width": 0.5
             },
             "pattern": {
              "fillmode": "overlay",
              "size": 10,
              "solidity": 0.2
             }
            },
            "type": "barpolar"
           }
          ],
          "carpet": [
           {
            "aaxis": {
             "endlinecolor": "#2a3f5f",
             "gridcolor": "white",
             "linecolor": "white",
             "minorgridcolor": "white",
             "startlinecolor": "#2a3f5f"
            },
            "baxis": {
             "endlinecolor": "#2a3f5f",
             "gridcolor": "white",
             "linecolor": "white",
             "minorgridcolor": "white",
             "startlinecolor": "#2a3f5f"
            },
            "type": "carpet"
           }
          ],
          "choropleth": [
           {
            "colorbar": {
             "outlinewidth": 0,
             "ticks": ""
            },
            "type": "choropleth"
           }
          ],
          "contour": [
           {
            "colorbar": {
             "outlinewidth": 0,
             "ticks": ""
            },
            "colorscale": [
             [
              0,
              "#0d0887"
             ],
             [
              0.1111111111111111,
              "#46039f"
             ],
             [
              0.2222222222222222,
              "#7201a8"
             ],
             [
              0.3333333333333333,
              "#9c179e"
             ],
             [
              0.4444444444444444,
              "#bd3786"
             ],
             [
              0.5555555555555556,
              "#d8576b"
             ],
             [
              0.6666666666666666,
              "#ed7953"
             ],
             [
              0.7777777777777778,
              "#fb9f3a"
             ],
             [
              0.8888888888888888,
              "#fdca26"
             ],
             [
              1,
              "#f0f921"
             ]
            ],
            "type": "contour"
           }
          ],
          "contourcarpet": [
           {
            "colorbar": {
             "outlinewidth": 0,
             "ticks": ""
            },
            "type": "contourcarpet"
           }
          ],
          "heatmap": [
           {
            "colorbar": {
             "outlinewidth": 0,
             "ticks": ""
            },
            "colorscale": [
             [
              0,
              "#0d0887"
             ],
             [
              0.1111111111111111,
              "#46039f"
             ],
             [
              0.2222222222222222,
              "#7201a8"
             ],
             [
              0.3333333333333333,
              "#9c179e"
             ],
             [
              0.4444444444444444,
              "#bd3786"
             ],
             [
              0.5555555555555556,
              "#d8576b"
             ],
             [
              0.6666666666666666,
              "#ed7953"
             ],
             [
              0.7777777777777778,
              "#fb9f3a"
             ],
             [
              0.8888888888888888,
              "#fdca26"
             ],
             [
              1,
              "#f0f921"
             ]
            ],
            "type": "heatmap"
           }
          ],
          "heatmapgl": [
           {
            "colorbar": {
             "outlinewidth": 0,
             "ticks": ""
            },
            "colorscale": [
             [
              0,
              "#0d0887"
             ],
             [
              0.1111111111111111,
              "#46039f"
             ],
             [
              0.2222222222222222,
              "#7201a8"
             ],
             [
              0.3333333333333333,
              "#9c179e"
             ],
             [
              0.4444444444444444,
              "#bd3786"
             ],
             [
              0.5555555555555556,
              "#d8576b"
             ],
             [
              0.6666666666666666,
              "#ed7953"
             ],
             [
              0.7777777777777778,
              "#fb9f3a"
             ],
             [
              0.8888888888888888,
              "#fdca26"
             ],
             [
              1,
              "#f0f921"
             ]
            ],
            "type": "heatmapgl"
           }
          ],
          "histogram": [
           {
            "marker": {
             "pattern": {
              "fillmode": "overlay",
              "size": 10,
              "solidity": 0.2
             }
            },
            "type": "histogram"
           }
          ],
          "histogram2d": [
           {
            "colorbar": {
             "outlinewidth": 0,
             "ticks": ""
            },
            "colorscale": [
             [
              0,
              "#0d0887"
             ],
             [
              0.1111111111111111,
              "#46039f"
             ],
             [
              0.2222222222222222,
              "#7201a8"
             ],
             [
              0.3333333333333333,
              "#9c179e"
             ],
             [
              0.4444444444444444,
              "#bd3786"
             ],
             [
              0.5555555555555556,
              "#d8576b"
             ],
             [
              0.6666666666666666,
              "#ed7953"
             ],
             [
              0.7777777777777778,
              "#fb9f3a"
             ],
             [
              0.8888888888888888,
              "#fdca26"
             ],
             [
              1,
              "#f0f921"
             ]
            ],
            "type": "histogram2d"
           }
          ],
          "histogram2dcontour": [
           {
            "colorbar": {
             "outlinewidth": 0,
             "ticks": ""
            },
            "colorscale": [
             [
              0,
              "#0d0887"
             ],
             [
              0.1111111111111111,
              "#46039f"
             ],
             [
              0.2222222222222222,
              "#7201a8"
             ],
             [
              0.3333333333333333,
              "#9c179e"
             ],
             [
              0.4444444444444444,
              "#bd3786"
             ],
             [
              0.5555555555555556,
              "#d8576b"
             ],
             [
              0.6666666666666666,
              "#ed7953"
             ],
             [
              0.7777777777777778,
              "#fb9f3a"
             ],
             [
              0.8888888888888888,
              "#fdca26"
             ],
             [
              1,
              "#f0f921"
             ]
            ],
            "type": "histogram2dcontour"
           }
          ],
          "mesh3d": [
           {
            "colorbar": {
             "outlinewidth": 0,
             "ticks": ""
            },
            "type": "mesh3d"
           }
          ],
          "parcoords": [
           {
            "line": {
             "colorbar": {
              "outlinewidth": 0,
              "ticks": ""
             }
            },
            "type": "parcoords"
           }
          ],
          "pie": [
           {
            "automargin": true,
            "type": "pie"
           }
          ],
          "scatter": [
           {
            "fillpattern": {
             "fillmode": "overlay",
             "size": 10,
             "solidity": 0.2
            },
            "type": "scatter"
           }
          ],
          "scatter3d": [
           {
            "line": {
             "colorbar": {
              "outlinewidth": 0,
              "ticks": ""
             }
            },
            "marker": {
             "colorbar": {
              "outlinewidth": 0,
              "ticks": ""
             }
            },
            "type": "scatter3d"
           }
          ],
          "scattercarpet": [
           {
            "marker": {
             "colorbar": {
              "outlinewidth": 0,
              "ticks": ""
             }
            },
            "type": "scattercarpet"
           }
          ],
          "scattergeo": [
           {
            "marker": {
             "colorbar": {
              "outlinewidth": 0,
              "ticks": ""
             }
            },
            "type": "scattergeo"
           }
          ],
          "scattergl": [
           {
            "marker": {
             "colorbar": {
              "outlinewidth": 0,
              "ticks": ""
             }
            },
            "type": "scattergl"
           }
          ],
          "scattermapbox": [
           {
            "marker": {
             "colorbar": {
              "outlinewidth": 0,
              "ticks": ""
             }
            },
            "type": "scattermapbox"
           }
          ],
          "scatterpolar": [
           {
            "marker": {
             "colorbar": {
              "outlinewidth": 0,
              "ticks": ""
             }
            },
            "type": "scatterpolar"
           }
          ],
          "scatterpolargl": [
           {
            "marker": {
             "colorbar": {
              "outlinewidth": 0,
              "ticks": ""
             }
            },
            "type": "scatterpolargl"
           }
          ],
          "scatterternary": [
           {
            "marker": {
             "colorbar": {
              "outlinewidth": 0,
              "ticks": ""
             }
            },
            "type": "scatterternary"
           }
          ],
          "surface": [
           {
            "colorbar": {
             "outlinewidth": 0,
             "ticks": ""
            },
            "colorscale": [
             [
              0,
              "#0d0887"
             ],
             [
              0.1111111111111111,
              "#46039f"
             ],
             [
              0.2222222222222222,
              "#7201a8"
             ],
             [
              0.3333333333333333,
              "#9c179e"
             ],
             [
              0.4444444444444444,
              "#bd3786"
             ],
             [
              0.5555555555555556,
              "#d8576b"
             ],
             [
              0.6666666666666666,
              "#ed7953"
             ],
             [
              0.7777777777777778,
              "#fb9f3a"
             ],
             [
              0.8888888888888888,
              "#fdca26"
             ],
             [
              1,
              "#f0f921"
             ]
            ],
            "type": "surface"
           }
          ],
          "table": [
           {
            "cells": {
             "fill": {
              "color": "#EBF0F8"
             },
             "line": {
              "color": "white"
             }
            },
            "header": {
             "fill": {
              "color": "#C8D4E3"
             },
             "line": {
              "color": "white"
             }
            },
            "type": "table"
           }
          ]
         },
         "layout": {
          "annotationdefaults": {
           "arrowcolor": "#2a3f5f",
           "arrowhead": 0,
           "arrowwidth": 1
          },
          "autotypenumbers": "strict",
          "coloraxis": {
           "colorbar": {
            "outlinewidth": 0,
            "ticks": ""
           }
          },
          "colorscale": {
           "diverging": [
            [
             0,
             "#8e0152"
            ],
            [
             0.1,
             "#c51b7d"
            ],
            [
             0.2,
             "#de77ae"
            ],
            [
             0.3,
             "#f1b6da"
            ],
            [
             0.4,
             "#fde0ef"
            ],
            [
             0.5,
             "#f7f7f7"
            ],
            [
             0.6,
             "#e6f5d0"
            ],
            [
             0.7,
             "#b8e186"
            ],
            [
             0.8,
             "#7fbc41"
            ],
            [
             0.9,
             "#4d9221"
            ],
            [
             1,
             "#276419"
            ]
           ],
           "sequential": [
            [
             0,
             "#0d0887"
            ],
            [
             0.1111111111111111,
             "#46039f"
            ],
            [
             0.2222222222222222,
             "#7201a8"
            ],
            [
             0.3333333333333333,
             "#9c179e"
            ],
            [
             0.4444444444444444,
             "#bd3786"
            ],
            [
             0.5555555555555556,
             "#d8576b"
            ],
            [
             0.6666666666666666,
             "#ed7953"
            ],
            [
             0.7777777777777778,
             "#fb9f3a"
            ],
            [
             0.8888888888888888,
             "#fdca26"
            ],
            [
             1,
             "#f0f921"
            ]
           ],
           "sequentialminus": [
            [
             0,
             "#0d0887"
            ],
            [
             0.1111111111111111,
             "#46039f"
            ],
            [
             0.2222222222222222,
             "#7201a8"
            ],
            [
             0.3333333333333333,
             "#9c179e"
            ],
            [
             0.4444444444444444,
             "#bd3786"
            ],
            [
             0.5555555555555556,
             "#d8576b"
            ],
            [
             0.6666666666666666,
             "#ed7953"
            ],
            [
             0.7777777777777778,
             "#fb9f3a"
            ],
            [
             0.8888888888888888,
             "#fdca26"
            ],
            [
             1,
             "#f0f921"
            ]
           ]
          },
          "colorway": [
           "#636efa",
           "#EF553B",
           "#00cc96",
           "#ab63fa",
           "#FFA15A",
           "#19d3f3",
           "#FF6692",
           "#B6E880",
           "#FF97FF",
           "#FECB52"
          ],
          "font": {
           "color": "#2a3f5f"
          },
          "geo": {
           "bgcolor": "white",
           "lakecolor": "white",
           "landcolor": "#E5ECF6",
           "showlakes": true,
           "showland": true,
           "subunitcolor": "white"
          },
          "hoverlabel": {
           "align": "left"
          },
          "hovermode": "closest",
          "mapbox": {
           "style": "light"
          },
          "paper_bgcolor": "white",
          "plot_bgcolor": "#E5ECF6",
          "polar": {
           "angularaxis": {
            "gridcolor": "white",
            "linecolor": "white",
            "ticks": ""
           },
           "bgcolor": "#E5ECF6",
           "radialaxis": {
            "gridcolor": "white",
            "linecolor": "white",
            "ticks": ""
           }
          },
          "scene": {
           "xaxis": {
            "backgroundcolor": "#E5ECF6",
            "gridcolor": "white",
            "gridwidth": 2,
            "linecolor": "white",
            "showbackground": true,
            "ticks": "",
            "zerolinecolor": "white"
           },
           "yaxis": {
            "backgroundcolor": "#E5ECF6",
            "gridcolor": "white",
            "gridwidth": 2,
            "linecolor": "white",
            "showbackground": true,
            "ticks": "",
            "zerolinecolor": "white"
           },
           "zaxis": {
            "backgroundcolor": "#E5ECF6",
            "gridcolor": "white",
            "gridwidth": 2,
            "linecolor": "white",
            "showbackground": true,
            "ticks": "",
            "zerolinecolor": "white"
           }
          },
          "shapedefaults": {
           "line": {
            "color": "#2a3f5f"
           }
          },
          "ternary": {
           "aaxis": {
            "gridcolor": "white",
            "linecolor": "white",
            "ticks": ""
           },
           "baxis": {
            "gridcolor": "white",
            "linecolor": "white",
            "ticks": ""
           },
           "bgcolor": "#E5ECF6",
           "caxis": {
            "gridcolor": "white",
            "linecolor": "white",
            "ticks": ""
           }
          },
          "title": {
           "x": 0.05
          },
          "xaxis": {
           "automargin": true,
           "gridcolor": "white",
           "linecolor": "white",
           "ticks": "",
           "title": {
            "standoff": 15
           },
           "zerolinecolor": "white",
           "zerolinewidth": 2
          },
          "yaxis": {
           "automargin": true,
           "gridcolor": "white",
           "linecolor": "white",
           "ticks": "",
           "title": {
            "standoff": 15
           },
           "zerolinecolor": "white",
           "zerolinewidth": 2
          }
         }
        },
        "title": {
         "text": "User activity per sector"
        },
        "xaxis": {
         "anchor": "y",
         "domain": [
          0,
          1
         ],
         "tickformat": "%a, %d %B",
         "title": {
          "text": "Date"
         }
        },
        "yaxis": {
         "anchor": "x",
         "domain": [
          0,
          1
         ],
         "title": {
          "text": "Clicks"
         }
        }
       }
      }
     },
     "metadata": {},
     "output_type": "display_data"
    }
   ],
   "source": [
    "fig = go.Figure()\n",
    "\n",
    "fig = px.line(traffic_per_sector_per_day, x=\"date\", y=\"clicks\", color='sector_name', title='User activity per sector')\\\n",
    "     .update_layout(yaxis_title='Clicks', legend_title='Sector')\n",
    "\n",
    "fig.update_xaxes(\n",
    "    title='Date',\n",
    "    tickformat=\"%a, %d %B\"\n",
    ")\n",
    "fig.show()"
   ]
  },
  {
   "cell_type": "markdown",
   "metadata": {},
   "source": [
    "Line plot of impressions per day per sector"
   ]
  },
  {
   "cell_type": "code",
   "execution_count": 186,
   "metadata": {},
   "outputs": [
    {
     "data": {
      "application/vnd.plotly.v1+json": {
       "config": {
        "plotlyServerURL": "https://plot.ly"
       },
       "data": [
        {
         "hovertemplate": "sector_name=Baumärkte<br>date=%{x}<br>impressions=%{y}<extra></extra>",
         "legendgroup": "Baumärkte",
         "line": {
          "color": "#636efa",
          "dash": "solid"
         },
         "marker": {
          "symbol": "circle"
         },
         "mode": "lines",
         "name": "Baumärkte",
         "orientation": "v",
         "showlegend": true,
         "type": "scatter",
         "x": [
          "2023-07-01T00:00:00",
          "2023-07-02T00:00:00",
          "2023-07-03T00:00:00",
          "2023-07-04T00:00:00",
          "2023-07-05T00:00:00",
          "2023-07-06T00:00:00",
          "2023-07-07T00:00:00"
         ],
         "xaxis": "x",
         "y": [
          43142,
          61987,
          30447,
          30324,
          37398,
          35649,
          34048
         ],
         "yaxis": "y"
        },
        {
         "hovertemplate": "sector_name=Discounter<br>date=%{x}<br>impressions=%{y}<extra></extra>",
         "legendgroup": "Discounter",
         "line": {
          "color": "#EF553B",
          "dash": "solid"
         },
         "marker": {
          "symbol": "circle"
         },
         "mode": "lines",
         "name": "Discounter",
         "orientation": "v",
         "showlegend": true,
         "type": "scatter",
         "x": [
          "2023-07-01T00:00:00",
          "2023-07-02T00:00:00",
          "2023-07-03T00:00:00",
          "2023-07-04T00:00:00",
          "2023-07-05T00:00:00",
          "2023-07-06T00:00:00",
          "2023-07-07T00:00:00"
         ],
         "xaxis": "x",
         "y": [
          532740,
          740585,
          444975,
          312890,
          357420,
          379258,
          349363
         ],
         "yaxis": "y"
        },
        {
         "hovertemplate": "sector_name=Drogerie-und-Parfuemerie<br>date=%{x}<br>impressions=%{y}<extra></extra>",
         "legendgroup": "Drogerie-und-Parfuemerie",
         "line": {
          "color": "#00cc96",
          "dash": "solid"
         },
         "marker": {
          "symbol": "circle"
         },
         "mode": "lines",
         "name": "Drogerie-und-Parfuemerie",
         "orientation": "v",
         "showlegend": true,
         "type": "scatter",
         "x": [
          "2023-07-01T00:00:00",
          "2023-07-02T00:00:00",
          "2023-07-03T00:00:00",
          "2023-07-04T00:00:00",
          "2023-07-05T00:00:00",
          "2023-07-06T00:00:00",
          "2023-07-07T00:00:00"
         ],
         "xaxis": "x",
         "y": [
          57098,
          67812,
          50468,
          25124,
          44849,
          27154,
          32552
         ],
         "yaxis": "y"
        },
        {
         "hovertemplate": "sector_name=Elektromärkte<br>date=%{x}<br>impressions=%{y}<extra></extra>",
         "legendgroup": "Elektromärkte",
         "line": {
          "color": "#ab63fa",
          "dash": "solid"
         },
         "marker": {
          "symbol": "circle"
         },
         "mode": "lines",
         "name": "Elektromärkte",
         "orientation": "v",
         "showlegend": true,
         "type": "scatter",
         "x": [
          "2023-07-01T00:00:00",
          "2023-07-02T00:00:00",
          "2023-07-03T00:00:00",
          "2023-07-04T00:00:00",
          "2023-07-05T00:00:00",
          "2023-07-06T00:00:00",
          "2023-07-07T00:00:00"
         ],
         "xaxis": "x",
         "y": [
          255411,
          319388,
          133837,
          46062,
          44331,
          165730,
          147319
         ],
         "yaxis": "y"
        },
        {
         "hovertemplate": "sector_name=Möbel & Einrichtung<br>date=%{x}<br>impressions=%{y}<extra></extra>",
         "legendgroup": "Möbel & Einrichtung",
         "line": {
          "color": "#FFA15A",
          "dash": "solid"
         },
         "marker": {
          "symbol": "circle"
         },
         "mode": "lines",
         "name": "Möbel & Einrichtung",
         "orientation": "v",
         "showlegend": true,
         "type": "scatter",
         "x": [
          "2023-07-01T00:00:00",
          "2023-07-02T00:00:00",
          "2023-07-03T00:00:00",
          "2023-07-04T00:00:00",
          "2023-07-05T00:00:00",
          "2023-07-06T00:00:00",
          "2023-07-07T00:00:00"
         ],
         "xaxis": "x",
         "y": [
          163037,
          204381,
          120219,
          101693,
          108664,
          105098,
          77369
         ],
         "yaxis": "y"
        },
        {
         "hovertemplate": "sector_name=Supermärkte<br>date=%{x}<br>impressions=%{y}<extra></extra>",
         "legendgroup": "Supermärkte",
         "line": {
          "color": "#19d3f3",
          "dash": "solid"
         },
         "marker": {
          "symbol": "circle"
         },
         "mode": "lines",
         "name": "Supermärkte",
         "orientation": "v",
         "showlegend": true,
         "type": "scatter",
         "x": [
          "2023-07-01T00:00:00",
          "2023-07-02T00:00:00",
          "2023-07-03T00:00:00",
          "2023-07-04T00:00:00",
          "2023-07-05T00:00:00",
          "2023-07-06T00:00:00",
          "2023-07-07T00:00:00"
         ],
         "xaxis": "x",
         "y": [
          397198,
          690203,
          497161,
          295122,
          276411,
          328525,
          272665
         ],
         "yaxis": "y"
        }
       ],
       "layout": {
        "legend": {
         "title": {
          "text": "Sector"
         },
         "tracegroupgap": 0
        },
        "template": {
         "data": {
          "bar": [
           {
            "error_x": {
             "color": "#2a3f5f"
            },
            "error_y": {
             "color": "#2a3f5f"
            },
            "marker": {
             "line": {
              "color": "#E5ECF6",
              "width": 0.5
             },
             "pattern": {
              "fillmode": "overlay",
              "size": 10,
              "solidity": 0.2
             }
            },
            "type": "bar"
           }
          ],
          "barpolar": [
           {
            "marker": {
             "line": {
              "color": "#E5ECF6",
              "width": 0.5
             },
             "pattern": {
              "fillmode": "overlay",
              "size": 10,
              "solidity": 0.2
             }
            },
            "type": "barpolar"
           }
          ],
          "carpet": [
           {
            "aaxis": {
             "endlinecolor": "#2a3f5f",
             "gridcolor": "white",
             "linecolor": "white",
             "minorgridcolor": "white",
             "startlinecolor": "#2a3f5f"
            },
            "baxis": {
             "endlinecolor": "#2a3f5f",
             "gridcolor": "white",
             "linecolor": "white",
             "minorgridcolor": "white",
             "startlinecolor": "#2a3f5f"
            },
            "type": "carpet"
           }
          ],
          "choropleth": [
           {
            "colorbar": {
             "outlinewidth": 0,
             "ticks": ""
            },
            "type": "choropleth"
           }
          ],
          "contour": [
           {
            "colorbar": {
             "outlinewidth": 0,
             "ticks": ""
            },
            "colorscale": [
             [
              0,
              "#0d0887"
             ],
             [
              0.1111111111111111,
              "#46039f"
             ],
             [
              0.2222222222222222,
              "#7201a8"
             ],
             [
              0.3333333333333333,
              "#9c179e"
             ],
             [
              0.4444444444444444,
              "#bd3786"
             ],
             [
              0.5555555555555556,
              "#d8576b"
             ],
             [
              0.6666666666666666,
              "#ed7953"
             ],
             [
              0.7777777777777778,
              "#fb9f3a"
             ],
             [
              0.8888888888888888,
              "#fdca26"
             ],
             [
              1,
              "#f0f921"
             ]
            ],
            "type": "contour"
           }
          ],
          "contourcarpet": [
           {
            "colorbar": {
             "outlinewidth": 0,
             "ticks": ""
            },
            "type": "contourcarpet"
           }
          ],
          "heatmap": [
           {
            "colorbar": {
             "outlinewidth": 0,
             "ticks": ""
            },
            "colorscale": [
             [
              0,
              "#0d0887"
             ],
             [
              0.1111111111111111,
              "#46039f"
             ],
             [
              0.2222222222222222,
              "#7201a8"
             ],
             [
              0.3333333333333333,
              "#9c179e"
             ],
             [
              0.4444444444444444,
              "#bd3786"
             ],
             [
              0.5555555555555556,
              "#d8576b"
             ],
             [
              0.6666666666666666,
              "#ed7953"
             ],
             [
              0.7777777777777778,
              "#fb9f3a"
             ],
             [
              0.8888888888888888,
              "#fdca26"
             ],
             [
              1,
              "#f0f921"
             ]
            ],
            "type": "heatmap"
           }
          ],
          "heatmapgl": [
           {
            "colorbar": {
             "outlinewidth": 0,
             "ticks": ""
            },
            "colorscale": [
             [
              0,
              "#0d0887"
             ],
             [
              0.1111111111111111,
              "#46039f"
             ],
             [
              0.2222222222222222,
              "#7201a8"
             ],
             [
              0.3333333333333333,
              "#9c179e"
             ],
             [
              0.4444444444444444,
              "#bd3786"
             ],
             [
              0.5555555555555556,
              "#d8576b"
             ],
             [
              0.6666666666666666,
              "#ed7953"
             ],
             [
              0.7777777777777778,
              "#fb9f3a"
             ],
             [
              0.8888888888888888,
              "#fdca26"
             ],
             [
              1,
              "#f0f921"
             ]
            ],
            "type": "heatmapgl"
           }
          ],
          "histogram": [
           {
            "marker": {
             "pattern": {
              "fillmode": "overlay",
              "size": 10,
              "solidity": 0.2
             }
            },
            "type": "histogram"
           }
          ],
          "histogram2d": [
           {
            "colorbar": {
             "outlinewidth": 0,
             "ticks": ""
            },
            "colorscale": [
             [
              0,
              "#0d0887"
             ],
             [
              0.1111111111111111,
              "#46039f"
             ],
             [
              0.2222222222222222,
              "#7201a8"
             ],
             [
              0.3333333333333333,
              "#9c179e"
             ],
             [
              0.4444444444444444,
              "#bd3786"
             ],
             [
              0.5555555555555556,
              "#d8576b"
             ],
             [
              0.6666666666666666,
              "#ed7953"
             ],
             [
              0.7777777777777778,
              "#fb9f3a"
             ],
             [
              0.8888888888888888,
              "#fdca26"
             ],
             [
              1,
              "#f0f921"
             ]
            ],
            "type": "histogram2d"
           }
          ],
          "histogram2dcontour": [
           {
            "colorbar": {
             "outlinewidth": 0,
             "ticks": ""
            },
            "colorscale": [
             [
              0,
              "#0d0887"
             ],
             [
              0.1111111111111111,
              "#46039f"
             ],
             [
              0.2222222222222222,
              "#7201a8"
             ],
             [
              0.3333333333333333,
              "#9c179e"
             ],
             [
              0.4444444444444444,
              "#bd3786"
             ],
             [
              0.5555555555555556,
              "#d8576b"
             ],
             [
              0.6666666666666666,
              "#ed7953"
             ],
             [
              0.7777777777777778,
              "#fb9f3a"
             ],
             [
              0.8888888888888888,
              "#fdca26"
             ],
             [
              1,
              "#f0f921"
             ]
            ],
            "type": "histogram2dcontour"
           }
          ],
          "mesh3d": [
           {
            "colorbar": {
             "outlinewidth": 0,
             "ticks": ""
            },
            "type": "mesh3d"
           }
          ],
          "parcoords": [
           {
            "line": {
             "colorbar": {
              "outlinewidth": 0,
              "ticks": ""
             }
            },
            "type": "parcoords"
           }
          ],
          "pie": [
           {
            "automargin": true,
            "type": "pie"
           }
          ],
          "scatter": [
           {
            "fillpattern": {
             "fillmode": "overlay",
             "size": 10,
             "solidity": 0.2
            },
            "type": "scatter"
           }
          ],
          "scatter3d": [
           {
            "line": {
             "colorbar": {
              "outlinewidth": 0,
              "ticks": ""
             }
            },
            "marker": {
             "colorbar": {
              "outlinewidth": 0,
              "ticks": ""
             }
            },
            "type": "scatter3d"
           }
          ],
          "scattercarpet": [
           {
            "marker": {
             "colorbar": {
              "outlinewidth": 0,
              "ticks": ""
             }
            },
            "type": "scattercarpet"
           }
          ],
          "scattergeo": [
           {
            "marker": {
             "colorbar": {
              "outlinewidth": 0,
              "ticks": ""
             }
            },
            "type": "scattergeo"
           }
          ],
          "scattergl": [
           {
            "marker": {
             "colorbar": {
              "outlinewidth": 0,
              "ticks": ""
             }
            },
            "type": "scattergl"
           }
          ],
          "scattermapbox": [
           {
            "marker": {
             "colorbar": {
              "outlinewidth": 0,
              "ticks": ""
             }
            },
            "type": "scattermapbox"
           }
          ],
          "scatterpolar": [
           {
            "marker": {
             "colorbar": {
              "outlinewidth": 0,
              "ticks": ""
             }
            },
            "type": "scatterpolar"
           }
          ],
          "scatterpolargl": [
           {
            "marker": {
             "colorbar": {
              "outlinewidth": 0,
              "ticks": ""
             }
            },
            "type": "scatterpolargl"
           }
          ],
          "scatterternary": [
           {
            "marker": {
             "colorbar": {
              "outlinewidth": 0,
              "ticks": ""
             }
            },
            "type": "scatterternary"
           }
          ],
          "surface": [
           {
            "colorbar": {
             "outlinewidth": 0,
             "ticks": ""
            },
            "colorscale": [
             [
              0,
              "#0d0887"
             ],
             [
              0.1111111111111111,
              "#46039f"
             ],
             [
              0.2222222222222222,
              "#7201a8"
             ],
             [
              0.3333333333333333,
              "#9c179e"
             ],
             [
              0.4444444444444444,
              "#bd3786"
             ],
             [
              0.5555555555555556,
              "#d8576b"
             ],
             [
              0.6666666666666666,
              "#ed7953"
             ],
             [
              0.7777777777777778,
              "#fb9f3a"
             ],
             [
              0.8888888888888888,
              "#fdca26"
             ],
             [
              1,
              "#f0f921"
             ]
            ],
            "type": "surface"
           }
          ],
          "table": [
           {
            "cells": {
             "fill": {
              "color": "#EBF0F8"
             },
             "line": {
              "color": "white"
             }
            },
            "header": {
             "fill": {
              "color": "#C8D4E3"
             },
             "line": {
              "color": "white"
             }
            },
            "type": "table"
           }
          ]
         },
         "layout": {
          "annotationdefaults": {
           "arrowcolor": "#2a3f5f",
           "arrowhead": 0,
           "arrowwidth": 1
          },
          "autotypenumbers": "strict",
          "coloraxis": {
           "colorbar": {
            "outlinewidth": 0,
            "ticks": ""
           }
          },
          "colorscale": {
           "diverging": [
            [
             0,
             "#8e0152"
            ],
            [
             0.1,
             "#c51b7d"
            ],
            [
             0.2,
             "#de77ae"
            ],
            [
             0.3,
             "#f1b6da"
            ],
            [
             0.4,
             "#fde0ef"
            ],
            [
             0.5,
             "#f7f7f7"
            ],
            [
             0.6,
             "#e6f5d0"
            ],
            [
             0.7,
             "#b8e186"
            ],
            [
             0.8,
             "#7fbc41"
            ],
            [
             0.9,
             "#4d9221"
            ],
            [
             1,
             "#276419"
            ]
           ],
           "sequential": [
            [
             0,
             "#0d0887"
            ],
            [
             0.1111111111111111,
             "#46039f"
            ],
            [
             0.2222222222222222,
             "#7201a8"
            ],
            [
             0.3333333333333333,
             "#9c179e"
            ],
            [
             0.4444444444444444,
             "#bd3786"
            ],
            [
             0.5555555555555556,
             "#d8576b"
            ],
            [
             0.6666666666666666,
             "#ed7953"
            ],
            [
             0.7777777777777778,
             "#fb9f3a"
            ],
            [
             0.8888888888888888,
             "#fdca26"
            ],
            [
             1,
             "#f0f921"
            ]
           ],
           "sequentialminus": [
            [
             0,
             "#0d0887"
            ],
            [
             0.1111111111111111,
             "#46039f"
            ],
            [
             0.2222222222222222,
             "#7201a8"
            ],
            [
             0.3333333333333333,
             "#9c179e"
            ],
            [
             0.4444444444444444,
             "#bd3786"
            ],
            [
             0.5555555555555556,
             "#d8576b"
            ],
            [
             0.6666666666666666,
             "#ed7953"
            ],
            [
             0.7777777777777778,
             "#fb9f3a"
            ],
            [
             0.8888888888888888,
             "#fdca26"
            ],
            [
             1,
             "#f0f921"
            ]
           ]
          },
          "colorway": [
           "#636efa",
           "#EF553B",
           "#00cc96",
           "#ab63fa",
           "#FFA15A",
           "#19d3f3",
           "#FF6692",
           "#B6E880",
           "#FF97FF",
           "#FECB52"
          ],
          "font": {
           "color": "#2a3f5f"
          },
          "geo": {
           "bgcolor": "white",
           "lakecolor": "white",
           "landcolor": "#E5ECF6",
           "showlakes": true,
           "showland": true,
           "subunitcolor": "white"
          },
          "hoverlabel": {
           "align": "left"
          },
          "hovermode": "closest",
          "mapbox": {
           "style": "light"
          },
          "paper_bgcolor": "white",
          "plot_bgcolor": "#E5ECF6",
          "polar": {
           "angularaxis": {
            "gridcolor": "white",
            "linecolor": "white",
            "ticks": ""
           },
           "bgcolor": "#E5ECF6",
           "radialaxis": {
            "gridcolor": "white",
            "linecolor": "white",
            "ticks": ""
           }
          },
          "scene": {
           "xaxis": {
            "backgroundcolor": "#E5ECF6",
            "gridcolor": "white",
            "gridwidth": 2,
            "linecolor": "white",
            "showbackground": true,
            "ticks": "",
            "zerolinecolor": "white"
           },
           "yaxis": {
            "backgroundcolor": "#E5ECF6",
            "gridcolor": "white",
            "gridwidth": 2,
            "linecolor": "white",
            "showbackground": true,
            "ticks": "",
            "zerolinecolor": "white"
           },
           "zaxis": {
            "backgroundcolor": "#E5ECF6",
            "gridcolor": "white",
            "gridwidth": 2,
            "linecolor": "white",
            "showbackground": true,
            "ticks": "",
            "zerolinecolor": "white"
           }
          },
          "shapedefaults": {
           "line": {
            "color": "#2a3f5f"
           }
          },
          "ternary": {
           "aaxis": {
            "gridcolor": "white",
            "linecolor": "white",
            "ticks": ""
           },
           "baxis": {
            "gridcolor": "white",
            "linecolor": "white",
            "ticks": ""
           },
           "bgcolor": "#E5ECF6",
           "caxis": {
            "gridcolor": "white",
            "linecolor": "white",
            "ticks": ""
           }
          },
          "title": {
           "x": 0.05
          },
          "xaxis": {
           "automargin": true,
           "gridcolor": "white",
           "linecolor": "white",
           "ticks": "",
           "title": {
            "standoff": 15
           },
           "zerolinecolor": "white",
           "zerolinewidth": 2
          },
          "yaxis": {
           "automargin": true,
           "gridcolor": "white",
           "linecolor": "white",
           "ticks": "",
           "title": {
            "standoff": 15
           },
           "zerolinecolor": "white",
           "zerolinewidth": 2
          }
         }
        },
        "title": {
         "text": "User activity per sector"
        },
        "xaxis": {
         "anchor": "y",
         "domain": [
          0,
          1
         ],
         "tickformat": "%a, %d %B",
         "title": {
          "text": "Date"
         }
        },
        "yaxis": {
         "anchor": "x",
         "domain": [
          0,
          1
         ],
         "title": {
          "text": "Impressions"
         }
        }
       }
      }
     },
     "metadata": {},
     "output_type": "display_data"
    }
   ],
   "source": [
    "fig = go.Figure()\n",
    "\n",
    "\n",
    "fig = px.line(traffic_per_sector_per_day, x=\"date\", y=\"impressions\", color='sector_name', title='User activity per sector')\\\n",
    "     .update_layout(yaxis_title='Impressions', legend_title='Sector')\n",
    "\n",
    "fig.update_xaxes(\n",
    "    title='Date',\n",
    "    tickformat=\"%a, %d %B\"\n",
    ")\n",
    "fig.show()"
   ]
  },
  {
   "cell_type": "markdown",
   "metadata": {},
   "source": [
    "Bar plot of hourly clicks per sector. One sector can be selected by double clicking on the legend"
   ]
  },
  {
   "cell_type": "code",
   "execution_count": 156,
   "metadata": {},
   "outputs": [
    {
     "data": {
      "application/vnd.plotly.v1+json": {
       "config": {
        "plotlyServerURL": "https://plot.ly"
       },
       "data": [
        {
         "name": "Baumärkte",
         "type": "bar",
         "x": [
          "2023-07-01 0",
          "2023-07-01 1",
          "2023-07-01 10",
          "2023-07-01 11",
          "2023-07-01 12",
          "2023-07-01 13",
          "2023-07-01 14",
          "2023-07-01 15",
          "2023-07-01 16",
          "2023-07-01 17",
          "2023-07-01 18",
          "2023-07-01 19",
          "2023-07-01 2",
          "2023-07-01 20",
          "2023-07-01 21",
          "2023-07-01 22",
          "2023-07-01 23",
          "2023-07-01 3",
          "2023-07-01 4",
          "2023-07-01 5",
          "2023-07-01 6",
          "2023-07-01 7",
          "2023-07-01 8",
          "2023-07-01 9",
          "2023-07-02 0",
          "2023-07-02 1",
          "2023-07-02 10",
          "2023-07-02 11",
          "2023-07-02 12",
          "2023-07-02 13",
          "2023-07-02 14",
          "2023-07-02 15",
          "2023-07-02 16",
          "2023-07-02 17",
          "2023-07-02 18",
          "2023-07-02 19",
          "2023-07-02 2",
          "2023-07-02 20",
          "2023-07-02 21",
          "2023-07-02 22",
          "2023-07-02 23",
          "2023-07-02 3",
          "2023-07-02 4",
          "2023-07-02 5",
          "2023-07-02 6",
          "2023-07-02 7",
          "2023-07-02 8",
          "2023-07-02 9",
          "2023-07-03 0",
          "2023-07-03 10",
          "2023-07-03 11",
          "2023-07-03 12",
          "2023-07-03 13",
          "2023-07-03 14",
          "2023-07-03 15",
          "2023-07-03 16",
          "2023-07-03 17",
          "2023-07-03 18",
          "2023-07-03 19",
          "2023-07-03 2",
          "2023-07-03 20",
          "2023-07-03 21",
          "2023-07-03 22",
          "2023-07-03 23",
          "2023-07-03 3",
          "2023-07-03 4",
          "2023-07-03 5",
          "2023-07-03 6",
          "2023-07-03 7",
          "2023-07-03 8",
          "2023-07-03 9",
          "2023-07-04 0",
          "2023-07-04 1",
          "2023-07-04 10",
          "2023-07-04 11",
          "2023-07-04 12",
          "2023-07-04 13",
          "2023-07-04 14",
          "2023-07-04 15",
          "2023-07-04 16",
          "2023-07-04 17",
          "2023-07-04 18",
          "2023-07-04 19",
          "2023-07-04 2",
          "2023-07-04 20",
          "2023-07-04 21",
          "2023-07-04 22",
          "2023-07-04 23",
          "2023-07-04 3",
          "2023-07-04 4",
          "2023-07-04 5",
          "2023-07-04 6",
          "2023-07-04 7",
          "2023-07-04 8",
          "2023-07-04 9",
          "2023-07-05 0",
          "2023-07-05 1",
          "2023-07-05 10",
          "2023-07-05 11",
          "2023-07-05 12",
          "2023-07-05 13",
          "2023-07-05 14",
          "2023-07-05 15",
          "2023-07-05 16",
          "2023-07-05 17",
          "2023-07-05 18",
          "2023-07-05 19",
          "2023-07-05 2",
          "2023-07-05 20",
          "2023-07-05 21",
          "2023-07-05 22",
          "2023-07-05 23",
          "2023-07-05 3",
          "2023-07-05 4",
          "2023-07-05 5",
          "2023-07-05 6",
          "2023-07-05 7",
          "2023-07-05 8",
          "2023-07-05 9",
          "2023-07-06 0",
          "2023-07-06 1",
          "2023-07-06 10",
          "2023-07-06 11",
          "2023-07-06 12",
          "2023-07-06 13",
          "2023-07-06 14",
          "2023-07-06 15",
          "2023-07-06 16",
          "2023-07-06 17",
          "2023-07-06 18",
          "2023-07-06 19",
          "2023-07-06 2",
          "2023-07-06 20",
          "2023-07-06 21",
          "2023-07-06 22",
          "2023-07-06 23",
          "2023-07-06 3",
          "2023-07-06 4",
          "2023-07-06 5",
          "2023-07-06 6",
          "2023-07-06 7",
          "2023-07-06 8",
          "2023-07-06 9",
          "2023-07-07 0",
          "2023-07-07 1",
          "2023-07-07 10",
          "2023-07-07 11",
          "2023-07-07 12",
          "2023-07-07 13",
          "2023-07-07 14",
          "2023-07-07 15",
          "2023-07-07 16",
          "2023-07-07 17",
          "2023-07-07 18",
          "2023-07-07 19",
          "2023-07-07 2",
          "2023-07-07 20",
          "2023-07-07 21",
          "2023-07-07 22",
          "2023-07-07 23",
          "2023-07-07 3",
          "2023-07-07 4",
          "2023-07-07 5",
          "2023-07-07 6",
          "2023-07-07 7",
          "2023-07-07 8",
          "2023-07-07 9"
         ],
         "y": [
          1,
          44,
          24,
          11,
          12,
          273,
          528,
          475,
          4,
          11,
          331,
          28,
          1,
          424,
          496,
          26,
          13,
          0,
          12,
          7,
          5,
          4,
          9,
          29,
          86,
          0,
          4,
          613,
          13,
          228,
          387,
          203,
          458,
          11,
          12,
          212,
          1,
          303,
          4,
          6,
          7,
          0,
          0,
          31,
          3,
          130,
          241,
          16,
          9,
          1,
          5,
          63,
          362,
          98,
          516,
          81,
          125,
          82,
          65,
          0,
          62,
          205,
          172,
          158,
          26,
          11,
          28,
          86,
          60,
          3,
          4,
          55,
          32,
          116,
          292,
          15,
          46,
          75,
          30,
          157,
          127,
          63,
          454,
          8,
          185,
          198,
          378,
          161,
          3,
          32,
          14,
          22,
          63,
          122,
          76,
          81,
          10,
          116,
          67,
          143,
          237,
          209,
          167,
          17,
          177,
          192,
          270,
          33,
          82,
          90,
          260,
          22,
          18,
          64,
          57,
          63,
          125,
          101,
          441,
          62,
          26,
          179,
          110,
          25,
          97,
          139,
          143,
          126,
          103,
          200,
          98,
          5,
          407,
          63,
          75,
          76,
          6,
          4,
          19,
          15,
          155,
          60,
          159,
          75,
          17,
          140,
          10,
          102,
          83,
          177,
          243,
          240,
          98,
          101,
          199,
          8,
          152,
          65,
          82,
          34,
          7,
          23,
          7,
          84,
          67,
          129,
          48
         ]
        },
        {
         "name": "Discounter",
         "type": "bar",
         "x": [
          "2023-07-01 0",
          "2023-07-01 1",
          "2023-07-01 10",
          "2023-07-01 11",
          "2023-07-01 12",
          "2023-07-01 13",
          "2023-07-01 14",
          "2023-07-01 15",
          "2023-07-01 16",
          "2023-07-01 17",
          "2023-07-01 18",
          "2023-07-01 19",
          "2023-07-01 2",
          "2023-07-01 20",
          "2023-07-01 21",
          "2023-07-01 22",
          "2023-07-01 23",
          "2023-07-01 3",
          "2023-07-01 4",
          "2023-07-01 5",
          "2023-07-01 6",
          "2023-07-01 7",
          "2023-07-01 8",
          "2023-07-01 9",
          "2023-07-02 0",
          "2023-07-02 1",
          "2023-07-02 10",
          "2023-07-02 11",
          "2023-07-02 12",
          "2023-07-02 13",
          "2023-07-02 14",
          "2023-07-02 15",
          "2023-07-02 16",
          "2023-07-02 17",
          "2023-07-02 18",
          "2023-07-02 19",
          "2023-07-02 2",
          "2023-07-02 20",
          "2023-07-02 21",
          "2023-07-02 22",
          "2023-07-02 23",
          "2023-07-02 3",
          "2023-07-02 4",
          "2023-07-02 5",
          "2023-07-02 6",
          "2023-07-02 7",
          "2023-07-02 8",
          "2023-07-02 9",
          "2023-07-03 0",
          "2023-07-03 1",
          "2023-07-03 10",
          "2023-07-03 11",
          "2023-07-03 12",
          "2023-07-03 13",
          "2023-07-03 14",
          "2023-07-03 15",
          "2023-07-03 16",
          "2023-07-03 17",
          "2023-07-03 18",
          "2023-07-03 19",
          "2023-07-03 2",
          "2023-07-03 20",
          "2023-07-03 21",
          "2023-07-03 22",
          "2023-07-03 23",
          "2023-07-03 3",
          "2023-07-03 4",
          "2023-07-03 5",
          "2023-07-03 6",
          "2023-07-03 7",
          "2023-07-03 8",
          "2023-07-03 9",
          "2023-07-04 0",
          "2023-07-04 1",
          "2023-07-04 10",
          "2023-07-04 11",
          "2023-07-04 12",
          "2023-07-04 13",
          "2023-07-04 14",
          "2023-07-04 15",
          "2023-07-04 16",
          "2023-07-04 17",
          "2023-07-04 18",
          "2023-07-04 19",
          "2023-07-04 2",
          "2023-07-04 20",
          "2023-07-04 21",
          "2023-07-04 22",
          "2023-07-04 23",
          "2023-07-04 3",
          "2023-07-04 4",
          "2023-07-04 5",
          "2023-07-04 6",
          "2023-07-04 7",
          "2023-07-04 8",
          "2023-07-04 9",
          "2023-07-05 0",
          "2023-07-05 1",
          "2023-07-05 10",
          "2023-07-05 11",
          "2023-07-05 12",
          "2023-07-05 13",
          "2023-07-05 14",
          "2023-07-05 15",
          "2023-07-05 16",
          "2023-07-05 17",
          "2023-07-05 18",
          "2023-07-05 19",
          "2023-07-05 2",
          "2023-07-05 20",
          "2023-07-05 21",
          "2023-07-05 22",
          "2023-07-05 23",
          "2023-07-05 3",
          "2023-07-05 4",
          "2023-07-05 5",
          "2023-07-05 6",
          "2023-07-05 7",
          "2023-07-05 8",
          "2023-07-05 9",
          "2023-07-06 0",
          "2023-07-06 1",
          "2023-07-06 10",
          "2023-07-06 11",
          "2023-07-06 12",
          "2023-07-06 13",
          "2023-07-06 14",
          "2023-07-06 15",
          "2023-07-06 16",
          "2023-07-06 17",
          "2023-07-06 18",
          "2023-07-06 19",
          "2023-07-06 2",
          "2023-07-06 20",
          "2023-07-06 21",
          "2023-07-06 22",
          "2023-07-06 23",
          "2023-07-06 3",
          "2023-07-06 4",
          "2023-07-06 5",
          "2023-07-06 6",
          "2023-07-06 7",
          "2023-07-06 8",
          "2023-07-06 9",
          "2023-07-07 0",
          "2023-07-07 1",
          "2023-07-07 10",
          "2023-07-07 11",
          "2023-07-07 12",
          "2023-07-07 13",
          "2023-07-07 14",
          "2023-07-07 15",
          "2023-07-07 16",
          "2023-07-07 17",
          "2023-07-07 18",
          "2023-07-07 19",
          "2023-07-07 2",
          "2023-07-07 20",
          "2023-07-07 21",
          "2023-07-07 22",
          "2023-07-07 23",
          "2023-07-07 3",
          "2023-07-07 4",
          "2023-07-07 5",
          "2023-07-07 6",
          "2023-07-07 7",
          "2023-07-07 8",
          "2023-07-07 9"
         ],
         "y": [
          1992,
          1023,
          12678,
          10388,
          6425,
          8557,
          4233,
          5929,
          6355,
          3076,
          5423,
          11122,
          685,
          8495,
          7228,
          3857,
          7147,
          391,
          392,
          373,
          1183,
          2809,
          3203,
          6888,
          4159,
          1449,
          16096,
          11454,
          8783,
          8479,
          4088,
          5815,
          5309,
          9671,
          12638,
          8534,
          1401,
          5959,
          10769,
          9359,
          4827,
          1099,
          486,
          790,
          1089,
          2889,
          5352,
          16449,
          2121,
          1455,
          5069,
          8847,
          4553,
          10238,
          5917,
          4908,
          5859,
          9145,
          5878,
          4230,
          1518,
          7547,
          8216,
          4549,
          3212,
          390,
          796,
          1149,
          1794,
          5397,
          4817,
          5337,
          1671,
          520,
          3887,
          4058,
          5938,
          3182,
          4836,
          4858,
          4211,
          4324,
          4851,
          5584,
          404,
          4387,
          3061,
          4490,
          2568,
          395,
          403,
          827,
          1130,
          3235,
          1844,
          2729,
          1301,
          701,
          4553,
          3087,
          3573,
          3645,
          4665,
          4055,
          3687,
          4237,
          6401,
          6287,
          448,
          3366,
          5057,
          4241,
          2990,
          383,
          414,
          679,
          1715,
          2812,
          4628,
          3623,
          1486,
          1104,
          3897,
          5777,
          3530,
          3978,
          3328,
          3680,
          3981,
          4594,
          5679,
          3388,
          367,
          7119,
          7930,
          4637,
          2367,
          191,
          449,
          916,
          1008,
          4263,
          2921,
          3698,
          1070,
          1099,
          4181,
          3947,
          4277,
          4931,
          4740,
          5006,
          4984,
          4887,
          3771,
          1730,
          392,
          3748,
          3683,
          4488,
          3204,
          199,
          411,
          646,
          1772,
          2653,
          3449,
          3771
         ]
        },
        {
         "name": "Drogerie-und-Parfuemerie",
         "type": "bar",
         "x": [
          "2023-07-01 1",
          "2023-07-01 10",
          "2023-07-01 14",
          "2023-07-01 15",
          "2023-07-01 18",
          "2023-07-01 20",
          "2023-07-01 22",
          "2023-07-01 3",
          "2023-07-01 4",
          "2023-07-01 5",
          "2023-07-01 7",
          "2023-07-01 8",
          "2023-07-01 9",
          "2023-07-02 0",
          "2023-07-02 11",
          "2023-07-02 12",
          "2023-07-02 13",
          "2023-07-02 16",
          "2023-07-02 18",
          "2023-07-02 19",
          "2023-07-02 7",
          "2023-07-03 0",
          "2023-07-03 1",
          "2023-07-03 10",
          "2023-07-03 12",
          "2023-07-03 13",
          "2023-07-03 14",
          "2023-07-03 15",
          "2023-07-03 19",
          "2023-07-03 2",
          "2023-07-03 21",
          "2023-07-03 22",
          "2023-07-03 5",
          "2023-07-03 6",
          "2023-07-03 8",
          "2023-07-04 1",
          "2023-07-04 11",
          "2023-07-04 17",
          "2023-07-04 21",
          "2023-07-04 22",
          "2023-07-04 23",
          "2023-07-04 3",
          "2023-07-04 4",
          "2023-07-04 5",
          "2023-07-04 6",
          "2023-07-04 8",
          "2023-07-05 0",
          "2023-07-05 12",
          "2023-07-05 17",
          "2023-07-05 18",
          "2023-07-05 19",
          "2023-07-05 20",
          "2023-07-05 3",
          "2023-07-05 7",
          "2023-07-05 8",
          "2023-07-05 9",
          "2023-07-06 0",
          "2023-07-06 10",
          "2023-07-06 11",
          "2023-07-06 12",
          "2023-07-06 15",
          "2023-07-06 17",
          "2023-07-06 19",
          "2023-07-06 23",
          "2023-07-06 5",
          "2023-07-07 14",
          "2023-07-07 17",
          "2023-07-07 18",
          "2023-07-07 20",
          "2023-07-07 21",
          "2023-07-07 22",
          "2023-07-07 23",
          "2023-07-07 3",
          "2023-07-07 4",
          "2023-07-07 5",
          "2023-07-07 7",
          "2023-07-07 8"
         ],
         "y": [
          110,
          3990,
          592,
          575,
          409,
          1118,
          478,
          70,
          92,
          48,
          208,
          280,
          1854,
          218,
          824,
          1962,
          637,
          613,
          634,
          1352,
          550,
          281,
          131,
          480,
          473,
          413,
          431,
          756,
          375,
          77,
          366,
          588,
          105,
          146,
          686,
          36,
          178,
          186,
          276,
          687,
          155,
          50,
          26,
          62,
          115,
          159,
          134,
          163,
          182,
          398,
          474,
          223,
          13,
          224,
          507,
          663,
          75,
          374,
          185,
          384,
          163,
          148,
          132,
          216,
          34,
          156,
          173,
          143,
          134,
          122,
          685,
          236,
          15,
          16,
          22,
          77,
          210
         ]
        },
        {
         "name": "Elektromärkte",
         "type": "bar",
         "x": [
          "2023-07-01 0",
          "2023-07-01 1",
          "2023-07-01 10",
          "2023-07-01 11",
          "2023-07-01 12",
          "2023-07-01 13",
          "2023-07-01 14",
          "2023-07-01 15",
          "2023-07-01 16",
          "2023-07-01 17",
          "2023-07-01 18",
          "2023-07-01 19",
          "2023-07-01 2",
          "2023-07-01 20",
          "2023-07-01 21",
          "2023-07-01 22",
          "2023-07-01 23",
          "2023-07-01 3",
          "2023-07-01 4",
          "2023-07-01 5",
          "2023-07-01 6",
          "2023-07-01 7",
          "2023-07-01 8",
          "2023-07-01 9",
          "2023-07-02 0",
          "2023-07-02 1",
          "2023-07-02 10",
          "2023-07-02 11",
          "2023-07-02 12",
          "2023-07-02 13",
          "2023-07-02 14",
          "2023-07-02 15",
          "2023-07-02 16",
          "2023-07-02 17",
          "2023-07-02 18",
          "2023-07-02 19",
          "2023-07-02 2",
          "2023-07-02 20",
          "2023-07-02 21",
          "2023-07-02 22",
          "2023-07-02 23",
          "2023-07-02 3",
          "2023-07-02 4",
          "2023-07-02 5",
          "2023-07-02 6",
          "2023-07-02 7",
          "2023-07-02 8",
          "2023-07-02 9",
          "2023-07-03 0",
          "2023-07-03 1",
          "2023-07-03 10",
          "2023-07-03 11",
          "2023-07-03 12",
          "2023-07-03 13",
          "2023-07-03 14",
          "2023-07-03 15",
          "2023-07-03 16",
          "2023-07-03 17",
          "2023-07-03 18",
          "2023-07-03 19",
          "2023-07-03 2",
          "2023-07-03 20",
          "2023-07-03 21",
          "2023-07-03 22",
          "2023-07-03 23",
          "2023-07-03 3",
          "2023-07-03 4",
          "2023-07-03 5",
          "2023-07-03 6",
          "2023-07-03 7",
          "2023-07-03 8",
          "2023-07-03 9",
          "2023-07-04 0",
          "2023-07-04 1",
          "2023-07-04 10",
          "2023-07-04 11",
          "2023-07-04 12",
          "2023-07-04 13",
          "2023-07-04 14",
          "2023-07-04 15",
          "2023-07-04 16",
          "2023-07-04 17",
          "2023-07-04 18",
          "2023-07-04 19",
          "2023-07-04 20",
          "2023-07-04 21",
          "2023-07-04 22",
          "2023-07-04 23",
          "2023-07-04 3",
          "2023-07-04 4",
          "2023-07-04 5",
          "2023-07-04 6",
          "2023-07-04 7",
          "2023-07-04 8",
          "2023-07-04 9",
          "2023-07-05 1",
          "2023-07-05 10",
          "2023-07-05 11",
          "2023-07-05 12",
          "2023-07-05 13",
          "2023-07-05 14",
          "2023-07-05 15",
          "2023-07-05 17",
          "2023-07-05 19",
          "2023-07-05 2",
          "2023-07-05 20",
          "2023-07-05 22",
          "2023-07-05 23",
          "2023-07-05 4",
          "2023-07-05 5",
          "2023-07-05 6",
          "2023-07-05 7",
          "2023-07-05 8",
          "2023-07-05 9",
          "2023-07-06 0",
          "2023-07-06 1",
          "2023-07-06 10",
          "2023-07-06 11",
          "2023-07-06 12",
          "2023-07-06 13",
          "2023-07-06 14",
          "2023-07-06 15",
          "2023-07-06 16",
          "2023-07-06 17",
          "2023-07-06 18",
          "2023-07-06 19",
          "2023-07-06 2",
          "2023-07-06 20",
          "2023-07-06 21",
          "2023-07-06 22",
          "2023-07-06 23",
          "2023-07-06 3",
          "2023-07-06 4",
          "2023-07-06 5",
          "2023-07-06 6",
          "2023-07-06 7",
          "2023-07-06 8",
          "2023-07-06 9",
          "2023-07-07 0",
          "2023-07-07 1",
          "2023-07-07 10",
          "2023-07-07 11",
          "2023-07-07 12",
          "2023-07-07 13",
          "2023-07-07 14",
          "2023-07-07 15",
          "2023-07-07 16",
          "2023-07-07 17",
          "2023-07-07 18",
          "2023-07-07 19",
          "2023-07-07 2",
          "2023-07-07 20",
          "2023-07-07 21",
          "2023-07-07 22",
          "2023-07-07 23",
          "2023-07-07 3",
          "2023-07-07 4",
          "2023-07-07 5",
          "2023-07-07 6",
          "2023-07-07 7",
          "2023-07-07 8",
          "2023-07-07 9"
         ],
         "y": [
          784,
          5,
          2155,
          1653,
          1508,
          2946,
          1471,
          1432,
          64,
          2661,
          1347,
          2226,
          6,
          2457,
          2124,
          730,
          1501,
          90,
          1,
          2,
          4,
          766,
          3,
          25,
          60,
          7,
          7174,
          3018,
          65,
          1946,
          1382,
          2669,
          1879,
          2593,
          70,
          4516,
          463,
          4715,
          2064,
          2528,
          1570,
          2,
          87,
          488,
          534,
          8,
          41,
          3255,
          0,
          764,
          689,
          4070,
          42,
          53,
          2939,
          476,
          2134,
          473,
          5,
          466,
          271,
          44,
          714,
          2848,
          246,
          99,
          172,
          6,
          12,
          859,
          1288,
          0,
          9,
          10,
          291,
          239,
          252,
          5,
          0,
          317,
          19,
          81,
          19,
          606,
          1,
          3,
          230,
          136,
          0,
          5,
          64,
          15,
          16,
          421,
          2,
          49,
          20,
          153,
          474,
          20,
          208,
          2,
          516,
          14,
          2,
          255,
          54,
          0,
          10,
          87,
          14,
          11,
          25,
          314,
          3,
          306,
          3700,
          2057,
          268,
          2237,
          7484,
          1640,
          58,
          2359,
          186,
          2008,
          32,
          962,
          3383,
          115,
          340,
          130,
          153,
          620,
          4,
          10,
          12,
          0,
          162,
          665,
          939,
          302,
          1494,
          3,
          1687,
          1848,
          1495,
          137,
          43,
          1408,
          44,
          2912,
          1559,
          345,
          1022,
          129,
          2,
          81,
          642,
          988,
          1129,
          115
         ]
        },
        {
         "name": "Möbel & Einrichtung",
         "type": "bar",
         "x": [
          "2023-07-01 0",
          "2023-07-01 1",
          "2023-07-01 10",
          "2023-07-01 11",
          "2023-07-01 12",
          "2023-07-01 13",
          "2023-07-01 14",
          "2023-07-01 15",
          "2023-07-01 16",
          "2023-07-01 17",
          "2023-07-01 18",
          "2023-07-01 19",
          "2023-07-01 2",
          "2023-07-01 20",
          "2023-07-01 21",
          "2023-07-01 22",
          "2023-07-01 23",
          "2023-07-01 3",
          "2023-07-01 4",
          "2023-07-01 5",
          "2023-07-01 6",
          "2023-07-01 7",
          "2023-07-01 8",
          "2023-07-01 9",
          "2023-07-02 0",
          "2023-07-02 1",
          "2023-07-02 10",
          "2023-07-02 11",
          "2023-07-02 12",
          "2023-07-02 13",
          "2023-07-02 14",
          "2023-07-02 15",
          "2023-07-02 16",
          "2023-07-02 17",
          "2023-07-02 18",
          "2023-07-02 19",
          "2023-07-02 2",
          "2023-07-02 20",
          "2023-07-02 21",
          "2023-07-02 22",
          "2023-07-02 23",
          "2023-07-02 3",
          "2023-07-02 4",
          "2023-07-02 5",
          "2023-07-02 6",
          "2023-07-02 7",
          "2023-07-02 8",
          "2023-07-02 9",
          "2023-07-03 0",
          "2023-07-03 1",
          "2023-07-03 10",
          "2023-07-03 11",
          "2023-07-03 12",
          "2023-07-03 13",
          "2023-07-03 14",
          "2023-07-03 15",
          "2023-07-03 16",
          "2023-07-03 17",
          "2023-07-03 18",
          "2023-07-03 2",
          "2023-07-03 20",
          "2023-07-03 21",
          "2023-07-03 22",
          "2023-07-03 23",
          "2023-07-03 3",
          "2023-07-03 4",
          "2023-07-03 5",
          "2023-07-03 6",
          "2023-07-03 7",
          "2023-07-03 8",
          "2023-07-03 9",
          "2023-07-04 0",
          "2023-07-04 1",
          "2023-07-04 10",
          "2023-07-04 11",
          "2023-07-04 12",
          "2023-07-04 13",
          "2023-07-04 14",
          "2023-07-04 15",
          "2023-07-04 16",
          "2023-07-04 17",
          "2023-07-04 18",
          "2023-07-04 19",
          "2023-07-04 2",
          "2023-07-04 20",
          "2023-07-04 21",
          "2023-07-04 22",
          "2023-07-04 23",
          "2023-07-04 3",
          "2023-07-04 4",
          "2023-07-04 5",
          "2023-07-04 6",
          "2023-07-04 7",
          "2023-07-04 8",
          "2023-07-04 9",
          "2023-07-05 0",
          "2023-07-05 1",
          "2023-07-05 10",
          "2023-07-05 11",
          "2023-07-05 12",
          "2023-07-05 13",
          "2023-07-05 14",
          "2023-07-05 15",
          "2023-07-05 16",
          "2023-07-05 17",
          "2023-07-05 18",
          "2023-07-05 19",
          "2023-07-05 20",
          "2023-07-05 21",
          "2023-07-05 22",
          "2023-07-05 23",
          "2023-07-05 4",
          "2023-07-05 5",
          "2023-07-05 6",
          "2023-07-05 7",
          "2023-07-05 8",
          "2023-07-05 9",
          "2023-07-06 0",
          "2023-07-06 1",
          "2023-07-06 10",
          "2023-07-06 11",
          "2023-07-06 12",
          "2023-07-06 13",
          "2023-07-06 14",
          "2023-07-06 15",
          "2023-07-06 16",
          "2023-07-06 17",
          "2023-07-06 18",
          "2023-07-06 19",
          "2023-07-06 2",
          "2023-07-06 20",
          "2023-07-06 21",
          "2023-07-06 22",
          "2023-07-06 23",
          "2023-07-06 3",
          "2023-07-06 4",
          "2023-07-06 5",
          "2023-07-06 6",
          "2023-07-06 7",
          "2023-07-06 8",
          "2023-07-06 9",
          "2023-07-07 0",
          "2023-07-07 1",
          "2023-07-07 10",
          "2023-07-07 11",
          "2023-07-07 12",
          "2023-07-07 13",
          "2023-07-07 14",
          "2023-07-07 15",
          "2023-07-07 16",
          "2023-07-07 17",
          "2023-07-07 18",
          "2023-07-07 19",
          "2023-07-07 2",
          "2023-07-07 20",
          "2023-07-07 21",
          "2023-07-07 22",
          "2023-07-07 23",
          "2023-07-07 4",
          "2023-07-07 5",
          "2023-07-07 6",
          "2023-07-07 7",
          "2023-07-07 8",
          "2023-07-07 9"
         ],
         "y": [
          254,
          79,
          1909,
          1615,
          152,
          370,
          1428,
          590,
          906,
          812,
          92,
          607,
          191,
          716,
          113,
          2162,
          726,
          173,
          3,
          93,
          273,
          407,
          523,
          240,
          440,
          377,
          2504,
          696,
          1637,
          1768,
          456,
          485,
          1057,
          1224,
          1281,
          620,
          204,
          51,
          54,
          545,
          586,
          25,
          3,
          55,
          368,
          335,
          491,
          744,
          243,
          194,
          1984,
          538,
          919,
          246,
          89,
          4,
          936,
          715,
          748,
          116,
          1785,
          373,
          856,
          483,
          94,
          83,
          32,
          420,
          601,
          284,
          2884,
          75,
          86,
          56,
          352,
          696,
          282,
          24,
          585,
          549,
          1022,
          951,
          389,
          48,
          277,
          800,
          523,
          4,
          2,
          34,
          60,
          230,
          323,
          276,
          120,
          15,
          80,
          271,
          666,
          307,
          249,
          419,
          0,
          92,
          27,
          376,
          1110,
          439,
          1004,
          556,
          936,
          20,
          145,
          5,
          182,
          17,
          594,
          186,
          116,
          1154,
          159,
          866,
          286,
          549,
          76,
          351,
          316,
          458,
          460,
          58,
          108,
          22,
          12,
          1024,
          45,
          59,
          0,
          456,
          114,
          224,
          221,
          178,
          5,
          360,
          213,
          378,
          122,
          0,
          90,
          836,
          171,
          529,
          526,
          2,
          697,
          571,
          407,
          180,
          89,
          66,
          112,
          141,
          97,
          50
         ]
        },
        {
         "name": "Supermärkte",
         "type": "bar",
         "x": [
          "2023-07-01 0",
          "2023-07-01 1",
          "2023-07-01 10",
          "2023-07-01 11",
          "2023-07-01 12",
          "2023-07-01 13",
          "2023-07-01 14",
          "2023-07-01 15",
          "2023-07-01 16",
          "2023-07-01 17",
          "2023-07-01 18",
          "2023-07-01 19",
          "2023-07-01 2",
          "2023-07-01 20",
          "2023-07-01 21",
          "2023-07-01 22",
          "2023-07-01 23",
          "2023-07-01 3",
          "2023-07-01 4",
          "2023-07-01 5",
          "2023-07-01 6",
          "2023-07-01 7",
          "2023-07-01 8",
          "2023-07-01 9",
          "2023-07-02 0",
          "2023-07-02 1",
          "2023-07-02 10",
          "2023-07-02 11",
          "2023-07-02 12",
          "2023-07-02 13",
          "2023-07-02 14",
          "2023-07-02 15",
          "2023-07-02 16",
          "2023-07-02 17",
          "2023-07-02 18",
          "2023-07-02 19",
          "2023-07-02 2",
          "2023-07-02 20",
          "2023-07-02 21",
          "2023-07-02 22",
          "2023-07-02 23",
          "2023-07-02 3",
          "2023-07-02 4",
          "2023-07-02 5",
          "2023-07-02 6",
          "2023-07-02 7",
          "2023-07-02 8",
          "2023-07-02 9",
          "2023-07-03 0",
          "2023-07-03 1",
          "2023-07-03 10",
          "2023-07-03 11",
          "2023-07-03 12",
          "2023-07-03 13",
          "2023-07-03 14",
          "2023-07-03 15",
          "2023-07-03 16",
          "2023-07-03 17",
          "2023-07-03 18",
          "2023-07-03 19",
          "2023-07-03 2",
          "2023-07-03 20",
          "2023-07-03 21",
          "2023-07-03 22",
          "2023-07-03 23",
          "2023-07-03 3",
          "2023-07-03 4",
          "2023-07-03 5",
          "2023-07-03 6",
          "2023-07-03 7",
          "2023-07-03 8",
          "2023-07-03 9",
          "2023-07-04 0",
          "2023-07-04 1",
          "2023-07-04 10",
          "2023-07-04 11",
          "2023-07-04 12",
          "2023-07-04 13",
          "2023-07-04 14",
          "2023-07-04 15",
          "2023-07-04 16",
          "2023-07-04 17",
          "2023-07-04 18",
          "2023-07-04 19",
          "2023-07-04 2",
          "2023-07-04 20",
          "2023-07-04 21",
          "2023-07-04 22",
          "2023-07-04 23",
          "2023-07-04 3",
          "2023-07-04 4",
          "2023-07-04 5",
          "2023-07-04 6",
          "2023-07-04 7",
          "2023-07-04 8",
          "2023-07-04 9",
          "2023-07-05 0",
          "2023-07-05 1",
          "2023-07-05 10",
          "2023-07-05 11",
          "2023-07-05 12",
          "2023-07-05 13",
          "2023-07-05 14",
          "2023-07-05 15",
          "2023-07-05 16",
          "2023-07-05 17",
          "2023-07-05 18",
          "2023-07-05 19",
          "2023-07-05 2",
          "2023-07-05 20",
          "2023-07-05 21",
          "2023-07-05 22",
          "2023-07-05 23",
          "2023-07-05 3",
          "2023-07-05 4",
          "2023-07-05 5",
          "2023-07-05 6",
          "2023-07-05 7",
          "2023-07-05 8",
          "2023-07-05 9",
          "2023-07-06 0",
          "2023-07-06 1",
          "2023-07-06 10",
          "2023-07-06 11",
          "2023-07-06 12",
          "2023-07-06 13",
          "2023-07-06 14",
          "2023-07-06 15",
          "2023-07-06 16",
          "2023-07-06 17",
          "2023-07-06 18",
          "2023-07-06 19",
          "2023-07-06 2",
          "2023-07-06 20",
          "2023-07-06 21",
          "2023-07-06 22",
          "2023-07-06 23",
          "2023-07-06 3",
          "2023-07-06 4",
          "2023-07-06 5",
          "2023-07-06 6",
          "2023-07-06 7",
          "2023-07-06 8",
          "2023-07-06 9",
          "2023-07-07 0",
          "2023-07-07 1",
          "2023-07-07 10",
          "2023-07-07 11",
          "2023-07-07 12",
          "2023-07-07 13",
          "2023-07-07 14",
          "2023-07-07 15",
          "2023-07-07 16",
          "2023-07-07 17",
          "2023-07-07 18",
          "2023-07-07 19",
          "2023-07-07 2",
          "2023-07-07 20",
          "2023-07-07 21",
          "2023-07-07 22",
          "2023-07-07 23",
          "2023-07-07 3",
          "2023-07-07 4",
          "2023-07-07 5",
          "2023-07-07 6",
          "2023-07-07 7",
          "2023-07-07 8",
          "2023-07-07 9"
         ],
         "y": [
          654,
          378,
          3558,
          4372,
          3096,
          3578,
          3533,
          3896,
          4278,
          2948,
          3103,
          3855,
          334,
          4222,
          3233,
          2652,
          1668,
          156,
          230,
          334,
          577,
          1591,
          3212,
          5363,
          4929,
          2228,
          17240,
          13049,
          7800,
          5523,
          7101,
          4655,
          7885,
          13215,
          7421,
          10855,
          613,
          8901,
          7838,
          6444,
          3729,
          593,
          625,
          1253,
          1566,
          4815,
          6903,
          15134,
          1935,
          883,
          7004,
          7858,
          7725,
          5098,
          4597,
          6107,
          7105,
          6871,
          5646,
          6314,
          635,
          5011,
          4028,
          3166,
          2505,
          425,
          447,
          937,
          2251,
          2941,
          4937,
          6204,
          807,
          401,
          2957,
          2479,
          3344,
          2655,
          3522,
          2759,
          3816,
          3222,
          2773,
          3243,
          256,
          4465,
          3388,
          2080,
          1228,
          161,
          200,
          441,
          1184,
          1884,
          2196,
          2337,
          553,
          393,
          2308,
          2679,
          2191,
          2262,
          2769,
          2701,
          3157,
          3136,
          2993,
          2991,
          194,
          2417,
          2532,
          2087,
          1227,
          164,
          179,
          373,
          880,
          1437,
          1878,
          3045,
          898,
          397,
          3498,
          2782,
          3175,
          3231,
          2516,
          2883,
          4432,
          2513,
          2810,
          3908,
          222,
          5273,
          2413,
          2085,
          1545,
          167,
          288,
          542,
          875,
          1917,
          2283,
          2545,
          721,
          361,
          2082,
          2477,
          2286,
          3579,
          2921,
          3200,
          3388,
          3575,
          2165,
          2861,
          150,
          2037,
          1747,
          1629,
          1121,
          127,
          138,
          534,
          965,
          1831,
          2201,
          2458
         ]
        }
       ],
       "layout": {
        "template": {
         "data": {
          "bar": [
           {
            "error_x": {
             "color": "#2a3f5f"
            },
            "error_y": {
             "color": "#2a3f5f"
            },
            "marker": {
             "line": {
              "color": "#E5ECF6",
              "width": 0.5
             },
             "pattern": {
              "fillmode": "overlay",
              "size": 10,
              "solidity": 0.2
             }
            },
            "type": "bar"
           }
          ],
          "barpolar": [
           {
            "marker": {
             "line": {
              "color": "#E5ECF6",
              "width": 0.5
             },
             "pattern": {
              "fillmode": "overlay",
              "size": 10,
              "solidity": 0.2
             }
            },
            "type": "barpolar"
           }
          ],
          "carpet": [
           {
            "aaxis": {
             "endlinecolor": "#2a3f5f",
             "gridcolor": "white",
             "linecolor": "white",
             "minorgridcolor": "white",
             "startlinecolor": "#2a3f5f"
            },
            "baxis": {
             "endlinecolor": "#2a3f5f",
             "gridcolor": "white",
             "linecolor": "white",
             "minorgridcolor": "white",
             "startlinecolor": "#2a3f5f"
            },
            "type": "carpet"
           }
          ],
          "choropleth": [
           {
            "colorbar": {
             "outlinewidth": 0,
             "ticks": ""
            },
            "type": "choropleth"
           }
          ],
          "contour": [
           {
            "colorbar": {
             "outlinewidth": 0,
             "ticks": ""
            },
            "colorscale": [
             [
              0,
              "#0d0887"
             ],
             [
              0.1111111111111111,
              "#46039f"
             ],
             [
              0.2222222222222222,
              "#7201a8"
             ],
             [
              0.3333333333333333,
              "#9c179e"
             ],
             [
              0.4444444444444444,
              "#bd3786"
             ],
             [
              0.5555555555555556,
              "#d8576b"
             ],
             [
              0.6666666666666666,
              "#ed7953"
             ],
             [
              0.7777777777777778,
              "#fb9f3a"
             ],
             [
              0.8888888888888888,
              "#fdca26"
             ],
             [
              1,
              "#f0f921"
             ]
            ],
            "type": "contour"
           }
          ],
          "contourcarpet": [
           {
            "colorbar": {
             "outlinewidth": 0,
             "ticks": ""
            },
            "type": "contourcarpet"
           }
          ],
          "heatmap": [
           {
            "colorbar": {
             "outlinewidth": 0,
             "ticks": ""
            },
            "colorscale": [
             [
              0,
              "#0d0887"
             ],
             [
              0.1111111111111111,
              "#46039f"
             ],
             [
              0.2222222222222222,
              "#7201a8"
             ],
             [
              0.3333333333333333,
              "#9c179e"
             ],
             [
              0.4444444444444444,
              "#bd3786"
             ],
             [
              0.5555555555555556,
              "#d8576b"
             ],
             [
              0.6666666666666666,
              "#ed7953"
             ],
             [
              0.7777777777777778,
              "#fb9f3a"
             ],
             [
              0.8888888888888888,
              "#fdca26"
             ],
             [
              1,
              "#f0f921"
             ]
            ],
            "type": "heatmap"
           }
          ],
          "heatmapgl": [
           {
            "colorbar": {
             "outlinewidth": 0,
             "ticks": ""
            },
            "colorscale": [
             [
              0,
              "#0d0887"
             ],
             [
              0.1111111111111111,
              "#46039f"
             ],
             [
              0.2222222222222222,
              "#7201a8"
             ],
             [
              0.3333333333333333,
              "#9c179e"
             ],
             [
              0.4444444444444444,
              "#bd3786"
             ],
             [
              0.5555555555555556,
              "#d8576b"
             ],
             [
              0.6666666666666666,
              "#ed7953"
             ],
             [
              0.7777777777777778,
              "#fb9f3a"
             ],
             [
              0.8888888888888888,
              "#fdca26"
             ],
             [
              1,
              "#f0f921"
             ]
            ],
            "type": "heatmapgl"
           }
          ],
          "histogram": [
           {
            "marker": {
             "pattern": {
              "fillmode": "overlay",
              "size": 10,
              "solidity": 0.2
             }
            },
            "type": "histogram"
           }
          ],
          "histogram2d": [
           {
            "colorbar": {
             "outlinewidth": 0,
             "ticks": ""
            },
            "colorscale": [
             [
              0,
              "#0d0887"
             ],
             [
              0.1111111111111111,
              "#46039f"
             ],
             [
              0.2222222222222222,
              "#7201a8"
             ],
             [
              0.3333333333333333,
              "#9c179e"
             ],
             [
              0.4444444444444444,
              "#bd3786"
             ],
             [
              0.5555555555555556,
              "#d8576b"
             ],
             [
              0.6666666666666666,
              "#ed7953"
             ],
             [
              0.7777777777777778,
              "#fb9f3a"
             ],
             [
              0.8888888888888888,
              "#fdca26"
             ],
             [
              1,
              "#f0f921"
             ]
            ],
            "type": "histogram2d"
           }
          ],
          "histogram2dcontour": [
           {
            "colorbar": {
             "outlinewidth": 0,
             "ticks": ""
            },
            "colorscale": [
             [
              0,
              "#0d0887"
             ],
             [
              0.1111111111111111,
              "#46039f"
             ],
             [
              0.2222222222222222,
              "#7201a8"
             ],
             [
              0.3333333333333333,
              "#9c179e"
             ],
             [
              0.4444444444444444,
              "#bd3786"
             ],
             [
              0.5555555555555556,
              "#d8576b"
             ],
             [
              0.6666666666666666,
              "#ed7953"
             ],
             [
              0.7777777777777778,
              "#fb9f3a"
             ],
             [
              0.8888888888888888,
              "#fdca26"
             ],
             [
              1,
              "#f0f921"
             ]
            ],
            "type": "histogram2dcontour"
           }
          ],
          "mesh3d": [
           {
            "colorbar": {
             "outlinewidth": 0,
             "ticks": ""
            },
            "type": "mesh3d"
           }
          ],
          "parcoords": [
           {
            "line": {
             "colorbar": {
              "outlinewidth": 0,
              "ticks": ""
             }
            },
            "type": "parcoords"
           }
          ],
          "pie": [
           {
            "automargin": true,
            "type": "pie"
           }
          ],
          "scatter": [
           {
            "fillpattern": {
             "fillmode": "overlay",
             "size": 10,
             "solidity": 0.2
            },
            "type": "scatter"
           }
          ],
          "scatter3d": [
           {
            "line": {
             "colorbar": {
              "outlinewidth": 0,
              "ticks": ""
             }
            },
            "marker": {
             "colorbar": {
              "outlinewidth": 0,
              "ticks": ""
             }
            },
            "type": "scatter3d"
           }
          ],
          "scattercarpet": [
           {
            "marker": {
             "colorbar": {
              "outlinewidth": 0,
              "ticks": ""
             }
            },
            "type": "scattercarpet"
           }
          ],
          "scattergeo": [
           {
            "marker": {
             "colorbar": {
              "outlinewidth": 0,
              "ticks": ""
             }
            },
            "type": "scattergeo"
           }
          ],
          "scattergl": [
           {
            "marker": {
             "colorbar": {
              "outlinewidth": 0,
              "ticks": ""
             }
            },
            "type": "scattergl"
           }
          ],
          "scattermapbox": [
           {
            "marker": {
             "colorbar": {
              "outlinewidth": 0,
              "ticks": ""
             }
            },
            "type": "scattermapbox"
           }
          ],
          "scatterpolar": [
           {
            "marker": {
             "colorbar": {
              "outlinewidth": 0,
              "ticks": ""
             }
            },
            "type": "scatterpolar"
           }
          ],
          "scatterpolargl": [
           {
            "marker": {
             "colorbar": {
              "outlinewidth": 0,
              "ticks": ""
             }
            },
            "type": "scatterpolargl"
           }
          ],
          "scatterternary": [
           {
            "marker": {
             "colorbar": {
              "outlinewidth": 0,
              "ticks": ""
             }
            },
            "type": "scatterternary"
           }
          ],
          "surface": [
           {
            "colorbar": {
             "outlinewidth": 0,
             "ticks": ""
            },
            "colorscale": [
             [
              0,
              "#0d0887"
             ],
             [
              0.1111111111111111,
              "#46039f"
             ],
             [
              0.2222222222222222,
              "#7201a8"
             ],
             [
              0.3333333333333333,
              "#9c179e"
             ],
             [
              0.4444444444444444,
              "#bd3786"
             ],
             [
              0.5555555555555556,
              "#d8576b"
             ],
             [
              0.6666666666666666,
              "#ed7953"
             ],
             [
              0.7777777777777778,
              "#fb9f3a"
             ],
             [
              0.8888888888888888,
              "#fdca26"
             ],
             [
              1,
              "#f0f921"
             ]
            ],
            "type": "surface"
           }
          ],
          "table": [
           {
            "cells": {
             "fill": {
              "color": "#EBF0F8"
             },
             "line": {
              "color": "white"
             }
            },
            "header": {
             "fill": {
              "color": "#C8D4E3"
             },
             "line": {
              "color": "white"
             }
            },
            "type": "table"
           }
          ]
         },
         "layout": {
          "annotationdefaults": {
           "arrowcolor": "#2a3f5f",
           "arrowhead": 0,
           "arrowwidth": 1
          },
          "autotypenumbers": "strict",
          "coloraxis": {
           "colorbar": {
            "outlinewidth": 0,
            "ticks": ""
           }
          },
          "colorscale": {
           "diverging": [
            [
             0,
             "#8e0152"
            ],
            [
             0.1,
             "#c51b7d"
            ],
            [
             0.2,
             "#de77ae"
            ],
            [
             0.3,
             "#f1b6da"
            ],
            [
             0.4,
             "#fde0ef"
            ],
            [
             0.5,
             "#f7f7f7"
            ],
            [
             0.6,
             "#e6f5d0"
            ],
            [
             0.7,
             "#b8e186"
            ],
            [
             0.8,
             "#7fbc41"
            ],
            [
             0.9,
             "#4d9221"
            ],
            [
             1,
             "#276419"
            ]
           ],
           "sequential": [
            [
             0,
             "#0d0887"
            ],
            [
             0.1111111111111111,
             "#46039f"
            ],
            [
             0.2222222222222222,
             "#7201a8"
            ],
            [
             0.3333333333333333,
             "#9c179e"
            ],
            [
             0.4444444444444444,
             "#bd3786"
            ],
            [
             0.5555555555555556,
             "#d8576b"
            ],
            [
             0.6666666666666666,
             "#ed7953"
            ],
            [
             0.7777777777777778,
             "#fb9f3a"
            ],
            [
             0.8888888888888888,
             "#fdca26"
            ],
            [
             1,
             "#f0f921"
            ]
           ],
           "sequentialminus": [
            [
             0,
             "#0d0887"
            ],
            [
             0.1111111111111111,
             "#46039f"
            ],
            [
             0.2222222222222222,
             "#7201a8"
            ],
            [
             0.3333333333333333,
             "#9c179e"
            ],
            [
             0.4444444444444444,
             "#bd3786"
            ],
            [
             0.5555555555555556,
             "#d8576b"
            ],
            [
             0.6666666666666666,
             "#ed7953"
            ],
            [
             0.7777777777777778,
             "#fb9f3a"
            ],
            [
             0.8888888888888888,
             "#fdca26"
            ],
            [
             1,
             "#f0f921"
            ]
           ]
          },
          "colorway": [
           "#636efa",
           "#EF553B",
           "#00cc96",
           "#ab63fa",
           "#FFA15A",
           "#19d3f3",
           "#FF6692",
           "#B6E880",
           "#FF97FF",
           "#FECB52"
          ],
          "font": {
           "color": "#2a3f5f"
          },
          "geo": {
           "bgcolor": "white",
           "lakecolor": "white",
           "landcolor": "#E5ECF6",
           "showlakes": true,
           "showland": true,
           "subunitcolor": "white"
          },
          "hoverlabel": {
           "align": "left"
          },
          "hovermode": "closest",
          "mapbox": {
           "style": "light"
          },
          "paper_bgcolor": "white",
          "plot_bgcolor": "#E5ECF6",
          "polar": {
           "angularaxis": {
            "gridcolor": "white",
            "linecolor": "white",
            "ticks": ""
           },
           "bgcolor": "#E5ECF6",
           "radialaxis": {
            "gridcolor": "white",
            "linecolor": "white",
            "ticks": ""
           }
          },
          "scene": {
           "xaxis": {
            "backgroundcolor": "#E5ECF6",
            "gridcolor": "white",
            "gridwidth": 2,
            "linecolor": "white",
            "showbackground": true,
            "ticks": "",
            "zerolinecolor": "white"
           },
           "yaxis": {
            "backgroundcolor": "#E5ECF6",
            "gridcolor": "white",
            "gridwidth": 2,
            "linecolor": "white",
            "showbackground": true,
            "ticks": "",
            "zerolinecolor": "white"
           },
           "zaxis": {
            "backgroundcolor": "#E5ECF6",
            "gridcolor": "white",
            "gridwidth": 2,
            "linecolor": "white",
            "showbackground": true,
            "ticks": "",
            "zerolinecolor": "white"
           }
          },
          "shapedefaults": {
           "line": {
            "color": "#2a3f5f"
           }
          },
          "ternary": {
           "aaxis": {
            "gridcolor": "white",
            "linecolor": "white",
            "ticks": ""
           },
           "baxis": {
            "gridcolor": "white",
            "linecolor": "white",
            "ticks": ""
           },
           "bgcolor": "#E5ECF6",
           "caxis": {
            "gridcolor": "white",
            "linecolor": "white",
            "ticks": ""
           }
          },
          "title": {
           "x": 0.05
          },
          "xaxis": {
           "automargin": true,
           "gridcolor": "white",
           "linecolor": "white",
           "ticks": "",
           "title": {
            "standoff": 15
           },
           "zerolinecolor": "white",
           "zerolinewidth": 2
          },
          "yaxis": {
           "automargin": true,
           "gridcolor": "white",
           "linecolor": "white",
           "ticks": "",
           "title": {
            "standoff": 15
           },
           "zerolinecolor": "white",
           "zerolinewidth": 2
          }
         }
        },
        "title": {
         "text": "User activity per hour of the day"
        },
        "xaxis": {
         "nticks": 33,
         "tickformat": "%a %H",
         "title": {
          "text": "Date and Hour"
         }
        },
        "yaxis": {
         "title": {
          "text": "Clicks"
         }
        }
       }
      }
     },
     "metadata": {},
     "output_type": "display_data"
    }
   ],
   "source": [
    "fig = go.Figure()\n",
    "for sector in traffic_per_sector['sector_name'].unique():\n",
    "    sector_df = traffic_per_sector[traffic_per_sector['sector_name']==sector]\n",
    "    fig.add_trace(go.Bar(x=sector_df[\"date_hour\"], y=sector_df[\"clicks\"],\n",
    "                        name=sector))\n",
    "\n",
    "fig.update_layout(\n",
    "    title=\"User activity per hour of the day\",\n",
    "    xaxis_title=\"Date and Hour\",\n",
    "    yaxis_title=\"Clicks\"\n",
    ")\n",
    "fig.update_xaxes(\n",
    "    tickformat=\"%a %H\",\n",
    "    nticks = int(len(sector_df[\"date_hour\"])/5)\n",
    ")\n",
    "\n",
    "fig.show()"
   ]
  },
  {
   "cell_type": "markdown",
   "metadata": {},
   "source": [
    "Aggregating average number of clicks, impressions and CTR per sector and weekend/weekday"
   ]
  },
  {
   "cell_type": "code",
   "execution_count": 166,
   "metadata": {},
   "outputs": [
    {
     "data": {
      "text/html": [
       "<div>\n",
       "<style scoped>\n",
       "    .dataframe tbody tr th:only-of-type {\n",
       "        vertical-align: middle;\n",
       "    }\n",
       "\n",
       "    .dataframe tbody tr th {\n",
       "        vertical-align: top;\n",
       "    }\n",
       "\n",
       "    .dataframe thead th {\n",
       "        text-align: right;\n",
       "    }\n",
       "</style>\n",
       "<table border=\"1\" class=\"dataframe\">\n",
       "  <thead>\n",
       "    <tr style=\"text-align: right;\">\n",
       "      <th></th>\n",
       "      <th></th>\n",
       "      <th>clicks</th>\n",
       "      <th>impressions</th>\n",
       "      <th>CTR</th>\n",
       "    </tr>\n",
       "    <tr>\n",
       "      <th>sector_name</th>\n",
       "      <th>weekday</th>\n",
       "      <th></th>\n",
       "      <th></th>\n",
       "      <th></th>\n",
       "    </tr>\n",
       "  </thead>\n",
       "  <tbody>\n",
       "    <tr>\n",
       "      <th>Discounter</th>\n",
       "      <th>False</th>\n",
       "      <td>5766.583333</td>\n",
       "      <td>26527.604167</td>\n",
       "      <td>21.738048</td>\n",
       "    </tr>\n",
       "    <tr>\n",
       "      <th>Supermärkte</th>\n",
       "      <th>False</th>\n",
       "      <td>4607.000000</td>\n",
       "      <td>22654.187500</td>\n",
       "      <td>20.336196</td>\n",
       "    </tr>\n",
       "    <tr>\n",
       "      <th>Discounter</th>\n",
       "      <th>True</th>\n",
       "      <td>3468.416667</td>\n",
       "      <td>15365.883333</td>\n",
       "      <td>22.572192</td>\n",
       "    </tr>\n",
       "    <tr>\n",
       "      <th>Supermärkte</th>\n",
       "      <th>True</th>\n",
       "      <td>2456.050000</td>\n",
       "      <td>13915.700000</td>\n",
       "      <td>17.649489</td>\n",
       "    </tr>\n",
       "    <tr>\n",
       "      <th>Elektromärkte</th>\n",
       "      <th>False</th>\n",
       "      <td>1397.812500</td>\n",
       "      <td>11974.979167</td>\n",
       "      <td>11.672776</td>\n",
       "    </tr>\n",
       "    <tr>\n",
       "      <th>Drogerie-und-Parfuemerie</th>\n",
       "      <th>False</th>\n",
       "      <td>791.142857</td>\n",
       "      <td>5948.095238</td>\n",
       "      <td>13.300777</td>\n",
       "    </tr>\n",
       "    <tr>\n",
       "      <th>Möbel &amp; Einrichtung</th>\n",
       "      <th>False</th>\n",
       "      <td>634.166667</td>\n",
       "      <td>7654.541667</td>\n",
       "      <td>8.284842</td>\n",
       "    </tr>\n",
       "    <tr>\n",
       "      <th>Elektromärkte</th>\n",
       "      <th>True</th>\n",
       "      <td>621.552632</td>\n",
       "      <td>4712.973684</td>\n",
       "      <td>13.188120</td>\n",
       "    </tr>\n",
       "    <tr>\n",
       "      <th>Möbel &amp; Einrichtung</th>\n",
       "      <th>True</th>\n",
       "      <td>371.043103</td>\n",
       "      <td>4422.784483</td>\n",
       "      <td>8.389355</td>\n",
       "    </tr>\n",
       "    <tr>\n",
       "      <th>Drogerie-und-Parfuemerie</th>\n",
       "      <th>True</th>\n",
       "      <td>248.553571</td>\n",
       "      <td>3216.910714</td>\n",
       "      <td>7.726468</td>\n",
       "    </tr>\n",
       "    <tr>\n",
       "      <th rowspan=\"2\" valign=\"top\">Baumärkte</th>\n",
       "      <th>False</th>\n",
       "      <td>119.520833</td>\n",
       "      <td>2190.187500</td>\n",
       "      <td>5.457105</td>\n",
       "    </tr>\n",
       "    <tr>\n",
       "      <th>True</th>\n",
       "      <td>105.302521</td>\n",
       "      <td>1410.638655</td>\n",
       "      <td>7.464883</td>\n",
       "    </tr>\n",
       "  </tbody>\n",
       "</table>\n",
       "</div>"
      ],
      "text/plain": [
       "                                       clicks   impressions        CTR\n",
       "sector_name              weekday                                      \n",
       "Discounter               False    5766.583333  26527.604167  21.738048\n",
       "Supermärkte              False    4607.000000  22654.187500  20.336196\n",
       "Discounter               True     3468.416667  15365.883333  22.572192\n",
       "Supermärkte              True     2456.050000  13915.700000  17.649489\n",
       "Elektromärkte            False    1397.812500  11974.979167  11.672776\n",
       "Drogerie-und-Parfuemerie False     791.142857   5948.095238  13.300777\n",
       "Möbel & Einrichtung      False     634.166667   7654.541667   8.284842\n",
       "Elektromärkte            True      621.552632   4712.973684  13.188120\n",
       "Möbel & Einrichtung      True      371.043103   4422.784483   8.389355\n",
       "Drogerie-und-Parfuemerie True      248.553571   3216.910714   7.726468\n",
       "Baumärkte                False     119.520833   2190.187500   5.457105\n",
       "                         True      105.302521   1410.638655   7.464883"
      ]
     },
     "execution_count": 166,
     "metadata": {},
     "output_type": "execute_result"
    }
   ],
   "source": [
    "traffic_per_sector['weekday'] = traffic_per_sector['date'].apply(lambda x: True if x>=pd.Timestamp(2023,7,3) else False)\n",
    "traffic_per_sector_grouped = traffic_per_sector.groupby(['sector_name','weekday']).agg({'clicks':'mean','impressions':'mean'}).sort_values('clicks',ascending=False)\n",
    "traffic_per_sector_grouped['CTR'] = traffic_per_sector_grouped['clicks']*100/traffic_per_sector_grouped['impressions']\n",
    "traffic_per_sector_grouped"
   ]
  },
  {
   "cell_type": "markdown",
   "metadata": {},
   "source": [
    "Importing data about distinct brochures per sector per day. Answerign a question of how many brochures there are in each sector and how long they usually are active for"
   ]
  },
  {
   "cell_type": "code",
   "execution_count": 180,
   "metadata": {},
   "outputs": [
    {
     "data": {
      "text/html": [
       "<div>\n",
       "<style scoped>\n",
       "    .dataframe tbody tr th:only-of-type {\n",
       "        vertical-align: middle;\n",
       "    }\n",
       "\n",
       "    .dataframe tbody tr th {\n",
       "        vertical-align: top;\n",
       "    }\n",
       "\n",
       "    .dataframe thead th {\n",
       "        text-align: right;\n",
       "    }\n",
       "</style>\n",
       "<table border=\"1\" class=\"dataframe\">\n",
       "  <thead>\n",
       "    <tr style=\"text-align: right;\">\n",
       "      <th></th>\n",
       "      <th>sector_name</th>\n",
       "      <th>title</th>\n",
       "      <th>brochures</th>\n",
       "      <th>clicks</th>\n",
       "      <th>impressions</th>\n",
       "      <th>avg_validity_period</th>\n",
       "    </tr>\n",
       "  </thead>\n",
       "  <tbody>\n",
       "    <tr>\n",
       "      <th>0</th>\n",
       "      <td>Baumärkte</td>\n",
       "      <td>7</td>\n",
       "      <td>119</td>\n",
       "      <td>18268</td>\n",
       "      <td>272995</td>\n",
       "      <td>10 days 15:16:21.818181818</td>\n",
       "    </tr>\n",
       "    <tr>\n",
       "      <th>1</th>\n",
       "      <td>Discounter</td>\n",
       "      <td>16</td>\n",
       "      <td>1398</td>\n",
       "      <td>693006</td>\n",
       "      <td>3117231</td>\n",
       "      <td>9 days 19:27:34.054054054</td>\n",
       "    </tr>\n",
       "    <tr>\n",
       "      <th>2</th>\n",
       "      <td>Drogerie-und-Parfuemerie</td>\n",
       "      <td>1</td>\n",
       "      <td>7</td>\n",
       "      <td>30533</td>\n",
       "      <td>305057</td>\n",
       "      <td>14 days 00:00:00</td>\n",
       "    </tr>\n",
       "    <tr>\n",
       "      <th>3</th>\n",
       "      <td>Elektromärkte</td>\n",
       "      <td>8</td>\n",
       "      <td>44</td>\n",
       "      <td>137952</td>\n",
       "      <td>1112078</td>\n",
       "      <td>9 days 08:43:38.181818181</td>\n",
       "    </tr>\n",
       "    <tr>\n",
       "      <th>4</th>\n",
       "      <td>Möbel &amp; Einrichtung</td>\n",
       "      <td>7</td>\n",
       "      <td>56</td>\n",
       "      <td>73481</td>\n",
       "      <td>880461</td>\n",
       "      <td>5 days 17:08:34.285714285</td>\n",
       "    </tr>\n",
       "    <tr>\n",
       "      <th>5</th>\n",
       "      <td>Supermärkte</td>\n",
       "      <td>13</td>\n",
       "      <td>13475</td>\n",
       "      <td>515862</td>\n",
       "      <td>2757285</td>\n",
       "      <td>5 days 12:19:54.470046082</td>\n",
       "    </tr>\n",
       "  </tbody>\n",
       "</table>\n",
       "</div>"
      ],
      "text/plain": [
       "                sector_name  title  brochures  clicks  impressions  \\\n",
       "0                 Baumärkte      7        119   18268       272995   \n",
       "1                Discounter     16       1398  693006      3117231   \n",
       "2  Drogerie-und-Parfuemerie      1          7   30533       305057   \n",
       "3             Elektromärkte      8         44  137952      1112078   \n",
       "4       Möbel & Einrichtung      7         56   73481       880461   \n",
       "5               Supermärkte     13      13475  515862      2757285   \n",
       "\n",
       "         avg_validity_period  \n",
       "0 10 days 15:16:21.818181818  \n",
       "1  9 days 19:27:34.054054054  \n",
       "2           14 days 00:00:00  \n",
       "3  9 days 08:43:38.181818181  \n",
       "4  5 days 17:08:34.285714285  \n",
       "5  5 days 12:19:54.470046082  "
      ]
     },
     "execution_count": 180,
     "metadata": {},
     "output_type": "execute_result"
    }
   ],
   "source": [
    "traffic_per_brochure = pd.read_csv(\"resources/traffic_per_brochure_per_day.csv\")\n",
    "traffic_per_brochure['date'] = pd.to_datetime(traffic_per_brochure['date'])\n",
    "traffic_per_brochure['pfrom'] = pd.to_datetime(traffic_per_brochure['pfrom'])\n",
    "traffic_per_brochure['puntil'] = pd.to_datetime(traffic_per_brochure['puntil'])\n",
    "traffic_per_brochure['avg_validity_period'] = traffic_per_brochure['puntil'] - traffic_per_brochure['pfrom']\n",
    "\n",
    "brochures_per_sector = traffic_per_brochure.groupby(['sector_name']).agg({'title':'nunique','brochures':sum, 'clicks':sum, 'impressions':sum, 'avg_validity_period':'mean'}).reset_index()\n",
    "brochures_per_sector"
   ]
  },
  {
   "cell_type": "code",
   "execution_count": 187,
   "metadata": {},
   "outputs": [
    {
     "data": {
      "text/html": [
       "<div>\n",
       "<style scoped>\n",
       "    .dataframe tbody tr th:only-of-type {\n",
       "        vertical-align: middle;\n",
       "    }\n",
       "\n",
       "    .dataframe tbody tr th {\n",
       "        vertical-align: top;\n",
       "    }\n",
       "\n",
       "    .dataframe thead th {\n",
       "        text-align: right;\n",
       "    }\n",
       "</style>\n",
       "<table border=\"1\" class=\"dataframe\">\n",
       "  <thead>\n",
       "    <tr style=\"text-align: right;\">\n",
       "      <th></th>\n",
       "      <th>title</th>\n",
       "      <th>pfrom</th>\n",
       "      <th>puntil</th>\n",
       "      <th>page_count</th>\n",
       "      <th>publisher_id</th>\n",
       "      <th>sector_name</th>\n",
       "      <th>date</th>\n",
       "      <th>brochures</th>\n",
       "      <th>clicks</th>\n",
       "      <th>impressions</th>\n",
       "      <th>avg_validity_period</th>\n",
       "    </tr>\n",
       "  </thead>\n",
       "  <tbody>\n",
       "    <tr>\n",
       "      <th>25</th>\n",
       "      <td>Aktuelle Angebote</td>\n",
       "      <td>2023-07-01</td>\n",
       "      <td>2023-07-15</td>\n",
       "      <td>5.0</td>\n",
       "      <td>909</td>\n",
       "      <td>Drogerie-und-Parfuemerie</td>\n",
       "      <td>2023-07-01</td>\n",
       "      <td>1</td>\n",
       "      <td>9824</td>\n",
       "      <td>57098</td>\n",
       "      <td>14 days</td>\n",
       "    </tr>\n",
       "    <tr>\n",
       "      <th>110</th>\n",
       "      <td>Aktuelle Angebote</td>\n",
       "      <td>2023-07-01</td>\n",
       "      <td>2023-07-15</td>\n",
       "      <td>5.0</td>\n",
       "      <td>909</td>\n",
       "      <td>Drogerie-und-Parfuemerie</td>\n",
       "      <td>2023-07-02</td>\n",
       "      <td>1</td>\n",
       "      <td>6790</td>\n",
       "      <td>67812</td>\n",
       "      <td>14 days</td>\n",
       "    </tr>\n",
       "    <tr>\n",
       "      <th>197</th>\n",
       "      <td>Aktuelle Angebote</td>\n",
       "      <td>2023-07-01</td>\n",
       "      <td>2023-07-15</td>\n",
       "      <td>5.0</td>\n",
       "      <td>909</td>\n",
       "      <td>Drogerie-und-Parfuemerie</td>\n",
       "      <td>2023-07-03</td>\n",
       "      <td>1</td>\n",
       "      <td>5308</td>\n",
       "      <td>50468</td>\n",
       "      <td>14 days</td>\n",
       "    </tr>\n",
       "    <tr>\n",
       "      <th>287</th>\n",
       "      <td>Aktuelle Angebote</td>\n",
       "      <td>2023-07-01</td>\n",
       "      <td>2023-07-15</td>\n",
       "      <td>5.0</td>\n",
       "      <td>909</td>\n",
       "      <td>Drogerie-und-Parfuemerie</td>\n",
       "      <td>2023-07-04</td>\n",
       "      <td>1</td>\n",
       "      <td>1930</td>\n",
       "      <td>25124</td>\n",
       "      <td>14 days</td>\n",
       "    </tr>\n",
       "    <tr>\n",
       "      <th>386</th>\n",
       "      <td>Aktuelle Angebote</td>\n",
       "      <td>2023-07-01</td>\n",
       "      <td>2023-07-15</td>\n",
       "      <td>5.0</td>\n",
       "      <td>909</td>\n",
       "      <td>Drogerie-und-Parfuemerie</td>\n",
       "      <td>2023-07-05</td>\n",
       "      <td>1</td>\n",
       "      <td>2981</td>\n",
       "      <td>44849</td>\n",
       "      <td>14 days</td>\n",
       "    </tr>\n",
       "    <tr>\n",
       "      <th>481</th>\n",
       "      <td>Aktuelle Angebote</td>\n",
       "      <td>2023-07-01</td>\n",
       "      <td>2023-07-15</td>\n",
       "      <td>5.0</td>\n",
       "      <td>909</td>\n",
       "      <td>Drogerie-und-Parfuemerie</td>\n",
       "      <td>2023-07-06</td>\n",
       "      <td>1</td>\n",
       "      <td>1711</td>\n",
       "      <td>27154</td>\n",
       "      <td>14 days</td>\n",
       "    </tr>\n",
       "    <tr>\n",
       "      <th>581</th>\n",
       "      <td>Aktuelle Angebote</td>\n",
       "      <td>2023-07-01</td>\n",
       "      <td>2023-07-15</td>\n",
       "      <td>5.0</td>\n",
       "      <td>909</td>\n",
       "      <td>Drogerie-und-Parfuemerie</td>\n",
       "      <td>2023-07-07</td>\n",
       "      <td>1</td>\n",
       "      <td>1989</td>\n",
       "      <td>32552</td>\n",
       "      <td>14 days</td>\n",
       "    </tr>\n",
       "  </tbody>\n",
       "</table>\n",
       "</div>"
      ],
      "text/plain": [
       "                 title      pfrom     puntil  page_count  publisher_id  \\\n",
       "25   Aktuelle Angebote 2023-07-01 2023-07-15         5.0           909   \n",
       "110  Aktuelle Angebote 2023-07-01 2023-07-15         5.0           909   \n",
       "197  Aktuelle Angebote 2023-07-01 2023-07-15         5.0           909   \n",
       "287  Aktuelle Angebote 2023-07-01 2023-07-15         5.0           909   \n",
       "386  Aktuelle Angebote 2023-07-01 2023-07-15         5.0           909   \n",
       "481  Aktuelle Angebote 2023-07-01 2023-07-15         5.0           909   \n",
       "581  Aktuelle Angebote 2023-07-01 2023-07-15         5.0           909   \n",
       "\n",
       "                  sector_name       date  brochures  clicks  impressions  \\\n",
       "25   Drogerie-und-Parfuemerie 2023-07-01          1    9824        57098   \n",
       "110  Drogerie-und-Parfuemerie 2023-07-02          1    6790        67812   \n",
       "197  Drogerie-und-Parfuemerie 2023-07-03          1    5308        50468   \n",
       "287  Drogerie-und-Parfuemerie 2023-07-04          1    1930        25124   \n",
       "386  Drogerie-und-Parfuemerie 2023-07-05          1    2981        44849   \n",
       "481  Drogerie-und-Parfuemerie 2023-07-06          1    1711        27154   \n",
       "581  Drogerie-und-Parfuemerie 2023-07-07          1    1989        32552   \n",
       "\n",
       "    avg_validity_period  \n",
       "25              14 days  \n",
       "110             14 days  \n",
       "197             14 days  \n",
       "287             14 days  \n",
       "386             14 days  \n",
       "481             14 days  \n",
       "581             14 days  "
      ]
     },
     "execution_count": 187,
     "metadata": {},
     "output_type": "execute_result"
    }
   ],
   "source": [
    "#Drogerie had only one distinct brochure in this period\n",
    "traffic_per_brochure[traffic_per_brochure['sector_name']=='Drogerie-und-Parfuemerie']"
   ]
  },
  {
   "cell_type": "markdown",
   "metadata": {},
   "source": [
    "## Part 2. Raw data, page view duration"
   ]
  },
  {
   "cell_type": "code",
   "execution_count": 273,
   "metadata": {},
   "outputs": [
    {
     "name": "stdout",
     "output_type": "stream",
     "text": [
      "57459\n",
      "49559\n",
      "53858\n",
      "46416\n"
     ]
    },
    {
     "data": {
      "text/html": [
       "<div>\n",
       "<style scoped>\n",
       "    .dataframe tbody tr th:only-of-type {\n",
       "        vertical-align: middle;\n",
       "    }\n",
       "\n",
       "    .dataframe tbody tr th {\n",
       "        vertical-align: top;\n",
       "    }\n",
       "\n",
       "    .dataframe thead th {\n",
       "        text-align: right;\n",
       "    }\n",
       "</style>\n",
       "<table border=\"1\" class=\"dataframe\">\n",
       "  <thead>\n",
       "    <tr style=\"text-align: right;\">\n",
       "      <th></th>\n",
       "      <th>user_id</th>\n",
       "      <th>brochure_click_uuid</th>\n",
       "      <th>brochure_id</th>\n",
       "      <th>page_num_array</th>\n",
       "      <th>date_time_received_local</th>\n",
       "      <th>session_id</th>\n",
       "    </tr>\n",
       "  </thead>\n",
       "  <tbody>\n",
       "    <tr>\n",
       "      <th>0</th>\n",
       "      <td>c78ab29b-f566-4b5c-b457-6a9cbcf28f35</td>\n",
       "      <td>012e4cc0-c9b5-4b6a-b191-be5eba9ce46d</td>\n",
       "      <td>1624605784</td>\n",
       "      <td>[3]</td>\n",
       "      <td>2022-02-01 00:54:20.444</td>\n",
       "      <td>c797fd77-9918-4b83-85f3-026ef9a10047</td>\n",
       "    </tr>\n",
       "    <tr>\n",
       "      <th>1</th>\n",
       "      <td>c78ab29b-f566-4b5c-b457-6a9cbcf28f35</td>\n",
       "      <td>012e4cc0-c9b5-4b6a-b191-be5eba9ce46d</td>\n",
       "      <td>1624605784</td>\n",
       "      <td>[6]</td>\n",
       "      <td>2022-02-01 00:54:40.684</td>\n",
       "      <td>c797fd77-9918-4b83-85f3-026ef9a10047</td>\n",
       "    </tr>\n",
       "    <tr>\n",
       "      <th>3</th>\n",
       "      <td>c78ab29b-f566-4b5c-b457-6a9cbcf28f35</td>\n",
       "      <td>012e4cc0-c9b5-4b6a-b191-be5eba9ce46d</td>\n",
       "      <td>1624605784</td>\n",
       "      <td>[8]</td>\n",
       "      <td>2022-02-01 00:54:45.616</td>\n",
       "      <td>c797fd77-9918-4b83-85f3-026ef9a10047</td>\n",
       "    </tr>\n",
       "    <tr>\n",
       "      <th>4</th>\n",
       "      <td>c78ab29b-f566-4b5c-b457-6a9cbcf28f35</td>\n",
       "      <td>012e4cc0-c9b5-4b6a-b191-be5eba9ce46d</td>\n",
       "      <td>1624605784</td>\n",
       "      <td>[5]</td>\n",
       "      <td>2022-02-01 00:54:25.536</td>\n",
       "      <td>c797fd77-9918-4b83-85f3-026ef9a10047</td>\n",
       "    </tr>\n",
       "    <tr>\n",
       "      <th>5</th>\n",
       "      <td>c78ab29b-f566-4b5c-b457-6a9cbcf28f35</td>\n",
       "      <td>012e4cc0-c9b5-4b6a-b191-be5eba9ce46d</td>\n",
       "      <td>1624605784</td>\n",
       "      <td>[7]</td>\n",
       "      <td>2022-02-01 00:54:42.135</td>\n",
       "      <td>c797fd77-9918-4b83-85f3-026ef9a10047</td>\n",
       "    </tr>\n",
       "    <tr>\n",
       "      <th>...</th>\n",
       "      <td>...</td>\n",
       "      <td>...</td>\n",
       "      <td>...</td>\n",
       "      <td>...</td>\n",
       "      <td>...</td>\n",
       "      <td>...</td>\n",
       "    </tr>\n",
       "    <tr>\n",
       "      <th>53852</th>\n",
       "      <td>99220C4B-7D47-4A31-B4E6-7A8C109C2C56</td>\n",
       "      <td>9561D928-A9AD-4930-BA8D-F13F28A4C959</td>\n",
       "      <td>1622248002</td>\n",
       "      <td>[2]</td>\n",
       "      <td>2022-02-01 01:31:01.370</td>\n",
       "      <td>83B52BDA-3A7A-416F-91C6-AFEB8A9CE587</td>\n",
       "    </tr>\n",
       "    <tr>\n",
       "      <th>53853</th>\n",
       "      <td>291bb4c3-82fd-429d-bbcb-1d79ba0b73a3</td>\n",
       "      <td>2bde9779-5bb5-42a9-b0ed-42c491b937f1</td>\n",
       "      <td>1622248005</td>\n",
       "      <td>[1]</td>\n",
       "      <td>2022-02-01 01:35:26.621</td>\n",
       "      <td>d3d93d18-5d00-46fb-a45f-c2727eaf2329</td>\n",
       "    </tr>\n",
       "    <tr>\n",
       "      <th>53854</th>\n",
       "      <td>105CB509-4330-478C-B48A-DEE395F99B79</td>\n",
       "      <td>AD946F4F-6EEB-43A4-B176-28D3583E9580</td>\n",
       "      <td>1622248005</td>\n",
       "      <td>[8]</td>\n",
       "      <td>2022-02-01 01:01:34.262</td>\n",
       "      <td>4C5FAE5B-AE6C-4EBD-8C7D-0DDEA6680AD8</td>\n",
       "    </tr>\n",
       "    <tr>\n",
       "      <th>53855</th>\n",
       "      <td>8D4A4598-C376-4734-A4E2-500E100DE1B8</td>\n",
       "      <td>B93DC20C-3135-4E53-B9FE-6FF696DEBC25</td>\n",
       "      <td>1622248005</td>\n",
       "      <td>[7]</td>\n",
       "      <td>2022-02-01 01:27:45.134</td>\n",
       "      <td>EB014672-37FB-4CD9-AB32-8B94690869DE</td>\n",
       "    </tr>\n",
       "    <tr>\n",
       "      <th>53857</th>\n",
       "      <td>1c5ab984-71dd-4176-ab2e-a5041325e184</td>\n",
       "      <td>5421dd49-9526-4755-be0d-913e2160111c</td>\n",
       "      <td>1622248005</td>\n",
       "      <td>[9]</td>\n",
       "      <td>2022-02-01 01:18:33.363</td>\n",
       "      <td>7f057a14-bc6a-4b77-a4a9-a74f71c73b5a</td>\n",
       "    </tr>\n",
       "  </tbody>\n",
       "</table>\n",
       "<p>46416 rows × 6 columns</p>\n",
       "</div>"
      ],
      "text/plain": [
       "                                    user_id  \\\n",
       "0      c78ab29b-f566-4b5c-b457-6a9cbcf28f35   \n",
       "1      c78ab29b-f566-4b5c-b457-6a9cbcf28f35   \n",
       "3      c78ab29b-f566-4b5c-b457-6a9cbcf28f35   \n",
       "4      c78ab29b-f566-4b5c-b457-6a9cbcf28f35   \n",
       "5      c78ab29b-f566-4b5c-b457-6a9cbcf28f35   \n",
       "...                                     ...   \n",
       "53852  99220C4B-7D47-4A31-B4E6-7A8C109C2C56   \n",
       "53853  291bb4c3-82fd-429d-bbcb-1d79ba0b73a3   \n",
       "53854  105CB509-4330-478C-B48A-DEE395F99B79   \n",
       "53855  8D4A4598-C376-4734-A4E2-500E100DE1B8   \n",
       "53857  1c5ab984-71dd-4176-ab2e-a5041325e184   \n",
       "\n",
       "                        brochure_click_uuid brochure_id page_num_array  \\\n",
       "0      012e4cc0-c9b5-4b6a-b191-be5eba9ce46d  1624605784            [3]   \n",
       "1      012e4cc0-c9b5-4b6a-b191-be5eba9ce46d  1624605784            [6]   \n",
       "3      012e4cc0-c9b5-4b6a-b191-be5eba9ce46d  1624605784            [8]   \n",
       "4      012e4cc0-c9b5-4b6a-b191-be5eba9ce46d  1624605784            [5]   \n",
       "5      012e4cc0-c9b5-4b6a-b191-be5eba9ce46d  1624605784            [7]   \n",
       "...                                     ...         ...            ...   \n",
       "53852  9561D928-A9AD-4930-BA8D-F13F28A4C959  1622248002            [2]   \n",
       "53853  2bde9779-5bb5-42a9-b0ed-42c491b937f1  1622248005            [1]   \n",
       "53854  AD946F4F-6EEB-43A4-B176-28D3583E9580  1622248005            [8]   \n",
       "53855  B93DC20C-3135-4E53-B9FE-6FF696DEBC25  1622248005            [7]   \n",
       "53857  5421dd49-9526-4755-be0d-913e2160111c  1622248005            [9]   \n",
       "\n",
       "      date_time_received_local                            session_id  \n",
       "0      2022-02-01 00:54:20.444  c797fd77-9918-4b83-85f3-026ef9a10047  \n",
       "1      2022-02-01 00:54:40.684  c797fd77-9918-4b83-85f3-026ef9a10047  \n",
       "3      2022-02-01 00:54:45.616  c797fd77-9918-4b83-85f3-026ef9a10047  \n",
       "4      2022-02-01 00:54:25.536  c797fd77-9918-4b83-85f3-026ef9a10047  \n",
       "5      2022-02-01 00:54:42.135  c797fd77-9918-4b83-85f3-026ef9a10047  \n",
       "...                        ...                                   ...  \n",
       "53852  2022-02-01 01:31:01.370  83B52BDA-3A7A-416F-91C6-AFEB8A9CE587  \n",
       "53853  2022-02-01 01:35:26.621  d3d93d18-5d00-46fb-a45f-c2727eaf2329  \n",
       "53854  2022-02-01 01:01:34.262  4C5FAE5B-AE6C-4EBD-8C7D-0DDEA6680AD8  \n",
       "53855  2022-02-01 01:27:45.134  EB014672-37FB-4CD9-AB32-8B94690869DE  \n",
       "53857  2022-02-01 01:18:33.363  7f057a14-bc6a-4b77-a4a9-a74f71c73b5a  \n",
       "\n",
       "[46416 rows x 6 columns]"
      ]
     },
     "execution_count": 273,
     "metadata": {},
     "output_type": "execute_result"
    }
   ],
   "source": [
    "page_enter = pd.read_csv(\"resources/Page Enter.csv\", dtype={'user_id':str,\n",
    "                                                            'brochure_click_uuid':str,\n",
    "                                                            'brochure_id':str,\n",
    "                                                            'page_num_array':str,\n",
    "                                                            'date_time_received_local':str, \n",
    "                                                            'session_id':str}, parse_dates=['date_time_received_local'])\n",
    "print(len(page_enter))\n",
    "page_enter.drop_duplicates(['user_id','brochure_click_uuid','brochure_id','page_num_array','session_id'],inplace=True)\n",
    "print(len(page_enter))\n",
    "page_enter.page_num_array = page_enter.page_num_array.apply(literal_eval)\n",
    "\n",
    "page_exit = pd.read_csv(\"resources/Page Exit.csv\", dtype={'user_id':str,\n",
    "                                                            'brochure_click_uuid':str,\n",
    "                                                            'brochure_id':str,\n",
    "                                                            'page_num_array':str,\n",
    "                                                            'date_time_received_local':str, \n",
    "                                                            'session_id':str}, parse_dates=['date_time_received_local'])\n",
    "print(len(page_exit))\n",
    "page_exit.drop_duplicates(['user_id','brochure_click_uuid','brochure_id','page_num_array','session_id'],inplace=True)\n",
    "print(len(page_exit))\n",
    "page_exit.page_num_array = page_exit.page_num_array.apply(literal_eval)\n",
    "\n",
    "page_exit"
   ]
  },
  {
   "cell_type": "code",
   "execution_count": 274,
   "metadata": {},
   "outputs": [
    {
     "data": {
      "text/plain": [
       "page_num_array\n",
       "[1]                   22506\n",
       "[2]                    4796\n",
       "[3]                    3914\n",
       "[4]                    3814\n",
       "[5]                    3300\n",
       "[6]                    3084\n",
       "[7]                    2741\n",
       "[8]                    2350\n",
       "[9]                    2018\n",
       "[2, 3]                  197\n",
       "[1, 2, 3]               192\n",
       "[4, 5]                  182\n",
       "[6, 7]                  119\n",
       "[8, 9]                  103\n",
       "[1, 2, 3, 4]             66\n",
       "[1, 2]                   57\n",
       "[7, 8]                   14\n",
       "[5, 6, 7]                13\n",
       "[5, 6]                   13\n",
       "[7, 8, 9]                11\n",
       "[4, 5, 6]                10\n",
       "[6, 7, 8]                 7\n",
       "[3, 4, 5]                 7\n",
       "[3, 4]                    6\n",
       "[2, 3, 4, 5]              4\n",
       "[3, 4, 5, 6, 7]           4\n",
       "[1, 2, 3, 4, 5, 6]        4\n",
       "[4, 5, 6, 7]              4\n",
       "[1, 2, 3, 4, 5]           4\n",
       "[6, 7, 8, 9]              3\n",
       "[1, 3, 4]                 2\n",
       "[5, 6, 7, 8, 9]           2\n",
       "[5, 6, 7, 8]              2\n",
       "[2, 3, 4, 5, 6]           1\n",
       "[1, 2, 4, 5]              1\n",
       "[2, 3, 5, 6]              1\n",
       "[4, 5, 6, 7, 8, 9]        1\n",
       "[4, 5, 6, 7, 8]           1\n",
       "[1, 3, 4, 5]              1\n",
       "[6, 7, 9]                 1\n",
       "[9, 10]                   1\n",
       "[1, 3]                    1\n",
       "[2, 3, 4]                 1\n",
       "Name: count, dtype: int64"
      ]
     },
     "execution_count": 274,
     "metadata": {},
     "output_type": "execute_result"
    }
   ],
   "source": [
    "page_enter['page_num_array'].value_counts()"
   ]
  },
  {
   "cell_type": "markdown",
   "metadata": {},
   "source": [
    "It seems that some page enters and exits occur on several pages simultaneously"
   ]
  },
  {
   "cell_type": "code",
   "execution_count": 290,
   "metadata": {},
   "outputs": [
    {
     "name": "stdout",
     "output_type": "stream",
     "text": [
      "51059\n",
      "50865\n"
     ]
    },
    {
     "data": {
      "text/plain": [
       "page_num_array\n",
       "1     22803\n",
       "2      5296\n",
       "3      4376\n",
       "4      4087\n",
       "5      3534\n",
       "6      3245\n",
       "7      2906\n",
       "8      2482\n",
       "9      2135\n",
       "10        1\n",
       "Name: count, dtype: int64"
      ]
     },
     "execution_count": 290,
     "metadata": {},
     "output_type": "execute_result"
    }
   ],
   "source": [
    "page_enter_all_pages = page_enter.explode(\"page_num_array\")\n",
    "print(len(page_enter_all_pages))\n",
    "page_enter_all_pages.drop_duplicates(['user_id','brochure_click_uuid','brochure_id','page_num_array','session_id'],inplace=True)\n",
    "print(len(page_enter_all_pages))\n",
    "page_enter_all_pages['page_num_array'].value_counts()"
   ]
  },
  {
   "cell_type": "code",
   "execution_count": 291,
   "metadata": {},
   "outputs": [
    {
     "name": "stdout",
     "output_type": "stream",
     "text": [
      "47772\n",
      "47606\n"
     ]
    },
    {
     "data": {
      "text/plain": [
       "page_num_array\n",
       "1    19776\n",
       "2     5255\n",
       "3     4328\n",
       "4     4050\n",
       "5     3503\n",
       "6     3221\n",
       "7     2892\n",
       "8     2465\n",
       "9     2116\n",
       "Name: count, dtype: int64"
      ]
     },
     "execution_count": 291,
     "metadata": {},
     "output_type": "execute_result"
    }
   ],
   "source": [
    "page_exit_all_pages = page_exit.explode(\"page_num_array\")\n",
    "print(len(page_exit_all_pages))\n",
    "page_exit_all_pages.drop_duplicates(['user_id','brochure_click_uuid','brochure_id','page_num_array','session_id'],inplace=True)\n",
    "print(len(page_exit_all_pages))\n",
    "page_exit_all_pages['page_num_array'].value_counts()"
   ]
  },
  {
   "cell_type": "code",
   "execution_count": 345,
   "metadata": {},
   "outputs": [
    {
     "data": {
      "text/html": [
       "<div>\n",
       "<style scoped>\n",
       "    .dataframe tbody tr th:only-of-type {\n",
       "        vertical-align: middle;\n",
       "    }\n",
       "\n",
       "    .dataframe tbody tr th {\n",
       "        vertical-align: top;\n",
       "    }\n",
       "\n",
       "    .dataframe thead th {\n",
       "        text-align: right;\n",
       "    }\n",
       "</style>\n",
       "<table border=\"1\" class=\"dataframe\">\n",
       "  <thead>\n",
       "    <tr style=\"text-align: right;\">\n",
       "      <th></th>\n",
       "      <th>user_id</th>\n",
       "      <th>brochure_click_uuid</th>\n",
       "      <th>brochure_id</th>\n",
       "      <th>page_num_array</th>\n",
       "      <th>date_time_received_local_enter</th>\n",
       "      <th>session_id</th>\n",
       "      <th>date_time_received_local_exit</th>\n",
       "    </tr>\n",
       "  </thead>\n",
       "  <tbody>\n",
       "    <tr>\n",
       "      <th>50865</th>\n",
       "      <td>114f4ecd-3e73-4949-afdb-5da8cf2117b2</td>\n",
       "      <td>798a88c8-c31b-4a94-b9fb-7a33997b6b37</td>\n",
       "      <td>1622248014</td>\n",
       "      <td>9</td>\n",
       "      <td>NaT</td>\n",
       "      <td>93d9ff13-0fa7-4a9b-a03c-a56eb4cd1622</td>\n",
       "      <td>2022-02-01 20:26:13.182</td>\n",
       "    </tr>\n",
       "    <tr>\n",
       "      <th>50866</th>\n",
       "      <td>8684c013-f40b-401a-9695-313f6dd6c461</td>\n",
       "      <td>3076c0d1-6616-495f-9033-cc82bb95f8f1</td>\n",
       "      <td>1623087370</td>\n",
       "      <td>5</td>\n",
       "      <td>NaT</td>\n",
       "      <td>ae5ce77e-31d2-4f32-a339-315f644a9284</td>\n",
       "      <td>2022-02-01 10:51:27.314</td>\n",
       "    </tr>\n",
       "    <tr>\n",
       "      <th>50867</th>\n",
       "      <td>41dd56aa-8a15-4d30-9e6e-161b060bcd32</td>\n",
       "      <td>57a33ba4-ee3a-4bac-afff-9214e559b0e5</td>\n",
       "      <td>1623087370</td>\n",
       "      <td>2</td>\n",
       "      <td>NaT</td>\n",
       "      <td>d1f96f1c-9363-4a68-b286-4834e73f7ec9</td>\n",
       "      <td>2022-02-01 23:18:54.434</td>\n",
       "    </tr>\n",
       "    <tr>\n",
       "      <th>50868</th>\n",
       "      <td>90c5c79a-3043-4a87-b082-7b463bd4680d</td>\n",
       "      <td>d3be7ecc-1e40-4e8f-981e-e1327a86e316</td>\n",
       "      <td>1624605786</td>\n",
       "      <td>1</td>\n",
       "      <td>NaT</td>\n",
       "      <td>bcd3d5d7-da67-47f4-b253-26a9c136223f</td>\n",
       "      <td>2022-02-01 20:51:59.292</td>\n",
       "    </tr>\n",
       "    <tr>\n",
       "      <th>50869</th>\n",
       "      <td>9de293ba-ff28-4527-820f-1a76d0f89870</td>\n",
       "      <td>c43c590e-84c3-4964-ba98-f23ddae8b393</td>\n",
       "      <td>1624605786</td>\n",
       "      <td>1</td>\n",
       "      <td>NaT</td>\n",
       "      <td>00101e16-c14d-4067-af8e-996e5f864f13</td>\n",
       "      <td>2022-02-01 11:08:14.872</td>\n",
       "    </tr>\n",
       "    <tr>\n",
       "      <th>...</th>\n",
       "      <td>...</td>\n",
       "      <td>...</td>\n",
       "      <td>...</td>\n",
       "      <td>...</td>\n",
       "      <td>...</td>\n",
       "      <td>...</td>\n",
       "      <td>...</td>\n",
       "    </tr>\n",
       "    <tr>\n",
       "      <th>51436</th>\n",
       "      <td>f187b435-d3c2-461b-a0a4-cbf60208be5a</td>\n",
       "      <td>2651823e-bd67-4299-9c2a-0c893aedc9c3</td>\n",
       "      <td>1622248005</td>\n",
       "      <td>1</td>\n",
       "      <td>NaT</td>\n",
       "      <td>3fa5e303-9451-4d5e-907d-4599adf38cd0</td>\n",
       "      <td>2022-02-01 20:04:33.649</td>\n",
       "    </tr>\n",
       "    <tr>\n",
       "      <th>51437</th>\n",
       "      <td>d9426122-aca5-491a-ab00-79cc166f8b5a</td>\n",
       "      <td>1681289f-b744-4c4b-9171-0de84aa0a96a</td>\n",
       "      <td>1622248002</td>\n",
       "      <td>1</td>\n",
       "      <td>NaT</td>\n",
       "      <td>101f885e-6436-4fd2-b4bd-fcde83851e99</td>\n",
       "      <td>2022-02-01 20:33:04.963</td>\n",
       "    </tr>\n",
       "    <tr>\n",
       "      <th>51438</th>\n",
       "      <td>6ab1b3c0-9c02-40ee-adc1-47cc1bf14f22</td>\n",
       "      <td>2245882f-9c57-4225-b6b7-2f73f0217e4b</td>\n",
       "      <td>1609594242</td>\n",
       "      <td>7</td>\n",
       "      <td>NaT</td>\n",
       "      <td>2b39f9b0-d1bd-4759-bf46-56f4c0255ca1</td>\n",
       "      <td>2022-02-01 11:35:04.307</td>\n",
       "    </tr>\n",
       "    <tr>\n",
       "      <th>51439</th>\n",
       "      <td>e93c7b96-e42a-4a36-b4f9-777a55a3595c</td>\n",
       "      <td>01ec85fd-ef66-4031-b6fd-69433bf109a5</td>\n",
       "      <td>1622248002</td>\n",
       "      <td>1</td>\n",
       "      <td>NaT</td>\n",
       "      <td>72222de0-f541-4401-b9b1-c64b122605ad</td>\n",
       "      <td>2022-02-01 07:25:50.840</td>\n",
       "    </tr>\n",
       "    <tr>\n",
       "      <th>51440</th>\n",
       "      <td>5f26b9f7-355c-47bd-9fd0-220ae5345815</td>\n",
       "      <td>2f9682e6-6e6e-4c4c-99e9-2236afcd5580</td>\n",
       "      <td>1622248002</td>\n",
       "      <td>3</td>\n",
       "      <td>NaT</td>\n",
       "      <td>bf4b7b24-415b-4fba-9755-200c85fe4645</td>\n",
       "      <td>2022-02-01 06:56:09.405</td>\n",
       "    </tr>\n",
       "  </tbody>\n",
       "</table>\n",
       "<p>576 rows × 7 columns</p>\n",
       "</div>"
      ],
      "text/plain": [
       "                                    user_id  \\\n",
       "50865  114f4ecd-3e73-4949-afdb-5da8cf2117b2   \n",
       "50866  8684c013-f40b-401a-9695-313f6dd6c461   \n",
       "50867  41dd56aa-8a15-4d30-9e6e-161b060bcd32   \n",
       "50868  90c5c79a-3043-4a87-b082-7b463bd4680d   \n",
       "50869  9de293ba-ff28-4527-820f-1a76d0f89870   \n",
       "...                                     ...   \n",
       "51436  f187b435-d3c2-461b-a0a4-cbf60208be5a   \n",
       "51437  d9426122-aca5-491a-ab00-79cc166f8b5a   \n",
       "51438  6ab1b3c0-9c02-40ee-adc1-47cc1bf14f22   \n",
       "51439  e93c7b96-e42a-4a36-b4f9-777a55a3595c   \n",
       "51440  5f26b9f7-355c-47bd-9fd0-220ae5345815   \n",
       "\n",
       "                        brochure_click_uuid brochure_id page_num_array  \\\n",
       "50865  798a88c8-c31b-4a94-b9fb-7a33997b6b37  1622248014              9   \n",
       "50866  3076c0d1-6616-495f-9033-cc82bb95f8f1  1623087370              5   \n",
       "50867  57a33ba4-ee3a-4bac-afff-9214e559b0e5  1623087370              2   \n",
       "50868  d3be7ecc-1e40-4e8f-981e-e1327a86e316  1624605786              1   \n",
       "50869  c43c590e-84c3-4964-ba98-f23ddae8b393  1624605786              1   \n",
       "...                                     ...         ...            ...   \n",
       "51436  2651823e-bd67-4299-9c2a-0c893aedc9c3  1622248005              1   \n",
       "51437  1681289f-b744-4c4b-9171-0de84aa0a96a  1622248002              1   \n",
       "51438  2245882f-9c57-4225-b6b7-2f73f0217e4b  1609594242              7   \n",
       "51439  01ec85fd-ef66-4031-b6fd-69433bf109a5  1622248002              1   \n",
       "51440  2f9682e6-6e6e-4c4c-99e9-2236afcd5580  1622248002              3   \n",
       "\n",
       "      date_time_received_local_enter                            session_id  \\\n",
       "50865                            NaT  93d9ff13-0fa7-4a9b-a03c-a56eb4cd1622   \n",
       "50866                            NaT  ae5ce77e-31d2-4f32-a339-315f644a9284   \n",
       "50867                            NaT  d1f96f1c-9363-4a68-b286-4834e73f7ec9   \n",
       "50868                            NaT  bcd3d5d7-da67-47f4-b253-26a9c136223f   \n",
       "50869                            NaT  00101e16-c14d-4067-af8e-996e5f864f13   \n",
       "...                              ...                                   ...   \n",
       "51436                            NaT  3fa5e303-9451-4d5e-907d-4599adf38cd0   \n",
       "51437                            NaT  101f885e-6436-4fd2-b4bd-fcde83851e99   \n",
       "51438                            NaT  2b39f9b0-d1bd-4759-bf46-56f4c0255ca1   \n",
       "51439                            NaT  72222de0-f541-4401-b9b1-c64b122605ad   \n",
       "51440                            NaT  bf4b7b24-415b-4fba-9755-200c85fe4645   \n",
       "\n",
       "      date_time_received_local_exit  \n",
       "50865       2022-02-01 20:26:13.182  \n",
       "50866       2022-02-01 10:51:27.314  \n",
       "50867       2022-02-01 23:18:54.434  \n",
       "50868       2022-02-01 20:51:59.292  \n",
       "50869       2022-02-01 11:08:14.872  \n",
       "...                             ...  \n",
       "51436       2022-02-01 20:04:33.649  \n",
       "51437       2022-02-01 20:33:04.963  \n",
       "51438       2022-02-01 11:35:04.307  \n",
       "51439       2022-02-01 07:25:50.840  \n",
       "51440       2022-02-01 06:56:09.405  \n",
       "\n",
       "[576 rows x 7 columns]"
      ]
     },
     "execution_count": 345,
     "metadata": {},
     "output_type": "execute_result"
    }
   ],
   "source": [
    "#merging enter and exit events\n",
    "enters_and_exits = page_enter_all_pages.merge(page_exit_all_pages, how='outer', on=['user_id','brochure_click_uuid','session_id','page_num_array','brochure_id'], suffixes=(\"_enter\",\"_exit\"))\n",
    "\n",
    "#non-matched:\n",
    "enters_and_exits[enters_and_exits['date_time_received_local_enter'].isna()]"
   ]
  },
  {
   "cell_type": "code",
   "execution_count": 346,
   "metadata": {},
   "outputs": [
    {
     "data": {
      "text/plain": [
       "50865"
      ]
     },
     "execution_count": 346,
     "metadata": {},
     "output_type": "execute_result"
    }
   ],
   "source": [
    "#number of page enter events overall (and it matches the initial)\n",
    "assert(len(enters_and_exits[~enters_and_exits['date_time_received_local_enter'].isna()]) == len(page_enter_all_pages))\n",
    "len(enters_and_exits[~enters_and_exits['date_time_received_local_enter'].isna()])"
   ]
  },
  {
   "cell_type": "code",
   "execution_count": 347,
   "metadata": {},
   "outputs": [
    {
     "data": {
      "text/plain": [
       "0.9246043448343655"
      ]
     },
     "execution_count": 347,
     "metadata": {},
     "output_type": "execute_result"
    }
   ],
   "source": [
    "#how many page enter events have a page exit\n",
    "len(enters_and_exits[(~enters_and_exits['date_time_received_local_enter'].isna())&(~enters_and_exits['date_time_received_local_exit'].isna())])/len(enters_and_exits[~enters_and_exits['date_time_received_local_enter'].isna()])"
   ]
  },
  {
   "cell_type": "code",
   "execution_count": 348,
   "metadata": {},
   "outputs": [
    {
     "data": {
      "text/plain": [
       "1.1197293987286405"
      ]
     },
     "execution_count": 348,
     "metadata": {},
     "output_type": "execute_result"
    }
   ],
   "source": [
    "#how many page exit events without a matching page enter events\n",
    "len(enters_and_exits[(enters_and_exits['date_time_received_local_enter'].isna())])*100/len(enters_and_exits)"
   ]
  },
  {
   "cell_type": "code",
   "execution_count": 349,
   "metadata": {},
   "outputs": [
    {
     "data": {
      "text/html": [
       "<div>\n",
       "<style scoped>\n",
       "    .dataframe tbody tr th:only-of-type {\n",
       "        vertical-align: middle;\n",
       "    }\n",
       "\n",
       "    .dataframe tbody tr th {\n",
       "        vertical-align: top;\n",
       "    }\n",
       "\n",
       "    .dataframe thead th {\n",
       "        text-align: right;\n",
       "    }\n",
       "</style>\n",
       "<table border=\"1\" class=\"dataframe\">\n",
       "  <thead>\n",
       "    <tr style=\"text-align: right;\">\n",
       "      <th></th>\n",
       "      <th></th>\n",
       "      <th></th>\n",
       "      <th></th>\n",
       "      <th></th>\n",
       "      <th></th>\n",
       "      <th>date_time_received_local_exit</th>\n",
       "    </tr>\n",
       "    <tr>\n",
       "      <th>user_id</th>\n",
       "      <th>brochure_click_uuid</th>\n",
       "      <th>brochure_id</th>\n",
       "      <th>page_num_array</th>\n",
       "      <th>date_time_received_local_enter</th>\n",
       "      <th>session_id</th>\n",
       "      <th></th>\n",
       "    </tr>\n",
       "  </thead>\n",
       "  <tbody>\n",
       "  </tbody>\n",
       "</table>\n",
       "</div>"
      ],
      "text/plain": [
       "Empty DataFrame\n",
       "Columns: [date_time_received_local_exit]\n",
       "Index: []"
      ]
     },
     "execution_count": 349,
     "metadata": {},
     "output_type": "execute_result"
    }
   ],
   "source": [
    "#checking that there are no duplicated page exit events for the same page enter events\n",
    "multiple_exits = enters_and_exits[~enters_and_exits['date_time_received_local_enter'].isna()].groupby(['user_id','brochure_click_uuid','brochure_id','page_num_array','date_time_received_local_enter','session_id']).agg({'date_time_received_local_exit':'count'})\n",
    "multiple_exits[multiple_exits['date_time_received_local_exit']>1]"
   ]
  },
  {
   "cell_type": "code",
   "execution_count": 350,
   "metadata": {},
   "outputs": [
    {
     "data": {
      "text/plain": [
       "2403"
      ]
     },
     "execution_count": 350,
     "metadata": {},
     "output_type": "execute_result"
    }
   ],
   "source": [
    "#page enter events that do not have the same session_id in the page exit events:\n",
    "len(page_enter[~page_enter['session_id'].isin(page_exit['session_id'].unique())])"
   ]
  },
  {
   "cell_type": "code",
   "execution_count": 351,
   "metadata": {},
   "outputs": [
    {
     "data": {
      "text/plain": [
       "354"
      ]
     },
     "execution_count": 351,
     "metadata": {},
     "output_type": "execute_result"
    }
   ],
   "source": [
    "#page exit events that do not have a corresponding page enter events:\n",
    "len(page_exit[~page_exit['session_id'].isin(page_enter['session_id'].unique())])"
   ]
  },
  {
   "cell_type": "code",
   "execution_count": 352,
   "metadata": {},
   "outputs": [
    {
     "data": {
      "text/plain": [
       "2160"
      ]
     },
     "execution_count": 352,
     "metadata": {},
     "output_type": "execute_result"
    }
   ],
   "source": [
    "#page enter events that do not have the same user_id in the page exit events:\n",
    "len(page_enter[~page_enter['user_id'].isin(page_exit['user_id'].unique())])"
   ]
  },
  {
   "cell_type": "code",
   "execution_count": 372,
   "metadata": {},
   "outputs": [
    {
     "name": "stdout",
     "output_type": "stream",
     "text": [
      "2.987454816074846\n",
      "0.36602739726027395\n"
     ]
    },
    {
     "name": "stderr",
     "output_type": "stream",
     "text": [
      "/var/folders/0z/wp46fdb16j11vgx66n1nql3h3zkrhs/T/ipykernel_87812/3465810341.py:2: SettingWithCopyWarning:\n",
      "\n",
      "\n",
      "A value is trying to be set on a copy of a slice from a DataFrame.\n",
      "Try using .loc[row_indexer,col_indexer] = value instead\n",
      "\n",
      "See the caveats in the documentation: https://pandas.pydata.org/pandas-docs/stable/user_guide/indexing.html#returning-a-view-versus-a-copy\n",
      "\n"
     ]
    },
    {
     "data": {
      "text/html": [
       "<div>\n",
       "<style scoped>\n",
       "    .dataframe tbody tr th:only-of-type {\n",
       "        vertical-align: middle;\n",
       "    }\n",
       "\n",
       "    .dataframe tbody tr th {\n",
       "        vertical-align: top;\n",
       "    }\n",
       "\n",
       "    .dataframe thead th {\n",
       "        text-align: right;\n",
       "    }\n",
       "</style>\n",
       "<table border=\"1\" class=\"dataframe\">\n",
       "  <thead>\n",
       "    <tr style=\"text-align: right;\">\n",
       "      <th></th>\n",
       "      <th>user_id</th>\n",
       "      <th>brochure_click_uuid</th>\n",
       "      <th>brochure_id</th>\n",
       "      <th>page_num_array</th>\n",
       "      <th>date_time_received_local_enter</th>\n",
       "      <th>session_id</th>\n",
       "      <th>date_time_received_local_exit</th>\n",
       "      <th>pageview_duration</th>\n",
       "    </tr>\n",
       "  </thead>\n",
       "  <tbody>\n",
       "    <tr>\n",
       "      <th>0</th>\n",
       "      <td>8CE0D5A1-25DB-4370-A5E0-03588F325E84</td>\n",
       "      <td>5E064D80-099D-4236-9892-84998C298B0D</td>\n",
       "      <td>1624258745</td>\n",
       "      <td>6</td>\n",
       "      <td>2022-02-01 07:33:02.803</td>\n",
       "      <td>9FF7F02D-BE29-41FA-9A62-DF024AF2A800</td>\n",
       "      <td>2022-02-01 07:33:07.847</td>\n",
       "      <td>0 days 00:00:05.044000</td>\n",
       "    </tr>\n",
       "    <tr>\n",
       "      <th>1</th>\n",
       "      <td>8CE0D5A1-25DB-4370-A5E0-03588F325E84</td>\n",
       "      <td>5E064D80-099D-4236-9892-84998C298B0D</td>\n",
       "      <td>1624258745</td>\n",
       "      <td>4</td>\n",
       "      <td>2022-02-01 07:32:56.294</td>\n",
       "      <td>9FF7F02D-BE29-41FA-9A62-DF024AF2A800</td>\n",
       "      <td>2022-02-01 07:32:59.066</td>\n",
       "      <td>0 days 00:00:02.772000</td>\n",
       "    </tr>\n",
       "    <tr>\n",
       "      <th>2</th>\n",
       "      <td>8CE0D5A1-25DB-4370-A5E0-03588F325E84</td>\n",
       "      <td>5E064D80-099D-4236-9892-84998C298B0D</td>\n",
       "      <td>1624258745</td>\n",
       "      <td>8</td>\n",
       "      <td>2022-02-01 07:33:14.957</td>\n",
       "      <td>9FF7F02D-BE29-41FA-9A62-DF024AF2A800</td>\n",
       "      <td>2022-02-01 07:33:17.946</td>\n",
       "      <td>0 days 00:00:02.989000</td>\n",
       "    </tr>\n",
       "    <tr>\n",
       "      <th>3</th>\n",
       "      <td>8CE0D5A1-25DB-4370-A5E0-03588F325E84</td>\n",
       "      <td>5E064D80-099D-4236-9892-84998C298B0D</td>\n",
       "      <td>1624258745</td>\n",
       "      <td>2</td>\n",
       "      <td>2022-02-01 07:32:33.557</td>\n",
       "      <td>9FF7F02D-BE29-41FA-9A62-DF024AF2A800</td>\n",
       "      <td>2022-02-01 07:32:40.320</td>\n",
       "      <td>0 days 00:00:06.763000</td>\n",
       "    </tr>\n",
       "    <tr>\n",
       "      <th>4</th>\n",
       "      <td>DD982DA2-A151-4235-8FE3-DA5536CD7006</td>\n",
       "      <td>DBAE550E-8EEC-479B-A29D-DB3AEAE4AB64</td>\n",
       "      <td>1624258745</td>\n",
       "      <td>8</td>\n",
       "      <td>2022-02-01 18:25:51.435</td>\n",
       "      <td>FAEF5D44-01B1-4AA2-85FC-2FAFECDE225D</td>\n",
       "      <td>2022-02-01 18:25:52.132</td>\n",
       "      <td>0 days 00:00:00.697000</td>\n",
       "    </tr>\n",
       "    <tr>\n",
       "      <th>...</th>\n",
       "      <td>...</td>\n",
       "      <td>...</td>\n",
       "      <td>...</td>\n",
       "      <td>...</td>\n",
       "      <td>...</td>\n",
       "      <td>...</td>\n",
       "      <td>...</td>\n",
       "      <td>...</td>\n",
       "    </tr>\n",
       "    <tr>\n",
       "      <th>50859</th>\n",
       "      <td>5a5cc4d8-19b6-46e5-b6fa-a1796dda5a56</td>\n",
       "      <td>f6e8c398-78fa-423a-a439-52c1d0f84aeb</td>\n",
       "      <td>1624252611</td>\n",
       "      <td>1</td>\n",
       "      <td>2022-02-01 21:19:53.794</td>\n",
       "      <td>848e2f92-0a57-423c-a5f8-b58694f8a6fc</td>\n",
       "      <td>2022-02-01 21:20:23.393</td>\n",
       "      <td>0 days 00:00:29.599000</td>\n",
       "    </tr>\n",
       "    <tr>\n",
       "      <th>50861</th>\n",
       "      <td>4A4201C5-CC97-4987-93C1-B13DE1048E42</td>\n",
       "      <td>55BF3B0C-99AB-4872-ABA0-0D7C64C14936</td>\n",
       "      <td>1624252611</td>\n",
       "      <td>1</td>\n",
       "      <td>2022-02-01 21:48:35.561</td>\n",
       "      <td>36FC01CF-A283-4881-A92E-00CE5BDE9E14</td>\n",
       "      <td>2022-02-01 21:48:41.507</td>\n",
       "      <td>0 days 00:00:05.946000</td>\n",
       "    </tr>\n",
       "    <tr>\n",
       "      <th>50862</th>\n",
       "      <td>1882DFE6-6521-440D-8C4A-229E5771ADB4</td>\n",
       "      <td>723B660F-1D32-45C6-8408-B463828B40D1</td>\n",
       "      <td>1624252611</td>\n",
       "      <td>1</td>\n",
       "      <td>2022-02-01 21:33:41.450</td>\n",
       "      <td>13DAE10E-EB48-4F84-8286-02E468A744B1</td>\n",
       "      <td>2022-02-01 21:33:44.373</td>\n",
       "      <td>0 days 00:00:02.923000</td>\n",
       "    </tr>\n",
       "    <tr>\n",
       "      <th>50863</th>\n",
       "      <td>aedca98d-e4c8-4d4f-8884-410f2cca14da</td>\n",
       "      <td>c4ca29a3-ee4e-4e0e-9c16-00c1e7942b07</td>\n",
       "      <td>1624252611</td>\n",
       "      <td>1</td>\n",
       "      <td>2022-02-01 21:13:20.464</td>\n",
       "      <td>582c8378-45e7-4a3e-8a87-5b821c9f6d54</td>\n",
       "      <td>2022-02-01 21:13:25.235</td>\n",
       "      <td>0 days 00:00:04.771000</td>\n",
       "    </tr>\n",
       "    <tr>\n",
       "      <th>50864</th>\n",
       "      <td>1BAAE1FE-8818-4BB8-9248-90E326BA35CF</td>\n",
       "      <td>5561E219-DEDB-4273-A177-F83D6697E277</td>\n",
       "      <td>1624252611</td>\n",
       "      <td>1</td>\n",
       "      <td>2022-02-01 21:58:35.382</td>\n",
       "      <td>C6AF7C4C-DF2E-4C02-B250-DCA94B58C11F</td>\n",
       "      <td>2022-02-01 21:58:44.552</td>\n",
       "      <td>0 days 00:00:09.170000</td>\n",
       "    </tr>\n",
       "  </tbody>\n",
       "</table>\n",
       "<p>45458 rows × 8 columns</p>\n",
       "</div>"
      ],
      "text/plain": [
       "                                    user_id  \\\n",
       "0      8CE0D5A1-25DB-4370-A5E0-03588F325E84   \n",
       "1      8CE0D5A1-25DB-4370-A5E0-03588F325E84   \n",
       "2      8CE0D5A1-25DB-4370-A5E0-03588F325E84   \n",
       "3      8CE0D5A1-25DB-4370-A5E0-03588F325E84   \n",
       "4      DD982DA2-A151-4235-8FE3-DA5536CD7006   \n",
       "...                                     ...   \n",
       "50859  5a5cc4d8-19b6-46e5-b6fa-a1796dda5a56   \n",
       "50861  4A4201C5-CC97-4987-93C1-B13DE1048E42   \n",
       "50862  1882DFE6-6521-440D-8C4A-229E5771ADB4   \n",
       "50863  aedca98d-e4c8-4d4f-8884-410f2cca14da   \n",
       "50864  1BAAE1FE-8818-4BB8-9248-90E326BA35CF   \n",
       "\n",
       "                        brochure_click_uuid brochure_id page_num_array  \\\n",
       "0      5E064D80-099D-4236-9892-84998C298B0D  1624258745              6   \n",
       "1      5E064D80-099D-4236-9892-84998C298B0D  1624258745              4   \n",
       "2      5E064D80-099D-4236-9892-84998C298B0D  1624258745              8   \n",
       "3      5E064D80-099D-4236-9892-84998C298B0D  1624258745              2   \n",
       "4      DBAE550E-8EEC-479B-A29D-DB3AEAE4AB64  1624258745              8   \n",
       "...                                     ...         ...            ...   \n",
       "50859  f6e8c398-78fa-423a-a439-52c1d0f84aeb  1624252611              1   \n",
       "50861  55BF3B0C-99AB-4872-ABA0-0D7C64C14936  1624252611              1   \n",
       "50862  723B660F-1D32-45C6-8408-B463828B40D1  1624252611              1   \n",
       "50863  c4ca29a3-ee4e-4e0e-9c16-00c1e7942b07  1624252611              1   \n",
       "50864  5561E219-DEDB-4273-A177-F83D6697E277  1624252611              1   \n",
       "\n",
       "      date_time_received_local_enter                            session_id  \\\n",
       "0            2022-02-01 07:33:02.803  9FF7F02D-BE29-41FA-9A62-DF024AF2A800   \n",
       "1            2022-02-01 07:32:56.294  9FF7F02D-BE29-41FA-9A62-DF024AF2A800   \n",
       "2            2022-02-01 07:33:14.957  9FF7F02D-BE29-41FA-9A62-DF024AF2A800   \n",
       "3            2022-02-01 07:32:33.557  9FF7F02D-BE29-41FA-9A62-DF024AF2A800   \n",
       "4            2022-02-01 18:25:51.435  FAEF5D44-01B1-4AA2-85FC-2FAFECDE225D   \n",
       "...                              ...                                   ...   \n",
       "50859        2022-02-01 21:19:53.794  848e2f92-0a57-423c-a5f8-b58694f8a6fc   \n",
       "50861        2022-02-01 21:48:35.561  36FC01CF-A283-4881-A92E-00CE5BDE9E14   \n",
       "50862        2022-02-01 21:33:41.450  13DAE10E-EB48-4F84-8286-02E468A744B1   \n",
       "50863        2022-02-01 21:13:20.464  582c8378-45e7-4a3e-8a87-5b821c9f6d54   \n",
       "50864        2022-02-01 21:58:35.382  C6AF7C4C-DF2E-4C02-B250-DCA94B58C11F   \n",
       "\n",
       "      date_time_received_local_exit      pageview_duration  \n",
       "0           2022-02-01 07:33:07.847 0 days 00:00:05.044000  \n",
       "1           2022-02-01 07:32:59.066 0 days 00:00:02.772000  \n",
       "2           2022-02-01 07:33:17.946 0 days 00:00:02.989000  \n",
       "3           2022-02-01 07:32:40.320 0 days 00:00:06.763000  \n",
       "4           2022-02-01 18:25:52.132 0 days 00:00:00.697000  \n",
       "...                             ...                    ...  \n",
       "50859       2022-02-01 21:20:23.393 0 days 00:00:29.599000  \n",
       "50861       2022-02-01 21:48:41.507 0 days 00:00:05.946000  \n",
       "50862       2022-02-01 21:33:44.373 0 days 00:00:02.923000  \n",
       "50863       2022-02-01 21:13:25.235 0 days 00:00:04.771000  \n",
       "50864       2022-02-01 21:58:44.552 0 days 00:00:09.170000  \n",
       "\n",
       "[45458 rows x 8 columns]"
      ]
     },
     "execution_count": 372,
     "metadata": {},
     "output_type": "execute_result"
    }
   ],
   "source": [
    "enters_and_exits_clean = enters_and_exits[(~enters_and_exits['date_time_received_local_enter'].isna())&(~enters_and_exits['date_time_received_local_exit'].isna())]\n",
    "enters_and_exits_clean['pageview_duration'] = enters_and_exits_clean['date_time_received_local_exit'] - enters_and_exits_clean['date_time_received_local_enter']\n",
    "print(len(enters_and_exits_clean[enters_and_exits_clean['pageview_duration']<datetime.timedelta(minutes=0)])*100/len(enters_and_exits_clean))\n",
    "enters_and_exits_clean = enters_and_exits_clean[enters_and_exits_clean['pageview_duration']>=datetime.timedelta(minutes=0)]\n",
    "print(len(enters_and_exits_clean[enters_and_exits_clean['pageview_duration']>=datetime.timedelta(minutes=30)])*100/len(enters_and_exits_clean))\n",
    "enters_and_exits_clean = enters_and_exits_clean[enters_and_exits_clean['pageview_duration']<datetime.timedelta(minutes=30)]\n",
    "enters_and_exits_clean"
   ]
  },
  {
   "cell_type": "code",
   "execution_count": 373,
   "metadata": {},
   "outputs": [
    {
     "data": {
      "text/plain": [
       "13770"
      ]
     },
     "execution_count": 373,
     "metadata": {},
     "output_type": "execute_result"
    }
   ],
   "source": [
    "enters_and_exits_clean['user_id'].nunique()"
   ]
  },
  {
   "cell_type": "code",
   "execution_count": 374,
   "metadata": {},
   "outputs": [
    {
     "data": {
      "text/plain": [
       "89"
      ]
     },
     "execution_count": 374,
     "metadata": {},
     "output_type": "execute_result"
    }
   ],
   "source": [
    "enters_and_exits_clean['brochure_id'].nunique()"
   ]
  },
  {
   "cell_type": "code",
   "execution_count": 375,
   "metadata": {},
   "outputs": [
    {
     "data": {
      "text/plain": [
       "count                            45458\n",
       "mean     2022-02-01 15:12:38.001591040\n",
       "min         2022-02-01 00:00:08.683000\n",
       "25%      2022-02-01 10:57:22.883749888\n",
       "50%      2022-02-01 16:17:40.207500032\n",
       "75%      2022-02-01 20:22:01.611000064\n",
       "max         2022-02-01 23:59:32.133000\n",
       "Name: date_time_received_local_enter, dtype: object"
      ]
     },
     "execution_count": 375,
     "metadata": {},
     "output_type": "execute_result"
    }
   ],
   "source": [
    "enters_and_exits_clean['date_time_received_local_enter'].describe()"
   ]
  },
  {
   "cell_type": "code",
   "execution_count": 376,
   "metadata": {},
   "outputs": [
    {
     "data": {
      "text/plain": [
       "count                        45458\n",
       "mean     0 days 00:00:14.529420102\n",
       "std      0 days 00:01:16.673855526\n",
       "min                0 days 00:00:00\n",
       "25%         0 days 00:00:00.883000\n",
       "50%         0 days 00:00:01.805000\n",
       "75%         0 days 00:00:05.395000\n",
       "max         0 days 00:29:59.529000\n",
       "Name: pageview_duration, dtype: object"
      ]
     },
     "execution_count": 376,
     "metadata": {},
     "output_type": "execute_result"
    }
   ],
   "source": [
    "enters_and_exits_clean['pageview_duration'].describe()"
   ]
  },
  {
   "cell_type": "code",
   "execution_count": 380,
   "metadata": {},
   "outputs": [
    {
     "data": {
      "text/plain": [
       "<Axes: >"
      ]
     },
     "execution_count": 380,
     "metadata": {},
     "output_type": "execute_result"
    },
    {
     "data": {
      "image/png": "[encoded data removed]",
      "text/plain": [
       "<Figure size 640x480 with 1 Axes>"
      ]
     },
     "metadata": {},
     "output_type": "display_data"
    }
   ],
   "source": [
    "enters_and_exits_clean['duration_sec'] = enters_and_exits_clean['pageview_duration'].dt.seconds\n",
    "enters_and_exits_clean['duration_sec'].hist(bins=50)"
   ]
  },
  {
   "cell_type": "code",
   "execution_count": 383,
   "metadata": {},
   "outputs": [
    {
     "data": {
      "text/plain": [
       "30.282898499714022"
      ]
     },
     "execution_count": 383,
     "metadata": {},
     "output_type": "execute_result"
    }
   ],
   "source": [
    "#how many page views have a duration of less than 1 second\n",
    "len(enters_and_exits_clean[enters_and_exits_clean['duration_sec']==0])*100/len(enters_and_exits_clean)"
   ]
  },
  {
   "cell_type": "code",
   "execution_count": 377,
   "metadata": {},
   "outputs": [
    {
     "data": {
      "text/plain": [
       "Timedelta('0 days 00:00:14.529420102')"
      ]
     },
     "execution_count": 377,
     "metadata": {},
     "output_type": "execute_result"
    }
   ],
   "source": [
    "enters_and_exits_clean['pageview_duration'].mean()"
   ]
  },
  {
   "cell_type": "code",
   "execution_count": 427,
   "metadata": {},
   "outputs": [
    {
     "data": {
      "text/plain": [
       "count     89.000000\n",
       "mean      40.177939\n",
       "std       42.461995\n",
       "min        3.000000\n",
       "25%       21.400000\n",
       "50%       29.199541\n",
       "75%       43.885714\n",
       "max      295.000000\n",
       "Name: duration, dtype: float64"
      ]
     },
     "execution_count": 427,
     "metadata": {},
     "output_type": "execute_result"
    }
   ],
   "source": [
    "duration_per_brochure = enters_and_exits_clean.groupby('brochure_id').agg({'duration_sec':sum,'page_num_array':'count','brochure_click_uuid':'nunique'}).reset_index()\n",
    "duration_per_brochure['duration'] = duration_per_brochure['duration_sec']/duration_per_brochure['brochure_click_uuid']\n",
    "duration_per_brochure['duration'].describe()"
   ]
  },
  {
   "cell_type": "code",
   "execution_count": 423,
   "metadata": {},
   "outputs": [
    {
     "data": {
      "text/html": [
       "<div>\n",
       "<style scoped>\n",
       "    .dataframe tbody tr th:only-of-type {\n",
       "        vertical-align: middle;\n",
       "    }\n",
       "\n",
       "    .dataframe tbody tr th {\n",
       "        vertical-align: top;\n",
       "    }\n",
       "\n",
       "    .dataframe thead th {\n",
       "        text-align: right;\n",
       "    }\n",
       "</style>\n",
       "<table border=\"1\" class=\"dataframe\">\n",
       "  <thead>\n",
       "    <tr style=\"text-align: right;\">\n",
       "      <th></th>\n",
       "      <th>brochure_id</th>\n",
       "      <th>duration_sec</th>\n",
       "      <th>page_num_array</th>\n",
       "      <th>brochure_click_uuid</th>\n",
       "      <th>duration</th>\n",
       "    </tr>\n",
       "  </thead>\n",
       "  <tbody>\n",
       "    <tr>\n",
       "      <th>0</th>\n",
       "      <td>1609594235</td>\n",
       "      <td>589</td>\n",
       "      <td>87</td>\n",
       "      <td>19</td>\n",
       "      <td>31.000000</td>\n",
       "    </tr>\n",
       "    <tr>\n",
       "      <th>1</th>\n",
       "      <td>1609594236</td>\n",
       "      <td>260</td>\n",
       "      <td>18</td>\n",
       "      <td>4</td>\n",
       "      <td>65.000000</td>\n",
       "    </tr>\n",
       "    <tr>\n",
       "      <th>2</th>\n",
       "      <td>1609594237</td>\n",
       "      <td>1197</td>\n",
       "      <td>141</td>\n",
       "      <td>24</td>\n",
       "      <td>49.875000</td>\n",
       "    </tr>\n",
       "    <tr>\n",
       "      <th>3</th>\n",
       "      <td>1609594238</td>\n",
       "      <td>957</td>\n",
       "      <td>96</td>\n",
       "      <td>18</td>\n",
       "      <td>53.166667</td>\n",
       "    </tr>\n",
       "    <tr>\n",
       "      <th>4</th>\n",
       "      <td>1609594239</td>\n",
       "      <td>511</td>\n",
       "      <td>85</td>\n",
       "      <td>15</td>\n",
       "      <td>34.066667</td>\n",
       "    </tr>\n",
       "    <tr>\n",
       "      <th>...</th>\n",
       "      <td>...</td>\n",
       "      <td>...</td>\n",
       "      <td>...</td>\n",
       "      <td>...</td>\n",
       "      <td>...</td>\n",
       "    </tr>\n",
       "    <tr>\n",
       "      <th>84</th>\n",
       "      <td>1624605786</td>\n",
       "      <td>781</td>\n",
       "      <td>20</td>\n",
       "      <td>20</td>\n",
       "      <td>39.050000</td>\n",
       "    </tr>\n",
       "    <tr>\n",
       "      <th>85</th>\n",
       "      <td>1624605819</td>\n",
       "      <td>152</td>\n",
       "      <td>54</td>\n",
       "      <td>8</td>\n",
       "      <td>19.000000</td>\n",
       "    </tr>\n",
       "    <tr>\n",
       "      <th>86</th>\n",
       "      <td>1626126636</td>\n",
       "      <td>2088</td>\n",
       "      <td>36</td>\n",
       "      <td>36</td>\n",
       "      <td>58.000000</td>\n",
       "    </tr>\n",
       "    <tr>\n",
       "      <th>87</th>\n",
       "      <td>1626375062</td>\n",
       "      <td>208</td>\n",
       "      <td>11</td>\n",
       "      <td>11</td>\n",
       "      <td>18.909091</td>\n",
       "    </tr>\n",
       "    <tr>\n",
       "      <th>88</th>\n",
       "      <td>1626375064</td>\n",
       "      <td>84</td>\n",
       "      <td>4</td>\n",
       "      <td>4</td>\n",
       "      <td>21.000000</td>\n",
       "    </tr>\n",
       "  </tbody>\n",
       "</table>\n",
       "<p>89 rows × 5 columns</p>\n",
       "</div>"
      ],
      "text/plain": [
       "   brochure_id  duration_sec  page_num_array  brochure_click_uuid   duration\n",
       "0   1609594235           589              87                   19  31.000000\n",
       "1   1609594236           260              18                    4  65.000000\n",
       "2   1609594237          1197             141                   24  49.875000\n",
       "3   1609594238           957              96                   18  53.166667\n",
       "4   1609594239           511              85                   15  34.066667\n",
       "..         ...           ...             ...                  ...        ...\n",
       "84  1624605786           781              20                   20  39.050000\n",
       "85  1624605819           152              54                    8  19.000000\n",
       "86  1626126636          2088              36                   36  58.000000\n",
       "87  1626375062           208              11                   11  18.909091\n",
       "88  1626375064            84               4                    4  21.000000\n",
       "\n",
       "[89 rows x 5 columns]"
      ]
     },
     "execution_count": 423,
     "metadata": {},
     "output_type": "execute_result"
    }
   ],
   "source": [
    "duration_per_brochure"
   ]
  },
  {
   "cell_type": "code",
   "execution_count": 421,
   "metadata": {},
   "outputs": [
    {
     "data": {
      "text/plain": [
       "<Axes: >"
      ]
     },
     "execution_count": 421,
     "metadata": {},
     "output_type": "execute_result"
    },
    {
     "data": {
      "image/png": "[encoded data removed]",
      "text/plain": [
       "<Figure size 640x480 with 1 Axes>"
      ]
     },
     "metadata": {},
     "output_type": "display_data"
    }
   ],
   "source": [
    "duration_per_brochure['duration'].hist(bins=50)"
   ]
  },
  {
   "cell_type": "code",
   "execution_count": 433,
   "metadata": {},
   "outputs": [
    {
     "data": {
      "text/html": [
       "<div>\n",
       "<style scoped>\n",
       "    .dataframe tbody tr th:only-of-type {\n",
       "        vertical-align: middle;\n",
       "    }\n",
       "\n",
       "    .dataframe tbody tr th {\n",
       "        vertical-align: top;\n",
       "    }\n",
       "\n",
       "    .dataframe thead th {\n",
       "        text-align: right;\n",
       "    }\n",
       "</style>\n",
       "<table border=\"1\" class=\"dataframe\">\n",
       "  <thead>\n",
       "    <tr style=\"text-align: right;\">\n",
       "      <th></th>\n",
       "      <th>title</th>\n",
       "      <th>pfrom</th>\n",
       "      <th>puntil</th>\n",
       "      <th>page_count</th>\n",
       "      <th>publisher_id</th>\n",
       "      <th>sector_name</th>\n",
       "      <th>duration_sec</th>\n",
       "      <th>brochure_click_uuid</th>\n",
       "      <th>avg_duration</th>\n",
       "    </tr>\n",
       "  </thead>\n",
       "  <tbody>\n",
       "    <tr>\n",
       "      <th>6</th>\n",
       "      <td>Aktuelle Angebote</td>\n",
       "      <td>2022-01-30</td>\n",
       "      <td>2022-02-05</td>\n",
       "      <td>1.0</td>\n",
       "      <td>220164</td>\n",
       "      <td>Supermärkte</td>\n",
       "      <td>349231</td>\n",
       "      <td>9067</td>\n",
       "      <td>38.516709</td>\n",
       "    </tr>\n",
       "    <tr>\n",
       "      <th>19</th>\n",
       "      <td>Top Angebote</td>\n",
       "      <td>2022-01-31</td>\n",
       "      <td>2022-02-05</td>\n",
       "      <td>9.0</td>\n",
       "      <td>1013</td>\n",
       "      <td>Discounter</td>\n",
       "      <td>155637</td>\n",
       "      <td>5255</td>\n",
       "      <td>29.616936</td>\n",
       "    </tr>\n",
       "    <tr>\n",
       "      <th>0</th>\n",
       "      <td>0% FINANZIERUNG</td>\n",
       "      <td>2022-01-25</td>\n",
       "      <td>2022-02-08</td>\n",
       "      <td>1.0</td>\n",
       "      <td>1065</td>\n",
       "      <td>Elektromärkte</td>\n",
       "      <td>45964</td>\n",
       "      <td>1888</td>\n",
       "      <td>24.345339</td>\n",
       "    </tr>\n",
       "    <tr>\n",
       "      <th>9</th>\n",
       "      <td>ENTDECKEN SIE UNSERE EIGENMARKEN!</td>\n",
       "      <td>2022-01-29</td>\n",
       "      <td>2022-02-02</td>\n",
       "      <td>2.0</td>\n",
       "      <td>220164</td>\n",
       "      <td>Supermärkte</td>\n",
       "      <td>13272</td>\n",
       "      <td>593</td>\n",
       "      <td>22.381113</td>\n",
       "    </tr>\n",
       "    <tr>\n",
       "      <th>17</th>\n",
       "      <td>Top Angebote</td>\n",
       "      <td>2022-01-29</td>\n",
       "      <td>2022-02-02</td>\n",
       "      <td>4.0</td>\n",
       "      <td>220164</td>\n",
       "      <td>Supermärkte</td>\n",
       "      <td>12768</td>\n",
       "      <td>402</td>\n",
       "      <td>31.761194</td>\n",
       "    </tr>\n",
       "    <tr>\n",
       "      <th>12</th>\n",
       "      <td>FÜR BEIDES ENTSCHEIDEN!</td>\n",
       "      <td>2022-01-30</td>\n",
       "      <td>2022-02-05</td>\n",
       "      <td>7.0</td>\n",
       "      <td>1065</td>\n",
       "      <td>Elektromärkte</td>\n",
       "      <td>12548</td>\n",
       "      <td>343</td>\n",
       "      <td>36.583090</td>\n",
       "    </tr>\n",
       "    <tr>\n",
       "      <th>5</th>\n",
       "      <td>Aktuelle Angebote</td>\n",
       "      <td>2022-01-30</td>\n",
       "      <td>2022-02-03</td>\n",
       "      <td>8.0</td>\n",
       "      <td>220164</td>\n",
       "      <td>Supermärkte</td>\n",
       "      <td>9710</td>\n",
       "      <td>193</td>\n",
       "      <td>50.310881</td>\n",
       "    </tr>\n",
       "    <tr>\n",
       "      <th>1</th>\n",
       "      <td>APPsolut sparsam!</td>\n",
       "      <td>2022-01-29</td>\n",
       "      <td>2022-02-02</td>\n",
       "      <td>5.0</td>\n",
       "      <td>220164</td>\n",
       "      <td>Supermärkte</td>\n",
       "      <td>8018</td>\n",
       "      <td>297</td>\n",
       "      <td>26.996633</td>\n",
       "    </tr>\n",
       "    <tr>\n",
       "      <th>25</th>\n",
       "      <td>Zusammen. Verführerisch. Gut.</td>\n",
       "      <td>2022-01-29</td>\n",
       "      <td>2022-02-02</td>\n",
       "      <td>2.0</td>\n",
       "      <td>220164</td>\n",
       "      <td>Supermärkte</td>\n",
       "      <td>4420</td>\n",
       "      <td>306</td>\n",
       "      <td>14.444444</td>\n",
       "    </tr>\n",
       "    <tr>\n",
       "      <th>21</th>\n",
       "      <td>WIR MACHEN ORDNUNG EINFACH</td>\n",
       "      <td>2022-01-29</td>\n",
       "      <td>2022-02-05</td>\n",
       "      <td>8.0</td>\n",
       "      <td>1042</td>\n",
       "      <td>Baumärkte</td>\n",
       "      <td>4198</td>\n",
       "      <td>83</td>\n",
       "      <td>50.578313</td>\n",
       "    </tr>\n",
       "    <tr>\n",
       "      <th>3</th>\n",
       "      <td>Aktuelle Angebote</td>\n",
       "      <td>2022-01-30</td>\n",
       "      <td>2022-02-03</td>\n",
       "      <td>4.0</td>\n",
       "      <td>220164</td>\n",
       "      <td>Supermärkte</td>\n",
       "      <td>3952</td>\n",
       "      <td>80</td>\n",
       "      <td>49.400000</td>\n",
       "    </tr>\n",
       "    <tr>\n",
       "      <th>2</th>\n",
       "      <td>Aktuelle Angebote</td>\n",
       "      <td>2022-01-27</td>\n",
       "      <td>2022-02-02</td>\n",
       "      <td>6.0</td>\n",
       "      <td>1024</td>\n",
       "      <td>Elektromärkte</td>\n",
       "      <td>3697</td>\n",
       "      <td>211</td>\n",
       "      <td>17.521327</td>\n",
       "    </tr>\n",
       "    <tr>\n",
       "      <th>22</th>\n",
       "      <td>WIR MACHEN ORDNUNG EINFACH</td>\n",
       "      <td>2022-01-31</td>\n",
       "      <td>2022-02-05</td>\n",
       "      <td>8.0</td>\n",
       "      <td>1042</td>\n",
       "      <td>Baumärkte</td>\n",
       "      <td>3469</td>\n",
       "      <td>34</td>\n",
       "      <td>102.029412</td>\n",
       "    </tr>\n",
       "    <tr>\n",
       "      <th>7</th>\n",
       "      <td>Aktuelle Angebote</td>\n",
       "      <td>2022-01-31</td>\n",
       "      <td>2022-02-12</td>\n",
       "      <td>8.0</td>\n",
       "      <td>1024</td>\n",
       "      <td>Elektromärkte</td>\n",
       "      <td>3072</td>\n",
       "      <td>70</td>\n",
       "      <td>43.885714</td>\n",
       "    </tr>\n",
       "    <tr>\n",
       "      <th>15</th>\n",
       "      <td>SMARTES ANGEBOT!</td>\n",
       "      <td>2022-02-01</td>\n",
       "      <td>2022-02-15</td>\n",
       "      <td>1.0</td>\n",
       "      <td>1065</td>\n",
       "      <td>Elektromärkte</td>\n",
       "      <td>2088</td>\n",
       "      <td>36</td>\n",
       "      <td>58.000000</td>\n",
       "    </tr>\n",
       "    <tr>\n",
       "      <th>11</th>\n",
       "      <td>Entdecken Sie Vielfalt und Qualität.</td>\n",
       "      <td>2022-01-30</td>\n",
       "      <td>2022-02-02</td>\n",
       "      <td>4.0</td>\n",
       "      <td>220164</td>\n",
       "      <td>Supermärkte</td>\n",
       "      <td>1691</td>\n",
       "      <td>94</td>\n",
       "      <td>17.989362</td>\n",
       "    </tr>\n",
       "    <tr>\n",
       "      <th>16</th>\n",
       "      <td>Top Angebote</td>\n",
       "      <td>2022-01-29</td>\n",
       "      <td>2022-02-02</td>\n",
       "      <td>1.0</td>\n",
       "      <td>220164</td>\n",
       "      <td>Supermärkte</td>\n",
       "      <td>1666</td>\n",
       "      <td>23</td>\n",
       "      <td>72.434783</td>\n",
       "    </tr>\n",
       "    <tr>\n",
       "      <th>24</th>\n",
       "      <td>Wir feiern 4 Jahre!</td>\n",
       "      <td>2022-01-30</td>\n",
       "      <td>2022-02-05</td>\n",
       "      <td>2.0</td>\n",
       "      <td>220164</td>\n",
       "      <td>Supermärkte</td>\n",
       "      <td>657</td>\n",
       "      <td>52</td>\n",
       "      <td>12.634615</td>\n",
       "    </tr>\n",
       "    <tr>\n",
       "      <th>4</th>\n",
       "      <td>Aktuelle Angebote</td>\n",
       "      <td>2022-01-30</td>\n",
       "      <td>2022-02-03</td>\n",
       "      <td>5.0</td>\n",
       "      <td>220164</td>\n",
       "      <td>Supermärkte</td>\n",
       "      <td>531</td>\n",
       "      <td>13</td>\n",
       "      <td>40.846154</td>\n",
       "    </tr>\n",
       "    <tr>\n",
       "      <th>18</th>\n",
       "      <td>Top Angebote</td>\n",
       "      <td>2022-01-29</td>\n",
       "      <td>2022-02-02</td>\n",
       "      <td>8.0</td>\n",
       "      <td>220164</td>\n",
       "      <td>Supermärkte</td>\n",
       "      <td>286</td>\n",
       "      <td>11</td>\n",
       "      <td>26.000000</td>\n",
       "    </tr>\n",
       "    <tr>\n",
       "      <th>23</th>\n",
       "      <td>Wir feiern 2 Jahre!</td>\n",
       "      <td>2022-01-30</td>\n",
       "      <td>2022-02-05</td>\n",
       "      <td>2.0</td>\n",
       "      <td>220164</td>\n",
       "      <td>Supermärkte</td>\n",
       "      <td>285</td>\n",
       "      <td>28</td>\n",
       "      <td>10.178571</td>\n",
       "    </tr>\n",
       "    <tr>\n",
       "      <th>10</th>\n",
       "      <td>Entdecken Sie Genuss aus der Region!</td>\n",
       "      <td>2022-01-30</td>\n",
       "      <td>2022-02-05</td>\n",
       "      <td>2.0</td>\n",
       "      <td>220164</td>\n",
       "      <td>Supermärkte</td>\n",
       "      <td>214</td>\n",
       "      <td>10</td>\n",
       "      <td>21.400000</td>\n",
       "    </tr>\n",
       "    <tr>\n",
       "      <th>13</th>\n",
       "      <td>SMART GESPART UND SMART VERNETZT!</td>\n",
       "      <td>2022-02-01</td>\n",
       "      <td>2022-02-02</td>\n",
       "      <td>1.0</td>\n",
       "      <td>1065</td>\n",
       "      <td>Elektromärkte</td>\n",
       "      <td>208</td>\n",
       "      <td>11</td>\n",
       "      <td>18.909091</td>\n",
       "    </tr>\n",
       "    <tr>\n",
       "      <th>14</th>\n",
       "      <td>SMART GESPART!</td>\n",
       "      <td>2022-02-01</td>\n",
       "      <td>2022-02-02</td>\n",
       "      <td>1.0</td>\n",
       "      <td>1065</td>\n",
       "      <td>Elektromärkte</td>\n",
       "      <td>84</td>\n",
       "      <td>4</td>\n",
       "      <td>21.000000</td>\n",
       "    </tr>\n",
       "    <tr>\n",
       "      <th>20</th>\n",
       "      <td>Unsere Super-Sparwoche!</td>\n",
       "      <td>2022-02-01</td>\n",
       "      <td>2022-02-08</td>\n",
       "      <td>2.0</td>\n",
       "      <td>220164</td>\n",
       "      <td>Supermärkte</td>\n",
       "      <td>17</td>\n",
       "      <td>5</td>\n",
       "      <td>3.400000</td>\n",
       "    </tr>\n",
       "    <tr>\n",
       "      <th>8</th>\n",
       "      <td>Bio. Logisch. Für Alle.</td>\n",
       "      <td>2022-01-30</td>\n",
       "      <td>2022-02-05</td>\n",
       "      <td>2.0</td>\n",
       "      <td>220164</td>\n",
       "      <td>Supermärkte</td>\n",
       "      <td>17</td>\n",
       "      <td>4</td>\n",
       "      <td>4.250000</td>\n",
       "    </tr>\n",
       "  </tbody>\n",
       "</table>\n",
       "</div>"
      ],
      "text/plain": [
       "                                   title       pfrom      puntil  page_count  \\\n",
       "6                      Aktuelle Angebote  2022-01-30  2022-02-05         1.0   \n",
       "19                          Top Angebote  2022-01-31  2022-02-05         9.0   \n",
       "0                        0% FINANZIERUNG  2022-01-25  2022-02-08         1.0   \n",
       "9      ENTDECKEN SIE UNSERE EIGENMARKEN!  2022-01-29  2022-02-02         2.0   \n",
       "17                          Top Angebote  2022-01-29  2022-02-02         4.0   \n",
       "12               FÜR BEIDES ENTSCHEIDEN!  2022-01-30  2022-02-05         7.0   \n",
       "5                      Aktuelle Angebote  2022-01-30  2022-02-03         8.0   \n",
       "1                      APPsolut sparsam!  2022-01-29  2022-02-02         5.0   \n",
       "25         Zusammen. Verführerisch. Gut.  2022-01-29  2022-02-02         2.0   \n",
       "21            WIR MACHEN ORDNUNG EINFACH  2022-01-29  2022-02-05         8.0   \n",
       "3                      Aktuelle Angebote  2022-01-30  2022-02-03         4.0   \n",
       "2                      Aktuelle Angebote  2022-01-27  2022-02-02         6.0   \n",
       "22            WIR MACHEN ORDNUNG EINFACH  2022-01-31  2022-02-05         8.0   \n",
       "7                      Aktuelle Angebote  2022-01-31  2022-02-12         8.0   \n",
       "15                      SMARTES ANGEBOT!  2022-02-01  2022-02-15         1.0   \n",
       "11  Entdecken Sie Vielfalt und Qualität.  2022-01-30  2022-02-02         4.0   \n",
       "16                          Top Angebote  2022-01-29  2022-02-02         1.0   \n",
       "24                   Wir feiern 4 Jahre!  2022-01-30  2022-02-05         2.0   \n",
       "4                      Aktuelle Angebote  2022-01-30  2022-02-03         5.0   \n",
       "18                          Top Angebote  2022-01-29  2022-02-02         8.0   \n",
       "23                   Wir feiern 2 Jahre!  2022-01-30  2022-02-05         2.0   \n",
       "10  Entdecken Sie Genuss aus der Region!  2022-01-30  2022-02-05         2.0   \n",
       "13     SMART GESPART UND SMART VERNETZT!  2022-02-01  2022-02-02         1.0   \n",
       "14                        SMART GESPART!  2022-02-01  2022-02-02         1.0   \n",
       "20               Unsere Super-Sparwoche!  2022-02-01  2022-02-08         2.0   \n",
       "8                Bio. Logisch. Für Alle.  2022-01-30  2022-02-05         2.0   \n",
       "\n",
       "    publisher_id    sector_name  duration_sec  brochure_click_uuid  \\\n",
       "6         220164    Supermärkte        349231                 9067   \n",
       "19          1013     Discounter        155637                 5255   \n",
       "0           1065  Elektromärkte         45964                 1888   \n",
       "9         220164    Supermärkte         13272                  593   \n",
       "17        220164    Supermärkte         12768                  402   \n",
       "12          1065  Elektromärkte         12548                  343   \n",
       "5         220164    Supermärkte          9710                  193   \n",
       "1         220164    Supermärkte          8018                  297   \n",
       "25        220164    Supermärkte          4420                  306   \n",
       "21          1042      Baumärkte          4198                   83   \n",
       "3         220164    Supermärkte          3952                   80   \n",
       "2           1024  Elektromärkte          3697                  211   \n",
       "22          1042      Baumärkte          3469                   34   \n",
       "7           1024  Elektromärkte          3072                   70   \n",
       "15          1065  Elektromärkte          2088                   36   \n",
       "11        220164    Supermärkte          1691                   94   \n",
       "16        220164    Supermärkte          1666                   23   \n",
       "24        220164    Supermärkte           657                   52   \n",
       "4         220164    Supermärkte           531                   13   \n",
       "18        220164    Supermärkte           286                   11   \n",
       "23        220164    Supermärkte           285                   28   \n",
       "10        220164    Supermärkte           214                   10   \n",
       "13          1065  Elektromärkte           208                   11   \n",
       "14          1065  Elektromärkte            84                    4   \n",
       "20        220164    Supermärkte            17                    5   \n",
       "8         220164    Supermärkte            17                    4   \n",
       "\n",
       "    avg_duration  \n",
       "6      38.516709  \n",
       "19     29.616936  \n",
       "0      24.345339  \n",
       "9      22.381113  \n",
       "17     31.761194  \n",
       "12     36.583090  \n",
       "5      50.310881  \n",
       "1      26.996633  \n",
       "25     14.444444  \n",
       "21     50.578313  \n",
       "3      49.400000  \n",
       "2      17.521327  \n",
       "22    102.029412  \n",
       "7      43.885714  \n",
       "15     58.000000  \n",
       "11     17.989362  \n",
       "16     72.434783  \n",
       "24     12.634615  \n",
       "4      40.846154  \n",
       "18     26.000000  \n",
       "23     10.178571  \n",
       "10     21.400000  \n",
       "13     18.909091  \n",
       "14     21.000000  \n",
       "20      3.400000  \n",
       "8       4.250000  "
      ]
     },
     "execution_count": 433,
     "metadata": {},
     "output_type": "execute_result"
    }
   ],
   "source": [
    "content = pd.read_csv(\"resources/content.csv\")\n",
    "content['brochure_id'] = content['brochure_id'].astype(str)\n",
    "\n",
    "unique_brochures_duration = duration_per_brochure.merge(content, on='brochure_id',how='left').groupby(['title', 'pfrom', 'puntil', 'page_count', 'publisher_id', 'sector_name'])\\\n",
    "                                                                .agg({'duration_sec':sum,'brochure_click_uuid':sum}).reset_index()\n",
    "\n",
    "unique_brochures_duration['avg_duration'] = unique_brochures_duration['duration_sec']/unique_brochures_duration['brochure_click_uuid']\n",
    "unique_brochures_duration.sort_values('duration_sec',ascending=False)"
   ]
  },
  {
   "cell_type": "code",
   "execution_count": 434,
   "metadata": {},
   "outputs": [
    {
     "data": {
      "text/html": [
       "<div>\n",
       "<style scoped>\n",
       "    .dataframe tbody tr th:only-of-type {\n",
       "        vertical-align: middle;\n",
       "    }\n",
       "\n",
       "    .dataframe tbody tr th {\n",
       "        vertical-align: top;\n",
       "    }\n",
       "\n",
       "    .dataframe thead th {\n",
       "        text-align: right;\n",
       "    }\n",
       "</style>\n",
       "<table border=\"1\" class=\"dataframe\">\n",
       "  <thead>\n",
       "    <tr style=\"text-align: right;\">\n",
       "      <th></th>\n",
       "      <th>title</th>\n",
       "      <th>pfrom</th>\n",
       "      <th>puntil</th>\n",
       "      <th>page_count</th>\n",
       "      <th>publisher_id</th>\n",
       "      <th>sector_name</th>\n",
       "      <th>duration_sec</th>\n",
       "      <th>brochure_click_uuid</th>\n",
       "      <th>avg_duration</th>\n",
       "    </tr>\n",
       "  </thead>\n",
       "  <tbody>\n",
       "    <tr>\n",
       "      <th>22</th>\n",
       "      <td>WIR MACHEN ORDNUNG EINFACH</td>\n",
       "      <td>2022-01-31</td>\n",
       "      <td>2022-02-05</td>\n",
       "      <td>8.0</td>\n",
       "      <td>1042</td>\n",
       "      <td>Baumärkte</td>\n",
       "      <td>3469</td>\n",
       "      <td>34</td>\n",
       "      <td>102.029412</td>\n",
       "    </tr>\n",
       "    <tr>\n",
       "      <th>16</th>\n",
       "      <td>Top Angebote</td>\n",
       "      <td>2022-01-29</td>\n",
       "      <td>2022-02-02</td>\n",
       "      <td>1.0</td>\n",
       "      <td>220164</td>\n",
       "      <td>Supermärkte</td>\n",
       "      <td>1666</td>\n",
       "      <td>23</td>\n",
       "      <td>72.434783</td>\n",
       "    </tr>\n",
       "    <tr>\n",
       "      <th>15</th>\n",
       "      <td>SMARTES ANGEBOT!</td>\n",
       "      <td>2022-02-01</td>\n",
       "      <td>2022-02-15</td>\n",
       "      <td>1.0</td>\n",
       "      <td>1065</td>\n",
       "      <td>Elektromärkte</td>\n",
       "      <td>2088</td>\n",
       "      <td>36</td>\n",
       "      <td>58.000000</td>\n",
       "    </tr>\n",
       "    <tr>\n",
       "      <th>21</th>\n",
       "      <td>WIR MACHEN ORDNUNG EINFACH</td>\n",
       "      <td>2022-01-29</td>\n",
       "      <td>2022-02-05</td>\n",
       "      <td>8.0</td>\n",
       "      <td>1042</td>\n",
       "      <td>Baumärkte</td>\n",
       "      <td>4198</td>\n",
       "      <td>83</td>\n",
       "      <td>50.578313</td>\n",
       "    </tr>\n",
       "    <tr>\n",
       "      <th>5</th>\n",
       "      <td>Aktuelle Angebote</td>\n",
       "      <td>2022-01-30</td>\n",
       "      <td>2022-02-03</td>\n",
       "      <td>8.0</td>\n",
       "      <td>220164</td>\n",
       "      <td>Supermärkte</td>\n",
       "      <td>9710</td>\n",
       "      <td>193</td>\n",
       "      <td>50.310881</td>\n",
       "    </tr>\n",
       "    <tr>\n",
       "      <th>3</th>\n",
       "      <td>Aktuelle Angebote</td>\n",
       "      <td>2022-01-30</td>\n",
       "      <td>2022-02-03</td>\n",
       "      <td>4.0</td>\n",
       "      <td>220164</td>\n",
       "      <td>Supermärkte</td>\n",
       "      <td>3952</td>\n",
       "      <td>80</td>\n",
       "      <td>49.400000</td>\n",
       "    </tr>\n",
       "    <tr>\n",
       "      <th>7</th>\n",
       "      <td>Aktuelle Angebote</td>\n",
       "      <td>2022-01-31</td>\n",
       "      <td>2022-02-12</td>\n",
       "      <td>8.0</td>\n",
       "      <td>1024</td>\n",
       "      <td>Elektromärkte</td>\n",
       "      <td>3072</td>\n",
       "      <td>70</td>\n",
       "      <td>43.885714</td>\n",
       "    </tr>\n",
       "    <tr>\n",
       "      <th>4</th>\n",
       "      <td>Aktuelle Angebote</td>\n",
       "      <td>2022-01-30</td>\n",
       "      <td>2022-02-03</td>\n",
       "      <td>5.0</td>\n",
       "      <td>220164</td>\n",
       "      <td>Supermärkte</td>\n",
       "      <td>531</td>\n",
       "      <td>13</td>\n",
       "      <td>40.846154</td>\n",
       "    </tr>\n",
       "    <tr>\n",
       "      <th>6</th>\n",
       "      <td>Aktuelle Angebote</td>\n",
       "      <td>2022-01-30</td>\n",
       "      <td>2022-02-05</td>\n",
       "      <td>1.0</td>\n",
       "      <td>220164</td>\n",
       "      <td>Supermärkte</td>\n",
       "      <td>349231</td>\n",
       "      <td>9067</td>\n",
       "      <td>38.516709</td>\n",
       "    </tr>\n",
       "    <tr>\n",
       "      <th>12</th>\n",
       "      <td>FÜR BEIDES ENTSCHEIDEN!</td>\n",
       "      <td>2022-01-30</td>\n",
       "      <td>2022-02-05</td>\n",
       "      <td>7.0</td>\n",
       "      <td>1065</td>\n",
       "      <td>Elektromärkte</td>\n",
       "      <td>12548</td>\n",
       "      <td>343</td>\n",
       "      <td>36.583090</td>\n",
       "    </tr>\n",
       "    <tr>\n",
       "      <th>17</th>\n",
       "      <td>Top Angebote</td>\n",
       "      <td>2022-01-29</td>\n",
       "      <td>2022-02-02</td>\n",
       "      <td>4.0</td>\n",
       "      <td>220164</td>\n",
       "      <td>Supermärkte</td>\n",
       "      <td>12768</td>\n",
       "      <td>402</td>\n",
       "      <td>31.761194</td>\n",
       "    </tr>\n",
       "    <tr>\n",
       "      <th>19</th>\n",
       "      <td>Top Angebote</td>\n",
       "      <td>2022-01-31</td>\n",
       "      <td>2022-02-05</td>\n",
       "      <td>9.0</td>\n",
       "      <td>1013</td>\n",
       "      <td>Discounter</td>\n",
       "      <td>155637</td>\n",
       "      <td>5255</td>\n",
       "      <td>29.616936</td>\n",
       "    </tr>\n",
       "    <tr>\n",
       "      <th>1</th>\n",
       "      <td>APPsolut sparsam!</td>\n",
       "      <td>2022-01-29</td>\n",
       "      <td>2022-02-02</td>\n",
       "      <td>5.0</td>\n",
       "      <td>220164</td>\n",
       "      <td>Supermärkte</td>\n",
       "      <td>8018</td>\n",
       "      <td>297</td>\n",
       "      <td>26.996633</td>\n",
       "    </tr>\n",
       "    <tr>\n",
       "      <th>18</th>\n",
       "      <td>Top Angebote</td>\n",
       "      <td>2022-01-29</td>\n",
       "      <td>2022-02-02</td>\n",
       "      <td>8.0</td>\n",
       "      <td>220164</td>\n",
       "      <td>Supermärkte</td>\n",
       "      <td>286</td>\n",
       "      <td>11</td>\n",
       "      <td>26.000000</td>\n",
       "    </tr>\n",
       "    <tr>\n",
       "      <th>0</th>\n",
       "      <td>0% FINANZIERUNG</td>\n",
       "      <td>2022-01-25</td>\n",
       "      <td>2022-02-08</td>\n",
       "      <td>1.0</td>\n",
       "      <td>1065</td>\n",
       "      <td>Elektromärkte</td>\n",
       "      <td>45964</td>\n",
       "      <td>1888</td>\n",
       "      <td>24.345339</td>\n",
       "    </tr>\n",
       "    <tr>\n",
       "      <th>9</th>\n",
       "      <td>ENTDECKEN SIE UNSERE EIGENMARKEN!</td>\n",
       "      <td>2022-01-29</td>\n",
       "      <td>2022-02-02</td>\n",
       "      <td>2.0</td>\n",
       "      <td>220164</td>\n",
       "      <td>Supermärkte</td>\n",
       "      <td>13272</td>\n",
       "      <td>593</td>\n",
       "      <td>22.381113</td>\n",
       "    </tr>\n",
       "    <tr>\n",
       "      <th>10</th>\n",
       "      <td>Entdecken Sie Genuss aus der Region!</td>\n",
       "      <td>2022-01-30</td>\n",
       "      <td>2022-02-05</td>\n",
       "      <td>2.0</td>\n",
       "      <td>220164</td>\n",
       "      <td>Supermärkte</td>\n",
       "      <td>214</td>\n",
       "      <td>10</td>\n",
       "      <td>21.400000</td>\n",
       "    </tr>\n",
       "    <tr>\n",
       "      <th>14</th>\n",
       "      <td>SMART GESPART!</td>\n",
       "      <td>2022-02-01</td>\n",
       "      <td>2022-02-02</td>\n",
       "      <td>1.0</td>\n",
       "      <td>1065</td>\n",
       "      <td>Elektromärkte</td>\n",
       "      <td>84</td>\n",
       "      <td>4</td>\n",
       "      <td>21.000000</td>\n",
       "    </tr>\n",
       "    <tr>\n",
       "      <th>13</th>\n",
       "      <td>SMART GESPART UND SMART VERNETZT!</td>\n",
       "      <td>2022-02-01</td>\n",
       "      <td>2022-02-02</td>\n",
       "      <td>1.0</td>\n",
       "      <td>1065</td>\n",
       "      <td>Elektromärkte</td>\n",
       "      <td>208</td>\n",
       "      <td>11</td>\n",
       "      <td>18.909091</td>\n",
       "    </tr>\n",
       "    <tr>\n",
       "      <th>11</th>\n",
       "      <td>Entdecken Sie Vielfalt und Qualität.</td>\n",
       "      <td>2022-01-30</td>\n",
       "      <td>2022-02-02</td>\n",
       "      <td>4.0</td>\n",
       "      <td>220164</td>\n",
       "      <td>Supermärkte</td>\n",
       "      <td>1691</td>\n",
       "      <td>94</td>\n",
       "      <td>17.989362</td>\n",
       "    </tr>\n",
       "    <tr>\n",
       "      <th>2</th>\n",
       "      <td>Aktuelle Angebote</td>\n",
       "      <td>2022-01-27</td>\n",
       "      <td>2022-02-02</td>\n",
       "      <td>6.0</td>\n",
       "      <td>1024</td>\n",
       "      <td>Elektromärkte</td>\n",
       "      <td>3697</td>\n",
       "      <td>211</td>\n",
       "      <td>17.521327</td>\n",
       "    </tr>\n",
       "    <tr>\n",
       "      <th>25</th>\n",
       "      <td>Zusammen. Verführerisch. Gut.</td>\n",
       "      <td>2022-01-29</td>\n",
       "      <td>2022-02-02</td>\n",
       "      <td>2.0</td>\n",
       "      <td>220164</td>\n",
       "      <td>Supermärkte</td>\n",
       "      <td>4420</td>\n",
       "      <td>306</td>\n",
       "      <td>14.444444</td>\n",
       "    </tr>\n",
       "    <tr>\n",
       "      <th>24</th>\n",
       "      <td>Wir feiern 4 Jahre!</td>\n",
       "      <td>2022-01-30</td>\n",
       "      <td>2022-02-05</td>\n",
       "      <td>2.0</td>\n",
       "      <td>220164</td>\n",
       "      <td>Supermärkte</td>\n",
       "      <td>657</td>\n",
       "      <td>52</td>\n",
       "      <td>12.634615</td>\n",
       "    </tr>\n",
       "    <tr>\n",
       "      <th>23</th>\n",
       "      <td>Wir feiern 2 Jahre!</td>\n",
       "      <td>2022-01-30</td>\n",
       "      <td>2022-02-05</td>\n",
       "      <td>2.0</td>\n",
       "      <td>220164</td>\n",
       "      <td>Supermärkte</td>\n",
       "      <td>285</td>\n",
       "      <td>28</td>\n",
       "      <td>10.178571</td>\n",
       "    </tr>\n",
       "    <tr>\n",
       "      <th>8</th>\n",
       "      <td>Bio. Logisch. Für Alle.</td>\n",
       "      <td>2022-01-30</td>\n",
       "      <td>2022-02-05</td>\n",
       "      <td>2.0</td>\n",
       "      <td>220164</td>\n",
       "      <td>Supermärkte</td>\n",
       "      <td>17</td>\n",
       "      <td>4</td>\n",
       "      <td>4.250000</td>\n",
       "    </tr>\n",
       "    <tr>\n",
       "      <th>20</th>\n",
       "      <td>Unsere Super-Sparwoche!</td>\n",
       "      <td>2022-02-01</td>\n",
       "      <td>2022-02-08</td>\n",
       "      <td>2.0</td>\n",
       "      <td>220164</td>\n",
       "      <td>Supermärkte</td>\n",
       "      <td>17</td>\n",
       "      <td>5</td>\n",
       "      <td>3.400000</td>\n",
       "    </tr>\n",
       "  </tbody>\n",
       "</table>\n",
       "</div>"
      ],
      "text/plain": [
       "                                   title       pfrom      puntil  page_count  \\\n",
       "22            WIR MACHEN ORDNUNG EINFACH  2022-01-31  2022-02-05         8.0   \n",
       "16                          Top Angebote  2022-01-29  2022-02-02         1.0   \n",
       "15                      SMARTES ANGEBOT!  2022-02-01  2022-02-15         1.0   \n",
       "21            WIR MACHEN ORDNUNG EINFACH  2022-01-29  2022-02-05         8.0   \n",
       "5                      Aktuelle Angebote  2022-01-30  2022-02-03         8.0   \n",
       "3                      Aktuelle Angebote  2022-01-30  2022-02-03         4.0   \n",
       "7                      Aktuelle Angebote  2022-01-31  2022-02-12         8.0   \n",
       "4                      Aktuelle Angebote  2022-01-30  2022-02-03         5.0   \n",
       "6                      Aktuelle Angebote  2022-01-30  2022-02-05         1.0   \n",
       "12               FÜR BEIDES ENTSCHEIDEN!  2022-01-30  2022-02-05         7.0   \n",
       "17                          Top Angebote  2022-01-29  2022-02-02         4.0   \n",
       "19                          Top Angebote  2022-01-31  2022-02-05         9.0   \n",
       "1                      APPsolut sparsam!  2022-01-29  2022-02-02         5.0   \n",
       "18                          Top Angebote  2022-01-29  2022-02-02         8.0   \n",
       "0                        0% FINANZIERUNG  2022-01-25  2022-02-08         1.0   \n",
       "9      ENTDECKEN SIE UNSERE EIGENMARKEN!  2022-01-29  2022-02-02         2.0   \n",
       "10  Entdecken Sie Genuss aus der Region!  2022-01-30  2022-02-05         2.0   \n",
       "14                        SMART GESPART!  2022-02-01  2022-02-02         1.0   \n",
       "13     SMART GESPART UND SMART VERNETZT!  2022-02-01  2022-02-02         1.0   \n",
       "11  Entdecken Sie Vielfalt und Qualität.  2022-01-30  2022-02-02         4.0   \n",
       "2                      Aktuelle Angebote  2022-01-27  2022-02-02         6.0   \n",
       "25         Zusammen. Verführerisch. Gut.  2022-01-29  2022-02-02         2.0   \n",
       "24                   Wir feiern 4 Jahre!  2022-01-30  2022-02-05         2.0   \n",
       "23                   Wir feiern 2 Jahre!  2022-01-30  2022-02-05         2.0   \n",
       "8                Bio. Logisch. Für Alle.  2022-01-30  2022-02-05         2.0   \n",
       "20               Unsere Super-Sparwoche!  2022-02-01  2022-02-08         2.0   \n",
       "\n",
       "    publisher_id    sector_name  duration_sec  brochure_click_uuid  \\\n",
       "22          1042      Baumärkte          3469                   34   \n",
       "16        220164    Supermärkte          1666                   23   \n",
       "15          1065  Elektromärkte          2088                   36   \n",
       "21          1042      Baumärkte          4198                   83   \n",
       "5         220164    Supermärkte          9710                  193   \n",
       "3         220164    Supermärkte          3952                   80   \n",
       "7           1024  Elektromärkte          3072                   70   \n",
       "4         220164    Supermärkte           531                   13   \n",
       "6         220164    Supermärkte        349231                 9067   \n",
       "12          1065  Elektromärkte         12548                  343   \n",
       "17        220164    Supermärkte         12768                  402   \n",
       "19          1013     Discounter        155637                 5255   \n",
       "1         220164    Supermärkte          8018                  297   \n",
       "18        220164    Supermärkte           286                   11   \n",
       "0           1065  Elektromärkte         45964                 1888   \n",
       "9         220164    Supermärkte         13272                  593   \n",
       "10        220164    Supermärkte           214                   10   \n",
       "14          1065  Elektromärkte            84                    4   \n",
       "13          1065  Elektromärkte           208                   11   \n",
       "11        220164    Supermärkte          1691                   94   \n",
       "2           1024  Elektromärkte          3697                  211   \n",
       "25        220164    Supermärkte          4420                  306   \n",
       "24        220164    Supermärkte           657                   52   \n",
       "23        220164    Supermärkte           285                   28   \n",
       "8         220164    Supermärkte            17                    4   \n",
       "20        220164    Supermärkte            17                    5   \n",
       "\n",
       "    avg_duration  \n",
       "22    102.029412  \n",
       "16     72.434783  \n",
       "15     58.000000  \n",
       "21     50.578313  \n",
       "5      50.310881  \n",
       "3      49.400000  \n",
       "7      43.885714  \n",
       "4      40.846154  \n",
       "6      38.516709  \n",
       "12     36.583090  \n",
       "17     31.761194  \n",
       "19     29.616936  \n",
       "1      26.996633  \n",
       "18     26.000000  \n",
       "0      24.345339  \n",
       "9      22.381113  \n",
       "10     21.400000  \n",
       "14     21.000000  \n",
       "13     18.909091  \n",
       "11     17.989362  \n",
       "2      17.521327  \n",
       "25     14.444444  \n",
       "24     12.634615  \n",
       "23     10.178571  \n",
       "8       4.250000  \n",
       "20      3.400000  "
      ]
     },
     "execution_count": 434,
     "metadata": {},
     "output_type": "execute_result"
    }
   ],
   "source": [
    "unique_brochures_duration.sort_values('avg_duration',ascending=False)"
   ]
  },
  {
   "cell_type": "code",
   "execution_count": 428,
   "metadata": {},
   "outputs": [
    {
     "data": {
      "text/html": [
       "<div>\n",
       "<style scoped>\n",
       "    .dataframe tbody tr th:only-of-type {\n",
       "        vertical-align: middle;\n",
       "    }\n",
       "\n",
       "    .dataframe tbody tr th {\n",
       "        vertical-align: top;\n",
       "    }\n",
       "\n",
       "    .dataframe thead th {\n",
       "        text-align: right;\n",
       "    }\n",
       "</style>\n",
       "<table border=\"1\" class=\"dataframe\">\n",
       "  <thead>\n",
       "    <tr style=\"text-align: right;\">\n",
       "      <th></th>\n",
       "      <th>page_num_array</th>\n",
       "      <th>duration_sec</th>\n",
       "      <th>num_views</th>\n",
       "      <th>duration</th>\n",
       "    </tr>\n",
       "  </thead>\n",
       "  <tbody>\n",
       "    <tr>\n",
       "      <th>0</th>\n",
       "      <td>1</td>\n",
       "      <td>496242</td>\n",
       "      <td>18621</td>\n",
       "      <td>26.65</td>\n",
       "    </tr>\n",
       "    <tr>\n",
       "      <th>1</th>\n",
       "      <td>2</td>\n",
       "      <td>33659</td>\n",
       "      <td>5045</td>\n",
       "      <td>6.67</td>\n",
       "    </tr>\n",
       "    <tr>\n",
       "      <th>2</th>\n",
       "      <td>3</td>\n",
       "      <td>28848</td>\n",
       "      <td>4169</td>\n",
       "      <td>6.92</td>\n",
       "    </tr>\n",
       "    <tr>\n",
       "      <th>3</th>\n",
       "      <td>4</td>\n",
       "      <td>21213</td>\n",
       "      <td>3899</td>\n",
       "      <td>5.44</td>\n",
       "    </tr>\n",
       "    <tr>\n",
       "      <th>4</th>\n",
       "      <td>5</td>\n",
       "      <td>13678</td>\n",
       "      <td>3394</td>\n",
       "      <td>4.03</td>\n",
       "    </tr>\n",
       "    <tr>\n",
       "      <th>5</th>\n",
       "      <td>6</td>\n",
       "      <td>16463</td>\n",
       "      <td>3125</td>\n",
       "      <td>5.27</td>\n",
       "    </tr>\n",
       "    <tr>\n",
       "      <th>6</th>\n",
       "      <td>7</td>\n",
       "      <td>10352</td>\n",
       "      <td>2794</td>\n",
       "      <td>3.71</td>\n",
       "    </tr>\n",
       "    <tr>\n",
       "      <th>7</th>\n",
       "      <td>8</td>\n",
       "      <td>8664</td>\n",
       "      <td>2378</td>\n",
       "      <td>3.64</td>\n",
       "    </tr>\n",
       "    <tr>\n",
       "      <th>8</th>\n",
       "      <td>9</td>\n",
       "      <td>8581</td>\n",
       "      <td>2033</td>\n",
       "      <td>4.22</td>\n",
       "    </tr>\n",
       "  </tbody>\n",
       "</table>\n",
       "</div>"
      ],
      "text/plain": [
       "   page_num_array  duration_sec  num_views  duration\n",
       "0               1        496242      18621     26.65\n",
       "1               2         33659       5045      6.67\n",
       "2               3         28848       4169      6.92\n",
       "3               4         21213       3899      5.44\n",
       "4               5         13678       3394      4.03\n",
       "5               6         16463       3125      5.27\n",
       "6               7         10352       2794      3.71\n",
       "7               8          8664       2378      3.64\n",
       "8               9          8581       2033      4.22"
      ]
     },
     "execution_count": 428,
     "metadata": {},
     "output_type": "execute_result"
    }
   ],
   "source": [
    "duration_per_brochure_page = enters_and_exits_clean.groupby(['brochure_id','page_num_array'])\\\n",
    "                                                .agg({'duration_sec':sum,'page_num_array':'count','brochure_click_uuid':'nunique'})\\\n",
    "                                                    .rename(columns={'page_num_array':'num_views'}).reset_index()\n",
    "\n",
    "duration_per_brochure_page = duration_per_brochure_page.groupby('page_num_array').agg({'duration_sec':sum,'num_views':sum}).reset_index().sort_values('page_num_array')\n",
    "duration_per_brochure_page['duration'] = np.round(duration_per_brochure_page['duration_sec']/duration_per_brochure_page['num_views'],2)\n",
    "duration_per_brochure_page"
   ]
  },
  {
   "cell_type": "code",
   "execution_count": 410,
   "metadata": {},
   "outputs": [
    {
     "data": {
      "application/vnd.plotly.v1+json": {
       "config": {
        "plotlyServerURL": "https://plot.ly"
       },
       "data": [
        {
         "hovertemplate": "page_num_array=%{x}<br>duration=%{text}<extra></extra>",
         "legendgroup": "",
         "marker": {
          "color": "#636efa",
          "symbol": "circle"
         },
         "mode": "markers+text",
         "name": "",
         "orientation": "v",
         "showlegend": false,
         "text": [
          26.65,
          6.67,
          6.92,
          5.44,
          4.03,
          5.27,
          3.71,
          3.64,
          4.22
         ],
         "textposition": "bottom right",
         "type": "scatter",
         "x": [
          1,
          2,
          3,
          4,
          5,
          6,
          7,
          8,
          9
         ],
         "xaxis": "x",
         "y": [
          26.65,
          6.67,
          6.92,
          5.44,
          4.03,
          5.27,
          3.71,
          3.64,
          4.22
         ],
         "yaxis": "y"
        },
        {
         "hovertemplate": "<b>OLS trendline</b><br>duration = -1.75667 * page_num_array + 16.1778<br>R<sup>2</sup>=0.431665<br><br>page_num_array=%{x}<br>duration=%{y} <b>(trend)</b><extra></extra>",
         "legendgroup": "",
         "marker": {
          "color": "#636efa",
          "symbol": "circle"
         },
         "mode": "lines",
         "name": "",
         "showlegend": false,
         "textposition": "bottom right",
         "type": "scatter",
         "x": [
          1,
          2,
          3,
          4,
          5,
          6,
          7,
          8,
          9
         ],
         "xaxis": "x",
         "y": [
          14.421111111111111,
          12.664444444444445,
          10.907777777777778,
          9.151111111111112,
          7.394444444444446,
          5.637777777777778,
          3.881111111111112,
          2.124444444444446,
          0.3677777777777802
         ],
         "yaxis": "y"
        }
       ],
       "layout": {
        "legend": {
         "tracegroupgap": 0
        },
        "template": {
         "data": {
          "bar": [
           {
            "error_x": {
             "color": "#2a3f5f"
            },
            "error_y": {
             "color": "#2a3f5f"
            },
            "marker": {
             "line": {
              "color": "#E5ECF6",
              "width": 0.5
             },
             "pattern": {
              "fillmode": "overlay",
              "size": 10,
              "solidity": 0.2
             }
            },
            "type": "bar"
           }
          ],
          "barpolar": [
           {
            "marker": {
             "line": {
              "color": "#E5ECF6",
              "width": 0.5
             },
             "pattern": {
              "fillmode": "overlay",
              "size": 10,
              "solidity": 0.2
             }
            },
            "type": "barpolar"
           }
          ],
          "carpet": [
           {
            "aaxis": {
             "endlinecolor": "#2a3f5f",
             "gridcolor": "white",
             "linecolor": "white",
             "minorgridcolor": "white",
             "startlinecolor": "#2a3f5f"
            },
            "baxis": {
             "endlinecolor": "#2a3f5f",
             "gridcolor": "white",
             "linecolor": "white",
             "minorgridcolor": "white",
             "startlinecolor": "#2a3f5f"
            },
            "type": "carpet"
           }
          ],
          "choropleth": [
           {
            "colorbar": {
             "outlinewidth": 0,
             "ticks": ""
            },
            "type": "choropleth"
           }
          ],
          "contour": [
           {
            "colorbar": {
             "outlinewidth": 0,
             "ticks": ""
            },
            "colorscale": [
             [
              0,
              "#0d0887"
             ],
             [
              0.1111111111111111,
              "#46039f"
             ],
             [
              0.2222222222222222,
              "#7201a8"
             ],
             [
              0.3333333333333333,
              "#9c179e"
             ],
             [
              0.4444444444444444,
              "#bd3786"
             ],
             [
              0.5555555555555556,
              "#d8576b"
             ],
             [
              0.6666666666666666,
              "#ed7953"
             ],
             [
              0.7777777777777778,
              "#fb9f3a"
             ],
             [
              0.8888888888888888,
              "#fdca26"
             ],
             [
              1,
              "#f0f921"
             ]
            ],
            "type": "contour"
           }
          ],
          "contourcarpet": [
           {
            "colorbar": {
             "outlinewidth": 0,
             "ticks": ""
            },
            "type": "contourcarpet"
           }
          ],
          "heatmap": [
           {
            "colorbar": {
             "outlinewidth": 0,
             "ticks": ""
            },
            "colorscale": [
             [
              0,
              "#0d0887"
             ],
             [
              0.1111111111111111,
              "#46039f"
             ],
             [
              0.2222222222222222,
              "#7201a8"
             ],
             [
              0.3333333333333333,
              "#9c179e"
             ],
             [
              0.4444444444444444,
              "#bd3786"
             ],
             [
              0.5555555555555556,
              "#d8576b"
             ],
             [
              0.6666666666666666,
              "#ed7953"
             ],
             [
              0.7777777777777778,
              "#fb9f3a"
             ],
             [
              0.8888888888888888,
              "#fdca26"
             ],
             [
              1,
              "#f0f921"
             ]
            ],
            "type": "heatmap"
           }
          ],
          "heatmapgl": [
           {
            "colorbar": {
             "outlinewidth": 0,
             "ticks": ""
            },
            "colorscale": [
             [
              0,
              "#0d0887"
             ],
             [
              0.1111111111111111,
              "#46039f"
             ],
             [
              0.2222222222222222,
              "#7201a8"
             ],
             [
              0.3333333333333333,
              "#9c179e"
             ],
             [
              0.4444444444444444,
              "#bd3786"
             ],
             [
              0.5555555555555556,
              "#d8576b"
             ],
             [
              0.6666666666666666,
              "#ed7953"
             ],
             [
              0.7777777777777778,
              "#fb9f3a"
             ],
             [
              0.8888888888888888,
              "#fdca26"
             ],
             [
              1,
              "#f0f921"
             ]
            ],
            "type": "heatmapgl"
           }
          ],
          "histogram": [
           {
            "marker": {
             "pattern": {
              "fillmode": "overlay",
              "size": 10,
              "solidity": 0.2
             }
            },
            "type": "histogram"
           }
          ],
          "histogram2d": [
           {
            "colorbar": {
             "outlinewidth": 0,
             "ticks": ""
            },
            "colorscale": [
             [
              0,
              "#0d0887"
             ],
             [
              0.1111111111111111,
              "#46039f"
             ],
             [
              0.2222222222222222,
              "#7201a8"
             ],
             [
              0.3333333333333333,
              "#9c179e"
             ],
             [
              0.4444444444444444,
              "#bd3786"
             ],
             [
              0.5555555555555556,
              "#d8576b"
             ],
             [
              0.6666666666666666,
              "#ed7953"
             ],
             [
              0.7777777777777778,
              "#fb9f3a"
             ],
             [
              0.8888888888888888,
              "#fdca26"
             ],
             [
              1,
              "#f0f921"
             ]
            ],
            "type": "histogram2d"
           }
          ],
          "histogram2dcontour": [
           {
            "colorbar": {
             "outlinewidth": 0,
             "ticks": ""
            },
            "colorscale": [
             [
              0,
              "#0d0887"
             ],
             [
              0.1111111111111111,
              "#46039f"
             ],
             [
              0.2222222222222222,
              "#7201a8"
             ],
             [
              0.3333333333333333,
              "#9c179e"
             ],
             [
              0.4444444444444444,
              "#bd3786"
             ],
             [
              0.5555555555555556,
              "#d8576b"
             ],
             [
              0.6666666666666666,
              "#ed7953"
             ],
             [
              0.7777777777777778,
              "#fb9f3a"
             ],
             [
              0.8888888888888888,
              "#fdca26"
             ],
             [
              1,
              "#f0f921"
             ]
            ],
            "type": "histogram2dcontour"
           }
          ],
          "mesh3d": [
           {
            "colorbar": {
             "outlinewidth": 0,
             "ticks": ""
            },
            "type": "mesh3d"
           }
          ],
          "parcoords": [
           {
            "line": {
             "colorbar": {
              "outlinewidth": 0,
              "ticks": ""
             }
            },
            "type": "parcoords"
           }
          ],
          "pie": [
           {
            "automargin": true,
            "type": "pie"
           }
          ],
          "scatter": [
           {
            "fillpattern": {
             "fillmode": "overlay",
             "size": 10,
             "solidity": 0.2
            },
            "type": "scatter"
           }
          ],
          "scatter3d": [
           {
            "line": {
             "colorbar": {
              "outlinewidth": 0,
              "ticks": ""
             }
            },
            "marker": {
             "colorbar": {
              "outlinewidth": 0,
              "ticks": ""
             }
            },
            "type": "scatter3d"
           }
          ],
          "scattercarpet": [
           {
            "marker": {
             "colorbar": {
              "outlinewidth": 0,
              "ticks": ""
             }
            },
            "type": "scattercarpet"
           }
          ],
          "scattergeo": [
           {
            "marker": {
             "colorbar": {
              "outlinewidth": 0,
              "ticks": ""
             }
            },
            "type": "scattergeo"
           }
          ],
          "scattergl": [
           {
            "marker": {
             "colorbar": {
              "outlinewidth": 0,
              "ticks": ""
             }
            },
            "type": "scattergl"
           }
          ],
          "scattermapbox": [
           {
            "marker": {
             "colorbar": {
              "outlinewidth": 0,
              "ticks": ""
             }
            },
            "type": "scattermapbox"
           }
          ],
          "scatterpolar": [
           {
            "marker": {
             "colorbar": {
              "outlinewidth": 0,
              "ticks": ""
             }
            },
            "type": "scatterpolar"
           }
          ],
          "scatterpolargl": [
           {
            "marker": {
             "colorbar": {
              "outlinewidth": 0,
              "ticks": ""
             }
            },
            "type": "scatterpolargl"
           }
          ],
          "scatterternary": [
           {
            "marker": {
             "colorbar": {
              "outlinewidth": 0,
              "ticks": ""
             }
            },
            "type": "scatterternary"
           }
          ],
          "surface": [
           {
            "colorbar": {
             "outlinewidth": 0,
             "ticks": ""
            },
            "colorscale": [
             [
              0,
              "#0d0887"
             ],
             [
              0.1111111111111111,
              "#46039f"
             ],
             [
              0.2222222222222222,
              "#7201a8"
             ],
             [
              0.3333333333333333,
              "#9c179e"
             ],
             [
              0.4444444444444444,
              "#bd3786"
             ],
             [
              0.5555555555555556,
              "#d8576b"
             ],
             [
              0.6666666666666666,
              "#ed7953"
             ],
             [
              0.7777777777777778,
              "#fb9f3a"
             ],
             [
              0.8888888888888888,
              "#fdca26"
             ],
             [
              1,
              "#f0f921"
             ]
            ],
            "type": "surface"
           }
          ],
          "table": [
           {
            "cells": {
             "fill": {
              "color": "#EBF0F8"
             },
             "line": {
              "color": "white"
             }
            },
            "header": {
             "fill": {
              "color": "#C8D4E3"
             },
             "line": {
              "color": "white"
             }
            },
            "type": "table"
           }
          ]
         },
         "layout": {
          "annotationdefaults": {
           "arrowcolor": "#2a3f5f",
           "arrowhead": 0,
           "arrowwidth": 1
          },
          "autotypenumbers": "strict",
          "coloraxis": {
           "colorbar": {
            "outlinewidth": 0,
            "ticks": ""
           }
          },
          "colorscale": {
           "diverging": [
            [
             0,
             "#8e0152"
            ],
            [
             0.1,
             "#c51b7d"
            ],
            [
             0.2,
             "#de77ae"
            ],
            [
             0.3,
             "#f1b6da"
            ],
            [
             0.4,
             "#fde0ef"
            ],
            [
             0.5,
             "#f7f7f7"
            ],
            [
             0.6,
             "#e6f5d0"
            ],
            [
             0.7,
             "#b8e186"
            ],
            [
             0.8,
             "#7fbc41"
            ],
            [
             0.9,
             "#4d9221"
            ],
            [
             1,
             "#276419"
            ]
           ],
           "sequential": [
            [
             0,
             "#0d0887"
            ],
            [
             0.1111111111111111,
             "#46039f"
            ],
            [
             0.2222222222222222,
             "#7201a8"
            ],
            [
             0.3333333333333333,
             "#9c179e"
            ],
            [
             0.4444444444444444,
             "#bd3786"
            ],
            [
             0.5555555555555556,
             "#d8576b"
            ],
            [
             0.6666666666666666,
             "#ed7953"
            ],
            [
             0.7777777777777778,
             "#fb9f3a"
            ],
            [
             0.8888888888888888,
             "#fdca26"
            ],
            [
             1,
             "#f0f921"
            ]
           ],
           "sequentialminus": [
            [
             0,
             "#0d0887"
            ],
            [
             0.1111111111111111,
             "#46039f"
            ],
            [
             0.2222222222222222,
             "#7201a8"
            ],
            [
             0.3333333333333333,
             "#9c179e"
            ],
            [
             0.4444444444444444,
             "#bd3786"
            ],
            [
             0.5555555555555556,
             "#d8576b"
            ],
            [
             0.6666666666666666,
             "#ed7953"
            ],
            [
             0.7777777777777778,
             "#fb9f3a"
            ],
            [
             0.8888888888888888,
             "#fdca26"
            ],
            [
             1,
             "#f0f921"
            ]
           ]
          },
          "colorway": [
           "#636efa",
           "#EF553B",
           "#00cc96",
           "#ab63fa",
           "#FFA15A",
           "#19d3f3",
           "#FF6692",
           "#B6E880",
           "#FF97FF",
           "#FECB52"
          ],
          "font": {
           "color": "#2a3f5f"
          },
          "geo": {
           "bgcolor": "white",
           "lakecolor": "white",
           "landcolor": "#E5ECF6",
           "showlakes": true,
           "showland": true,
           "subunitcolor": "white"
          },
          "hoverlabel": {
           "align": "left"
          },
          "hovermode": "closest",
          "mapbox": {
           "style": "light"
          },
          "paper_bgcolor": "white",
          "plot_bgcolor": "#E5ECF6",
          "polar": {
           "angularaxis": {
            "gridcolor": "white",
            "linecolor": "white",
            "ticks": ""
           },
           "bgcolor": "#E5ECF6",
           "radialaxis": {
            "gridcolor": "white",
            "linecolor": "white",
            "ticks": ""
           }
          },
          "scene": {
           "xaxis": {
            "backgroundcolor": "#E5ECF6",
            "gridcolor": "white",
            "gridwidth": 2,
            "linecolor": "white",
            "showbackground": true,
            "ticks": "",
            "zerolinecolor": "white"
           },
           "yaxis": {
            "backgroundcolor": "#E5ECF6",
            "gridcolor": "white",
            "gridwidth": 2,
            "linecolor": "white",
            "showbackground": true,
            "ticks": "",
            "zerolinecolor": "white"
           },
           "zaxis": {
            "backgroundcolor": "#E5ECF6",
            "gridcolor": "white",
            "gridwidth": 2,
            "linecolor": "white",
            "showbackground": true,
            "ticks": "",
            "zerolinecolor": "white"
           }
          },
          "shapedefaults": {
           "line": {
            "color": "#2a3f5f"
           }
          },
          "ternary": {
           "aaxis": {
            "gridcolor": "white",
            "linecolor": "white",
            "ticks": ""
           },
           "baxis": {
            "gridcolor": "white",
            "linecolor": "white",
            "ticks": ""
           },
           "bgcolor": "#E5ECF6",
           "caxis": {
            "gridcolor": "white",
            "linecolor": "white",
            "ticks": ""
           }
          },
          "title": {
           "x": 0.05
          },
          "xaxis": {
           "automargin": true,
           "gridcolor": "white",
           "linecolor": "white",
           "ticks": "",
           "title": {
            "standoff": 15
           },
           "zerolinecolor": "white",
           "zerolinewidth": 2
          },
          "yaxis": {
           "automargin": true,
           "gridcolor": "white",
           "linecolor": "white",
           "ticks": "",
           "title": {
            "standoff": 15
           },
           "zerolinecolor": "white",
           "zerolinewidth": 2
          }
         }
        },
        "title": {
         "text": "Page view vs page position"
        },
        "xaxis": {
         "anchor": "y",
         "domain": [
          0,
          1
         ],
         "title": {
          "text": "Page position"
         }
        },
        "yaxis": {
         "anchor": "x",
         "domain": [
          0,
          1
         ],
         "title": {
          "text": "Page view duration (s)"
         }
        }
       }
      }
     },
     "metadata": {},
     "output_type": "display_data"
    }
   ],
   "source": [
    "duration_per_brochure_page\n",
    "\n",
    "fig = go.Figure()\n",
    "\n",
    "fig = px.scatter(duration_per_brochure_page, x=\"page_num_array\", y=\"duration\", title='Page view vs page position', text='duration', trendline=\"ols\")\\\n",
    "     .update_layout(yaxis_title='Page view duration (s)', xaxis_title='Page position')\n",
    "\n",
    "fig.update_traces(textposition=\"bottom right\")\n",
    "\n",
    "fig.show()"
   ]
  },
  {
   "cell_type": "code",
   "execution_count": 411,
   "metadata": {},
   "outputs": [
    {
     "data": {
      "text/plain": [
       "array([[ 1.        , -0.65701197],\n",
       "       [-0.65701197,  1.        ]])"
      ]
     },
     "execution_count": 411,
     "metadata": {},
     "output_type": "execute_result"
    }
   ],
   "source": [
    "#correlation between page number and page view duration\n",
    "r = np.corrcoef(duration_per_brochure_page['page_num_array'], duration_per_brochure_page['duration'])\n",
    "r"
   ]
  },
  {
   "cell_type": "code",
   "execution_count": null,
   "metadata": {},
   "outputs": [],
   "source": []
  }
 ],
 "metadata": {
  "kernelspec": {
   "display_name": "azubi",
   "language": "python",
   "name": "python3"
  },
  "language_info": {
   "codemirror_mode": {
    "name": "ipython",
    "version": 3
   },
   "file_extension": ".py",
   "mimetype": "text/x-python",
   "name": "python",
   "nbconvert_exporter": "python",
   "pygments_lexer": "ipython3",
   "version": "3.8.2"
  }
 },
 "nbformat": 4,
 "nbformat_minor": 2
}
